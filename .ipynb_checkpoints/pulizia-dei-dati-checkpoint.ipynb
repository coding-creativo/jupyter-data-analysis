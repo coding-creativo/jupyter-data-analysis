{
 "cells": [
  {
   "cell_type": "code",
   "execution_count": 5,
   "id": "123ea552-7d7e-498e-9bc1-cd8be36bb7da",
   "metadata": {},
   "outputs": [],
   "source": [
    "import pandas as pd\n",
    "import numpy as np"
   ]
  },
  {
   "cell_type": "markdown",
   "id": "68838a95-0cb3-45e4-8c0d-a8f4ab13da8c",
   "metadata": {},
   "source": [
    "## PULIZIA DEI DATI"
   ]
  },
  {
   "cell_type": "markdown",
   "id": "d4aa7a0f-d28e-498e-b02d-0852e8c498c7",
   "metadata": {},
   "source": [
    "A seconda della natura del dataset e del contesto dell'analisi, ci sono diverse tecniche che possono essere utilizzate per gestire \n",
    "i valori mancanti:\n",
    "\n",
    "1. ### Rimozione di Righe o Colonne con Valori Mancanti\n",
    "\n",
    "* Rimozione di righe: Utile quando solo poche righe contengono valori mancanti e la perdita di questi dati non influisce significativamente sull'analisi.\n",
    "* Rimozione di colonne: Utile quando una colonna ha un'alta percentuale di valori mancanti e non è essenziale per l'analisi.\n",
    "\n",
    "    ### Rimozione di righe con qualsiasi valore mancante\n",
    "  \n",
    "    ```df_dropped_rows = df.dropna()```\n",
    "\n",
    "    ### Rimozione di colonne con qualsiasi valore mancante\n",
    "  \n",
    "    ```df_dropped_cols = df.dropna(axis=1)```\n",
    "\n",
    "    ### Rimozione di righe se più del 50% dei valori sono mancanti\n",
    "  \n",
    "    ```df_dropped_rows_thresh = df.dropna(thresh=df.shape[1] * 0.5)```\n",
    "\n",
    "  ### Rimozione di colonne se più del 50% dei valori sono mancanti\r",
    "   ```df_dropped_rows_thresh = df.dropna(axis=1, thresh=df.shape[1] * 0.5)```\n",
    "  \n",
    "  \n"
   ]
  },
  {
   "cell_type": "code",
   "execution_count": 63,
   "id": "5037bb2a-72f0-43e6-9f65-49986b29da54",
   "metadata": {},
   "outputs": [
    {
     "name": "stdout",
     "output_type": "stream",
     "text": [
      "Dataset originale:\n"
     ]
    },
    {
     "data": {
      "text/html": [
       "<div>\n",
       "<style scoped>\n",
       "    .dataframe tbody tr th:only-of-type {\n",
       "        vertical-align: middle;\n",
       "    }\n",
       "\n",
       "    .dataframe tbody tr th {\n",
       "        vertical-align: top;\n",
       "    }\n",
       "\n",
       "    .dataframe thead th {\n",
       "        text-align: right;\n",
       "    }\n",
       "</style>\n",
       "<table border=\"1\" class=\"dataframe\">\n",
       "  <thead>\n",
       "    <tr style=\"text-align: right;\">\n",
       "      <th></th>\n",
       "      <th>A</th>\n",
       "      <th>B</th>\n",
       "      <th>C</th>\n",
       "    </tr>\n",
       "  </thead>\n",
       "  <tbody>\n",
       "    <tr>\n",
       "      <th>0</th>\n",
       "      <td>1.0</td>\n",
       "      <td>NaN</td>\n",
       "      <td>100</td>\n",
       "    </tr>\n",
       "    <tr>\n",
       "      <th>1</th>\n",
       "      <td>2.0</td>\n",
       "      <td>10.0</td>\n",
       "      <td>200</td>\n",
       "    </tr>\n",
       "    <tr>\n",
       "      <th>2</th>\n",
       "      <td>NaN</td>\n",
       "      <td>NaN</td>\n",
       "      <td>300</td>\n",
       "    </tr>\n",
       "    <tr>\n",
       "      <th>3</th>\n",
       "      <td>4.0</td>\n",
       "      <td>NaN</td>\n",
       "      <td>400</td>\n",
       "    </tr>\n",
       "    <tr>\n",
       "      <th>4</th>\n",
       "      <td>5.0</td>\n",
       "      <td>50.0</td>\n",
       "      <td>500</td>\n",
       "    </tr>\n",
       "  </tbody>\n",
       "</table>\n",
       "</div>"
      ],
      "text/plain": [
       "     A     B    C\n",
       "0  1.0   NaN  100\n",
       "1  2.0  10.0  200\n",
       "2  NaN   NaN  300\n",
       "3  4.0   NaN  400\n",
       "4  5.0  50.0  500"
      ]
     },
     "execution_count": 63,
     "metadata": {},
     "output_type": "execute_result"
    }
   ],
   "source": [
    "# Creazione di un dataset di esempio\n",
    "data = {\n",
    "    'A': [1, 2, None, 4, 5],\n",
    "    'B': [None, 10, None, None, 50],\n",
    "    'C': [100, 200, 300, 400, 500]\n",
    "}\n",
    "\n",
    "df = pd.DataFrame(data)\n",
    "print(\"Dataset originale:\")\n",
    "df\n"
   ]
  },
  {
   "cell_type": "code",
   "execution_count": 65,
   "id": "51cd9a69-71c8-41db-bcad-f7f6db397b0f",
   "metadata": {},
   "outputs": [
    {
     "name": "stdout",
     "output_type": "stream",
     "text": [
      "\n",
      "Dataset dopo la rimozione di righe con valori mancanti:\n"
     ]
    },
    {
     "data": {
      "text/html": [
       "<div>\n",
       "<style scoped>\n",
       "    .dataframe tbody tr th:only-of-type {\n",
       "        vertical-align: middle;\n",
       "    }\n",
       "\n",
       "    .dataframe tbody tr th {\n",
       "        vertical-align: top;\n",
       "    }\n",
       "\n",
       "    .dataframe thead th {\n",
       "        text-align: right;\n",
       "    }\n",
       "</style>\n",
       "<table border=\"1\" class=\"dataframe\">\n",
       "  <thead>\n",
       "    <tr style=\"text-align: right;\">\n",
       "      <th></th>\n",
       "      <th>A</th>\n",
       "      <th>B</th>\n",
       "      <th>C</th>\n",
       "    </tr>\n",
       "  </thead>\n",
       "  <tbody>\n",
       "    <tr>\n",
       "      <th>1</th>\n",
       "      <td>2.0</td>\n",
       "      <td>10.0</td>\n",
       "      <td>200</td>\n",
       "    </tr>\n",
       "    <tr>\n",
       "      <th>4</th>\n",
       "      <td>5.0</td>\n",
       "      <td>50.0</td>\n",
       "      <td>500</td>\n",
       "    </tr>\n",
       "  </tbody>\n",
       "</table>\n",
       "</div>"
      ],
      "text/plain": [
       "     A     B    C\n",
       "1  2.0  10.0  200\n",
       "4  5.0  50.0  500"
      ]
     },
     "execution_count": 65,
     "metadata": {},
     "output_type": "execute_result"
    }
   ],
   "source": [
    "# Rimozione di righe con qualsiasi valore mancante\n",
    "df_dropped_rows = df.dropna()\n",
    "print(\"\\nDataset dopo la rimozione di righe con valori mancanti:\")\n",
    "df_dropped_rows\n"
   ]
  },
  {
   "cell_type": "code",
   "execution_count": 67,
   "id": "ce91c3c0-6085-4fc4-b303-dc50c7f226fe",
   "metadata": {},
   "outputs": [
    {
     "name": "stdout",
     "output_type": "stream",
     "text": [
      "\n",
      "Dataset dopo la rimozione di colonne con valori mancanti:\n"
     ]
    },
    {
     "data": {
      "text/html": [
       "<div>\n",
       "<style scoped>\n",
       "    .dataframe tbody tr th:only-of-type {\n",
       "        vertical-align: middle;\n",
       "    }\n",
       "\n",
       "    .dataframe tbody tr th {\n",
       "        vertical-align: top;\n",
       "    }\n",
       "\n",
       "    .dataframe thead th {\n",
       "        text-align: right;\n",
       "    }\n",
       "</style>\n",
       "<table border=\"1\" class=\"dataframe\">\n",
       "  <thead>\n",
       "    <tr style=\"text-align: right;\">\n",
       "      <th></th>\n",
       "      <th>C</th>\n",
       "    </tr>\n",
       "  </thead>\n",
       "  <tbody>\n",
       "    <tr>\n",
       "      <th>0</th>\n",
       "      <td>100</td>\n",
       "    </tr>\n",
       "    <tr>\n",
       "      <th>1</th>\n",
       "      <td>200</td>\n",
       "    </tr>\n",
       "    <tr>\n",
       "      <th>2</th>\n",
       "      <td>300</td>\n",
       "    </tr>\n",
       "    <tr>\n",
       "      <th>3</th>\n",
       "      <td>400</td>\n",
       "    </tr>\n",
       "    <tr>\n",
       "      <th>4</th>\n",
       "      <td>500</td>\n",
       "    </tr>\n",
       "  </tbody>\n",
       "</table>\n",
       "</div>"
      ],
      "text/plain": [
       "     C\n",
       "0  100\n",
       "1  200\n",
       "2  300\n",
       "3  400\n",
       "4  500"
      ]
     },
     "execution_count": 67,
     "metadata": {},
     "output_type": "execute_result"
    }
   ],
   "source": [
    "# Rimozione di colonne con qualsiasi valore mancante\n",
    "df_dropped_cols = df.dropna(axis=1)\n",
    "print(\"\\nDataset dopo la rimozione di colonne con valori mancanti:\")\n",
    "df_dropped_cols\n"
   ]
  },
  {
   "cell_type": "code",
   "execution_count": 69,
   "id": "0590c2fa-5f01-418e-afdb-abb52cd9eb31",
   "metadata": {},
   "outputs": [
    {
     "name": "stdout",
     "output_type": "stream",
     "text": [
      "\n",
      "Dataset dopo la rimozione di righe con più del 50% di valori mancanti:\n"
     ]
    },
    {
     "data": {
      "text/html": [
       "<div>\n",
       "<style scoped>\n",
       "    .dataframe tbody tr th:only-of-type {\n",
       "        vertical-align: middle;\n",
       "    }\n",
       "\n",
       "    .dataframe tbody tr th {\n",
       "        vertical-align: top;\n",
       "    }\n",
       "\n",
       "    .dataframe thead th {\n",
       "        text-align: right;\n",
       "    }\n",
       "</style>\n",
       "<table border=\"1\" class=\"dataframe\">\n",
       "  <thead>\n",
       "    <tr style=\"text-align: right;\">\n",
       "      <th></th>\n",
       "      <th>A</th>\n",
       "      <th>B</th>\n",
       "      <th>C</th>\n",
       "    </tr>\n",
       "  </thead>\n",
       "  <tbody>\n",
       "    <tr>\n",
       "      <th>0</th>\n",
       "      <td>1.0</td>\n",
       "      <td>NaN</td>\n",
       "      <td>100</td>\n",
       "    </tr>\n",
       "    <tr>\n",
       "      <th>1</th>\n",
       "      <td>2.0</td>\n",
       "      <td>10.0</td>\n",
       "      <td>200</td>\n",
       "    </tr>\n",
       "    <tr>\n",
       "      <th>3</th>\n",
       "      <td>4.0</td>\n",
       "      <td>NaN</td>\n",
       "      <td>400</td>\n",
       "    </tr>\n",
       "    <tr>\n",
       "      <th>4</th>\n",
       "      <td>5.0</td>\n",
       "      <td>50.0</td>\n",
       "      <td>500</td>\n",
       "    </tr>\n",
       "  </tbody>\n",
       "</table>\n",
       "</div>"
      ],
      "text/plain": [
       "     A     B    C\n",
       "0  1.0   NaN  100\n",
       "1  2.0  10.0  200\n",
       "3  4.0   NaN  400\n",
       "4  5.0  50.0  500"
      ]
     },
     "execution_count": 69,
     "metadata": {},
     "output_type": "execute_result"
    }
   ],
   "source": [
    "# Rimozione di righe se più del 50% dei valori sono mancanti\n",
    "df_dropped_rows_thresh = df.dropna(thresh=df.shape[1] * 0.5)\n",
    "print(\"\\nDataset dopo la rimozione di righe con più del 50% di valori mancanti:\")\n",
    "df_dropped_rows_thresh\n"
   ]
  },
  {
   "cell_type": "code",
   "execution_count": 71,
   "id": "75f04a24-de69-49fc-9db9-d4f255400de5",
   "metadata": {},
   "outputs": [
    {
     "name": "stdout",
     "output_type": "stream",
     "text": [
      "\n",
      "Dataset dopo la rimozione di righe con più del 50% di valori mancanti:\n"
     ]
    },
    {
     "data": {
      "text/html": [
       "<div>\n",
       "<style scoped>\n",
       "    .dataframe tbody tr th:only-of-type {\n",
       "        vertical-align: middle;\n",
       "    }\n",
       "\n",
       "    .dataframe tbody tr th {\n",
       "        vertical-align: top;\n",
       "    }\n",
       "\n",
       "    .dataframe thead th {\n",
       "        text-align: right;\n",
       "    }\n",
       "</style>\n",
       "<table border=\"1\" class=\"dataframe\">\n",
       "  <thead>\n",
       "    <tr style=\"text-align: right;\">\n",
       "      <th></th>\n",
       "      <th>A</th>\n",
       "      <th>C</th>\n",
       "    </tr>\n",
       "  </thead>\n",
       "  <tbody>\n",
       "    <tr>\n",
       "      <th>0</th>\n",
       "      <td>1.0</td>\n",
       "      <td>100</td>\n",
       "    </tr>\n",
       "    <tr>\n",
       "      <th>1</th>\n",
       "      <td>2.0</td>\n",
       "      <td>200</td>\n",
       "    </tr>\n",
       "    <tr>\n",
       "      <th>2</th>\n",
       "      <td>NaN</td>\n",
       "      <td>300</td>\n",
       "    </tr>\n",
       "    <tr>\n",
       "      <th>3</th>\n",
       "      <td>4.0</td>\n",
       "      <td>400</td>\n",
       "    </tr>\n",
       "    <tr>\n",
       "      <th>4</th>\n",
       "      <td>5.0</td>\n",
       "      <td>500</td>\n",
       "    </tr>\n",
       "  </tbody>\n",
       "</table>\n",
       "</div>"
      ],
      "text/plain": [
       "     A    C\n",
       "0  1.0  100\n",
       "1  2.0  200\n",
       "2  NaN  300\n",
       "3  4.0  400\n",
       "4  5.0  500"
      ]
     },
     "execution_count": 71,
     "metadata": {},
     "output_type": "execute_result"
    }
   ],
   "source": [
    "# Rimozione di colonne se più del 50% dei valori sono mancanti\n",
    "df_dropped_rows_thresh = df.dropna(axis=1, thresh=df.shape[0] * 0.5)\n",
    "print(\"\\nDataset dopo la rimozione di righe con più del 50% di valori mancanti:\")\n",
    "df_dropped_rows_thresh\n"
   ]
  },
  {
   "cell_type": "markdown",
   "id": "0916626e-84ad-45a8-917a-4fd18b102c8d",
   "metadata": {},
   "source": [
    "2. ### Sostituzione con Statistiche di Base:\n",
    "* Media: Utile per variabili numeriche con distribuzione simmetrica. \n",
    "* Mediana: Utile per variabili numeriche con distribuzione asimmetrica o presenza di outlier.\n",
    "  Un outlier, o valore anomalo, è un punto di dati che si discosta significativamente dagli altri all'interno di un dataset (dovuto a diversi fattori, tra cui errori di misurazione, errori casuali, o fenomeni reali ma rari che si verificano nel fenomeno studiato. Gli outlier possono influenzare negativamente l'analisi statistica, introducendo distorsioni nei risultati e nelle conclusioni.).\n",
    "  Calcolando l'IQR, che è la differenza tra il terzo quartile (Q3) e il primo quartile (Q1), è possibile definire un intervallo per identificare gli outlier.\n",
    "* Moda: Utile per variabili categoriali.\n",
    "\n",
    "   ### Sostituzione con la media\n",
    "    ```df['column_name'].fillna(df['column_name'].mean(), inplace=True)```\n",
    "\n",
    "  ### Imputazione con la mediana\n",
    "    ```df['column_name'].fillna(df['column_name'].median(), inplace=True)```\n",
    "\n",
    "  ### Imputazione con la moda\n",
    "    ```df['column_name'].fillna(df['column_name'].mode()[0], inplace=True)```"
   ]
  },
  {
   "cell_type": "code",
   "execution_count": 73,
   "id": "e20f433f-c870-4303-8c4e-a422784d235c",
   "metadata": {},
   "outputs": [
    {
     "name": "stdout",
     "output_type": "stream",
     "text": [
      "Dataset originale:\n"
     ]
    },
    {
     "data": {
      "text/html": [
       "<div>\n",
       "<style scoped>\n",
       "    .dataframe tbody tr th:only-of-type {\n",
       "        vertical-align: middle;\n",
       "    }\n",
       "\n",
       "    .dataframe tbody tr th {\n",
       "        vertical-align: top;\n",
       "    }\n",
       "\n",
       "    .dataframe thead th {\n",
       "        text-align: right;\n",
       "    }\n",
       "</style>\n",
       "<table border=\"1\" class=\"dataframe\">\n",
       "  <thead>\n",
       "    <tr style=\"text-align: right;\">\n",
       "      <th></th>\n",
       "      <th>Age</th>\n",
       "      <th>Fare</th>\n",
       "      <th>Embarked</th>\n",
       "    </tr>\n",
       "  </thead>\n",
       "  <tbody>\n",
       "    <tr>\n",
       "      <th>0</th>\n",
       "      <td>22.0</td>\n",
       "      <td>7.25</td>\n",
       "      <td>S</td>\n",
       "    </tr>\n",
       "    <tr>\n",
       "      <th>1</th>\n",
       "      <td>38.0</td>\n",
       "      <td>71.28</td>\n",
       "      <td>C</td>\n",
       "    </tr>\n",
       "    <tr>\n",
       "      <th>2</th>\n",
       "      <td>NaN</td>\n",
       "      <td>NaN</td>\n",
       "      <td>Q</td>\n",
       "    </tr>\n",
       "    <tr>\n",
       "      <th>3</th>\n",
       "      <td>35.0</td>\n",
       "      <td>53.10</td>\n",
       "      <td>None</td>\n",
       "    </tr>\n",
       "    <tr>\n",
       "      <th>4</th>\n",
       "      <td>30.0</td>\n",
       "      <td>8.05</td>\n",
       "      <td>S</td>\n",
       "    </tr>\n",
       "  </tbody>\n",
       "</table>\n",
       "</div>"
      ],
      "text/plain": [
       "    Age   Fare Embarked\n",
       "0  22.0   7.25        S\n",
       "1  38.0  71.28        C\n",
       "2   NaN    NaN        Q\n",
       "3  35.0  53.10     None\n",
       "4  30.0   8.05        S"
      ]
     },
     "execution_count": 73,
     "metadata": {},
     "output_type": "execute_result"
    }
   ],
   "source": [
    "# Creazione di un dataset di esempio\n",
    "data = {\n",
    "    'Age': [22, 38, None, 35, 30],\n",
    "    'Fare': [7.25, 71.28, None, 53.10, 8.05],\n",
    "    'Embarked': ['S', 'C', 'Q', None, 'S']\n",
    "}\n",
    "\n",
    "df = pd.DataFrame(data)\n",
    "print(\"Dataset originale:\")\n",
    "df\n"
   ]
  },
  {
   "cell_type": "code",
   "execution_count": 75,
   "id": "403ac60b-0e51-4e9f-9c51-75c115627af4",
   "metadata": {},
   "outputs": [
    {
     "name": "stdout",
     "output_type": "stream",
     "text": [
      "\n",
      "Dataset dopo la sostituzione con la media:\n"
     ]
    },
    {
     "data": {
      "text/html": [
       "<div>\n",
       "<style scoped>\n",
       "    .dataframe tbody tr th:only-of-type {\n",
       "        vertical-align: middle;\n",
       "    }\n",
       "\n",
       "    .dataframe tbody tr th {\n",
       "        vertical-align: top;\n",
       "    }\n",
       "\n",
       "    .dataframe thead th {\n",
       "        text-align: right;\n",
       "    }\n",
       "</style>\n",
       "<table border=\"1\" class=\"dataframe\">\n",
       "  <thead>\n",
       "    <tr style=\"text-align: right;\">\n",
       "      <th></th>\n",
       "      <th>Age</th>\n",
       "      <th>Fare</th>\n",
       "      <th>Embarked</th>\n",
       "    </tr>\n",
       "  </thead>\n",
       "  <tbody>\n",
       "    <tr>\n",
       "      <th>0</th>\n",
       "      <td>22.00</td>\n",
       "      <td>7.25</td>\n",
       "      <td>S</td>\n",
       "    </tr>\n",
       "    <tr>\n",
       "      <th>1</th>\n",
       "      <td>38.00</td>\n",
       "      <td>71.28</td>\n",
       "      <td>C</td>\n",
       "    </tr>\n",
       "    <tr>\n",
       "      <th>2</th>\n",
       "      <td>31.25</td>\n",
       "      <td>34.92</td>\n",
       "      <td>Q</td>\n",
       "    </tr>\n",
       "    <tr>\n",
       "      <th>3</th>\n",
       "      <td>35.00</td>\n",
       "      <td>53.10</td>\n",
       "      <td>None</td>\n",
       "    </tr>\n",
       "    <tr>\n",
       "      <th>4</th>\n",
       "      <td>30.00</td>\n",
       "      <td>8.05</td>\n",
       "      <td>S</td>\n",
       "    </tr>\n",
       "  </tbody>\n",
       "</table>\n",
       "</div>"
      ],
      "text/plain": [
       "     Age   Fare Embarked\n",
       "0  22.00   7.25        S\n",
       "1  38.00  71.28        C\n",
       "2  31.25  34.92        Q\n",
       "3  35.00  53.10     None\n",
       "4  30.00   8.05        S"
      ]
     },
     "execution_count": 75,
     "metadata": {},
     "output_type": "execute_result"
    }
   ],
   "source": [
    "# sostituzione con la media - è appropriata per variabili come Age e Fare.\n",
    "\n",
    "# Sostituzione dei valori mancanti nella colonna 'Age' con la media\n",
    "df['Age'].fillna(df['Age'].mean(), inplace=True)\n",
    "\n",
    "# Sostituzione dei valori mancanti nella colonna 'Fare' con la media\n",
    "df['Fare'].fillna(df['Fare'].mean(), inplace=True)\n",
    "\n",
    "print(\"\\nDataset dopo la sostituzione con la media:\")\n",
    "df\n"
   ]
  },
  {
   "cell_type": "code",
   "execution_count": 79,
   "id": "b05bfa69-90c8-4bc6-910a-57be9de77b6b",
   "metadata": {},
   "outputs": [
    {
     "data": {
      "text/html": [
       "<div>\n",
       "<style scoped>\n",
       "    .dataframe tbody tr th:only-of-type {\n",
       "        vertical-align: middle;\n",
       "    }\n",
       "\n",
       "    .dataframe tbody tr th {\n",
       "        vertical-align: top;\n",
       "    }\n",
       "\n",
       "    .dataframe thead th {\n",
       "        text-align: right;\n",
       "    }\n",
       "</style>\n",
       "<table border=\"1\" class=\"dataframe\">\n",
       "  <thead>\n",
       "    <tr style=\"text-align: right;\">\n",
       "      <th></th>\n",
       "      <th>Age</th>\n",
       "      <th>Fare</th>\n",
       "    </tr>\n",
       "  </thead>\n",
       "  <tbody>\n",
       "    <tr>\n",
       "      <th>count</th>\n",
       "      <td>5.000000</td>\n",
       "      <td>5.000000</td>\n",
       "    </tr>\n",
       "    <tr>\n",
       "      <th>mean</th>\n",
       "      <td>31.250000</td>\n",
       "      <td>34.920000</td>\n",
       "    </tr>\n",
       "    <tr>\n",
       "      <th>std</th>\n",
       "      <td>6.057021</td>\n",
       "      <td>28.018689</td>\n",
       "    </tr>\n",
       "    <tr>\n",
       "      <th>min</th>\n",
       "      <td>22.000000</td>\n",
       "      <td>7.250000</td>\n",
       "    </tr>\n",
       "    <tr>\n",
       "      <th>25%</th>\n",
       "      <td>30.000000</td>\n",
       "      <td>8.050000</td>\n",
       "    </tr>\n",
       "    <tr>\n",
       "      <th>50%</th>\n",
       "      <td>31.250000</td>\n",
       "      <td>34.920000</td>\n",
       "    </tr>\n",
       "    <tr>\n",
       "      <th>75%</th>\n",
       "      <td>35.000000</td>\n",
       "      <td>53.100000</td>\n",
       "    </tr>\n",
       "    <tr>\n",
       "      <th>max</th>\n",
       "      <td>38.000000</td>\n",
       "      <td>71.280000</td>\n",
       "    </tr>\n",
       "  </tbody>\n",
       "</table>\n",
       "</div>"
      ],
      "text/plain": [
       "             Age       Fare\n",
       "count   5.000000   5.000000\n",
       "mean   31.250000  34.920000\n",
       "std     6.057021  28.018689\n",
       "min    22.000000   7.250000\n",
       "25%    30.000000   8.050000\n",
       "50%    31.250000  34.920000\n",
       "75%    35.000000  53.100000\n",
       "max    38.000000  71.280000"
      ]
     },
     "execution_count": 79,
     "metadata": {},
     "output_type": "execute_result"
    }
   ],
   "source": [
    "df.describe()"
   ]
  },
  {
   "cell_type": "code",
   "execution_count": 113,
   "id": "9b267033-3fd0-48b9-819e-077fc0c4ad27",
   "metadata": {},
   "outputs": [
    {
     "name": "stdout",
     "output_type": "stream",
     "text": [
      "             Age       Fare\n",
      "count   4.000000   4.000000\n",
      "mean   46.250000  34.920000\n",
      "std    29.981939  32.353196\n",
      "min    22.000000   7.250000\n",
      "25%    31.750000   7.850000\n",
      "50%    36.500000  30.575000\n",
      "75%    51.000000  57.645000\n",
      "max    90.000000  71.280000\n"
     ]
    },
    {
     "data": {
      "text/plain": [
       "19.25"
      ]
     },
     "execution_count": 113,
     "metadata": {},
     "output_type": "execute_result"
    }
   ],
   "source": [
    "# Creazione di un dataset di esempio\n",
    "data = {\n",
    "    'Age': [22, 38, None, 35, 30],\n",
    "    'Fare': [7.25, 71.28, None, 53.10, 8.05],\n",
    "    'Embarked': ['S', 'C', 'Q', None, 'S']\n",
    "}\n",
    "\n",
    "df = pd.DataFrame(data)\n",
    "print(df.describe())\n",
    "\n",
    "# Calcolo dell'IQR per la colonna 'Age'\n",
    "Q1 = df['Age'].quantile(0.25)\n",
    "Q3 = df['Age'].quantile(0.75)\n",
    "IQR = Q3 - Q1\n",
    "IQR"
   ]
  },
  {
   "cell_type": "code",
   "execution_count": 115,
   "id": "9c7894fe-a5a7-47a4-9504-0f8393cf43a6",
   "metadata": {},
   "outputs": [
    {
     "data": {
      "text/plain": [
       "count     4.000000\n",
       "mean     46.250000\n",
       "std      29.981939\n",
       "min      22.000000\n",
       "25%      31.750000\n",
       "50%      36.500000\n",
       "75%      51.000000\n",
       "max      90.000000\n",
       "Name: Age, dtype: float64"
      ]
     },
     "execution_count": 115,
     "metadata": {},
     "output_type": "execute_result"
    }
   ],
   "source": [
    "df['Age'].describe()"
   ]
  },
  {
   "cell_type": "code",
   "execution_count": 117,
   "id": "0b033138-0a6c-4c64-b628-5a4d4099655a",
   "metadata": {},
   "outputs": [
    {
     "name": "stdout",
     "output_type": "stream",
     "text": [
      "2.875\n",
      "79.875\n",
      "Outlier individuati con IQR:\n",
      "4    90.0\n",
      "Name: Age, dtype: float64\n"
     ]
    }
   ],
   "source": [
    "# Individuazione degli outlier\n",
    "lower_bound = Q1 - 1.5 * IQR\n",
    "print(lower_bound)\n",
    "\n",
    "upper_bound = Q3 + 1.5 * IQR\n",
    "print(upper_bound)\n",
    "\n",
    "outliers = df[(df['Age'] < lower_bound) | (df['Age'] > upper_bound)]['Age']\n",
    "\n",
    "print(\"Outlier individuati con IQR:\")\n",
    "print(outliers)"
   ]
  },
  {
   "cell_type": "code",
   "execution_count": 119,
   "id": "5802bf03-9d0f-4133-b365-85a614e5d1d7",
   "metadata": {},
   "outputs": [
    {
     "data": {
      "text/plain": [
       "0    22.0\n",
       "1    38.0\n",
       "3    35.0\n",
       "4    90.0\n",
       "Name: Age, dtype: float64"
      ]
     },
     "execution_count": 119,
     "metadata": {},
     "output_type": "execute_result"
    }
   ],
   "source": [
    "# Seleziona i valori sull'età senza valori mancanti\n",
    "age_values_senza_nan = df['Age'].dropna()\n",
    "age_values_senza_nan"
   ]
  },
  {
   "cell_type": "code",
   "execution_count": 121,
   "id": "07a9bd93-2f76-4c3a-9591-5624b181b8aa",
   "metadata": {},
   "outputs": [
    {
     "data": {
      "text/plain": [
       "0    22.0\n",
       "1    38.0\n",
       "2     NaN\n",
       "3    35.0\n",
       "4    90.0\n",
       "Name: Age, dtype: float64"
      ]
     },
     "execution_count": 121,
     "metadata": {},
     "output_type": "execute_result"
    }
   ],
   "source": [
    "age_values = df['Age']\n",
    "age_values"
   ]
  },
  {
   "cell_type": "code",
   "execution_count": 123,
   "id": "77cf5a62-8025-44a1-b8d6-c67cf67ea5d7",
   "metadata": {},
   "outputs": [
    {
     "data": {
      "text/plain": [
       "1.669541320075363"
      ]
     },
     "execution_count": 123,
     "metadata": {},
     "output_type": "execute_result"
    }
   ],
   "source": [
    "age_values.skew() # la skewness (asimmetria) è minore di 0 - allora si può considerare considerare l'utilizzo della mediana anziché della media "
   ]
  },
  {
   "cell_type": "code",
   "execution_count": 23,
   "id": "ec4a388b-43a7-4afe-9484-0768f5e78601",
   "metadata": {},
   "outputs": [
    {
     "name": "stdout",
     "output_type": "stream",
     "text": [
      "La distribuzione è asimmetrica (skewness < 0)\n"
     ]
    }
   ],
   "source": [
    "# Controllo della distribuzione per valutare simmetria e outlier\n",
    "if age_values.skew() < 0:\n",
    "    print(\"La distribuzione è asimmetrica (skewness < 0)\")\n",
    "else:\n",
    "    print(\"La distribuzione è simmetrica o approssimativamente simmetrica (skewness >= 0)\")\n"
   ]
  },
  {
   "cell_type": "code",
   "execution_count": 24,
   "id": "7f105786-049b-484c-8310-a3a7a7a42e8d",
   "metadata": {},
   "outputs": [
    {
     "data": {
      "text/plain": [
       "1"
      ]
     },
     "execution_count": 24,
     "metadata": {},
     "output_type": "execute_result"
    }
   ],
   "source": [
    "# Conteggio dei valori mancanti nell'età\n",
    "missing_count = df['Age'].isnull().sum()\n",
    "missing_count"
   ]
  },
  {
   "cell_type": "code",
   "execution_count": 25,
   "id": "8a0b2cb9-b85f-4a4e-ab00-41945b739c7b",
   "metadata": {},
   "outputs": [
    {
     "name": "stdout",
     "output_type": "stream",
     "text": [
      "Sostituire con la mediana per la distribuzione asimmetrica.\n"
     ]
    },
    {
     "data": {
      "text/html": [
       "<div>\n",
       "<style scoped>\n",
       "    .dataframe tbody tr th:only-of-type {\n",
       "        vertical-align: middle;\n",
       "    }\n",
       "\n",
       "    .dataframe tbody tr th {\n",
       "        vertical-align: top;\n",
       "    }\n",
       "\n",
       "    .dataframe thead th {\n",
       "        text-align: right;\n",
       "    }\n",
       "</style>\n",
       "<table border=\"1\" class=\"dataframe\">\n",
       "  <thead>\n",
       "    <tr style=\"text-align: right;\">\n",
       "      <th></th>\n",
       "      <th>Age</th>\n",
       "      <th>Fare</th>\n",
       "      <th>Embarked</th>\n",
       "    </tr>\n",
       "  </thead>\n",
       "  <tbody>\n",
       "    <tr>\n",
       "      <th>0</th>\n",
       "      <td>22.0</td>\n",
       "      <td>7.25</td>\n",
       "      <td>S</td>\n",
       "    </tr>\n",
       "    <tr>\n",
       "      <th>1</th>\n",
       "      <td>38.0</td>\n",
       "      <td>71.28</td>\n",
       "      <td>C</td>\n",
       "    </tr>\n",
       "    <tr>\n",
       "      <th>2</th>\n",
       "      <td>32.5</td>\n",
       "      <td>NaN</td>\n",
       "      <td>Q</td>\n",
       "    </tr>\n",
       "    <tr>\n",
       "      <th>3</th>\n",
       "      <td>35.0</td>\n",
       "      <td>53.10</td>\n",
       "      <td>None</td>\n",
       "    </tr>\n",
       "    <tr>\n",
       "      <th>4</th>\n",
       "      <td>30.0</td>\n",
       "      <td>8.05</td>\n",
       "      <td>S</td>\n",
       "    </tr>\n",
       "  </tbody>\n",
       "</table>\n",
       "</div>"
      ],
      "text/plain": [
       "    Age   Fare Embarked\n",
       "0  22.0   7.25        S\n",
       "1  38.0  71.28        C\n",
       "2  32.5    NaN        Q\n",
       "3  35.0  53.10     None\n",
       "4  30.0   8.05        S"
      ]
     },
     "execution_count": 25,
     "metadata": {},
     "output_type": "execute_result"
    }
   ],
   "source": [
    "# Calcolo della media e della mediana dell'età\n",
    "mean_age = df['Age'].mean()\n",
    "median_age = df['Age'].median()\n",
    "# Decisione sulla sostituzione dei valori mancanti\n",
    "if missing_count > 0:\n",
    "    if age_values.skew() < 0:\n",
    "        print(\"Sostituire con la mediana per la distribuzione asimmetrica.\")\n",
    "        df['Age'].fillna(median_age, inplace=True)\n",
    "    else:\n",
    "        print(\"Sostituire con la media per la distribuzione simmetrica.\")\n",
    "        df['Age'].fillna(mean_age, inplace=True)\n",
    "df"
   ]
  },
  {
   "cell_type": "code",
   "execution_count": 26,
   "id": "7f9d3f4e-32d4-4ae0-974c-761e070cb5de",
   "metadata": {},
   "outputs": [
    {
     "data": {
      "text/plain": [
       "49.795"
      ]
     },
     "execution_count": 26,
     "metadata": {},
     "output_type": "execute_result"
    }
   ],
   "source": [
    "# analizziamo Fare\n",
    "# Calcolo dell'IQR per la colonna 'Fare'\n",
    "Q1 = df['Fare'].quantile(0.25)\n",
    "Q3 = df['Fare'].quantile(0.75)\n",
    "IQR = Q3 - Q1\n",
    "IQR"
   ]
  },
  {
   "cell_type": "code",
   "execution_count": 27,
   "id": "07571da8-e3a3-4f7c-9b10-a1069940e4c8",
   "metadata": {},
   "outputs": [
    {
     "name": "stdout",
     "output_type": "stream",
     "text": [
      "-66.8425\n",
      "132.3375\n",
      "Outlier individuati con IQR:\n",
      "Series([], Name: Age, dtype: float64)\n"
     ]
    }
   ],
   "source": [
    "# Individuazione degli outlier\n",
    "lower_bound = Q1 - 1.5 * IQR\n",
    "print(lower_bound)\n",
    "upper_bound = Q3 + 1.5 * IQR\n",
    "print(upper_bound)\n",
    "outliers = df[(df['Age'] < lower_bound) | (df['Age'] > upper_bound)]['Age']\n",
    "print(\"Outlier individuati con IQR:\")\n",
    "print(outliers)"
   ]
  },
  {
   "cell_type": "code",
   "execution_count": 28,
   "id": "93768ac6-fee1-4125-b56c-d76277a6ea48",
   "metadata": {},
   "outputs": [
    {
     "data": {
      "text/plain": [
       "0.2656314954435665"
      ]
     },
     "execution_count": 28,
     "metadata": {},
     "output_type": "execute_result"
    }
   ],
   "source": [
    "#calcoliamo l'asimmetria\n",
    "df['Fare'].skew() # la skewness (asimmetria) è leggermente maggiore di 0 - leggeremetne asimmetrica, possiamo usare la media."
   ]
  },
  {
   "cell_type": "markdown",
   "id": "021b915e-9557-446f-890a-e2a3f83f8678",
   "metadata": {},
   "source": [
    "# Analizzare il grafico con Seaborn\n",
    "\n"
   ]
  },
  {
   "cell_type": "code",
   "execution_count": 30,
   "id": "871bdcc7-e7c7-458e-9a99-2a3eebe5d3a8",
   "metadata": {},
   "outputs": [
    {
     "data": {
      "image/png": "[encoded data removed]",
      "text/plain": [
       "<Figure size 640x480 with 1 Axes>"
      ]
     },
     "metadata": {},
     "output_type": "display_data"
    },
    {
     "name": "stdout",
     "output_type": "stream",
     "text": [
      "Media dell'età: 31.25\n",
      "Mediana dell'età: 32.5\n",
      "Valori mancanti nell'età: 1\n",
      "La distribuzione è asimmetrica (skewness < 0)\n",
      "Sostituire con la mediana per la distribuzione asimmetrica.\n",
      "\n",
      "Dataset con valori mancanti sostituiti:\n",
      "    Age   Fare Embarked\n",
      "0  22.0   7.25        S\n",
      "1  38.0  71.28        C\n",
      "2  32.5    NaN        Q\n",
      "3  35.0  53.10      NaN\n",
      "4  30.0   8.05        S\n"
     ]
    }
   ],
   "source": [
    "import seaborn as sns\n",
    "import matplotlib.pyplot as plt\n",
    "\n",
    "# Creazione del dataset di esempio\n",
    "data = {\n",
    "    'Age': [22, 38, np.nan, 35, 30],\n",
    "    'Fare': [7.25, 71.28, np.nan, 53.10, 8.05],\n",
    "    'Embarked': ['S', 'C', 'Q', np.nan, 'S']\n",
    "}\n",
    "\n",
    "df = pd.DataFrame(data)\n",
    "\n",
    "# Esplorazione della distribuzione dell'età senza valori mancanti\n",
    "sns.histplot(df['Age'].dropna(), kde=True)\n",
    "\n",
    "plt.title('Distribuzione dell\\'età')\n",
    "plt.xlabel('Età')\n",
    "plt.show()\n",
    "\n",
    "# Calcolo della media e della mediana dell'età\n",
    "mean_age = df['Age'].mean()\n",
    "median_age = df['Age'].median()\n",
    "\n",
    "print(f\"Media dell'età: {mean_age}\")\n",
    "print(f\"Mediana dell'età: {median_age}\")\n",
    "\n",
    "# Conteggio dei valori mancanti nell'età\n",
    "missing_count = df['Age'].isnull().sum()\n",
    "print(f\"Valori mancanti nell'età: {missing_count}\")\n",
    "\n",
    "# Seleziona i valori sull'età senza valori mancanti\n",
    "age_values = df['Age'].dropna()\n",
    "\n",
    "# Controllo della distribuzione per valutare simmetria e outlier\n",
    "if age_values.skew() < 0:\n",
    "    print(\"La distribuzione è asimmetrica (skewness < 0)\")\n",
    "else:\n",
    "    print(\"La distribuzione è simmetrica o approssimativamente simmetrica (skewness >= 0)\")\n",
    "\n",
    "# Decisione sulla sostituzione dei valori mancanti\n",
    "if missing_count > 0:\n",
    "    if age_values.skew() < 0:\n",
    "        print(\"Sostituire con la mediana per la distribuzione asimmetrica.\")\n",
    "        df['Age'].fillna(median_age, inplace=True)\n",
    "    else:\n",
    "        print(\"Sostituire con la media per la distribuzione simmetrica.\")\n",
    "        df['Age'].fillna(mean_age, inplace=True)\n",
    "\n",
    "print(\"\\nDataset con valori mancanti sostituiti:\")\n",
    "print(df)\n"
   ]
  },
  {
   "cell_type": "code",
   "execution_count": 31,
   "id": "a73818e1-dbe1-4c9e-9db7-8399eda8135d",
   "metadata": {},
   "outputs": [],
   "source": [
    "# Riempie i valori mancanti nella colonna 'Embarked' con il valore più frequente\n",
    "df['Embarked'].fillna(df['Embarked'].mode()[0], inplace=True)"
   ]
  }
 ],
 "metadata": {
  "kernelspec": {
   "display_name": "Python 3 (ipykernel)",
   "language": "python",
   "name": "python3"
  },
  "language_info": {
   "codemirror_mode": {
    "name": "ipython",
    "version": 3
   },
   "file_extension": ".py",
   "mimetype": "text/x-python",
   "name": "python",
   "nbconvert_exporter": "python",
   "pygments_lexer": "ipython3",
   "version": "3.11.7"
  }
 },
 "nbformat": 4,
 "nbformat_minor": 5
}
