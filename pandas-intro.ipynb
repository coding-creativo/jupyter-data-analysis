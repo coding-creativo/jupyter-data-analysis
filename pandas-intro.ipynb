{
 "cells": [
  {
   "cell_type": "markdown",
   "id": "a6261cd7-4e48-4c6c-a3b6-af330afba5f0",
   "metadata": {},
   "source": [
    "# PANDAS"
   ]
  },
  {
   "cell_type": "markdown",
   "id": "7b4bf4fc-d70e-4bee-8e28-0c8296fc2e3a",
   "metadata": {},
   "source": [
    "Pandas è una libreria open-source per la manipolazione e l'analisi dei dati in Python. È ampiamente utilizzata nel campo della data science, dell'analisi dei dati e della ricerca scientifica per la sua potenza e versatilità nel trattare dati strutturati e etichettati."
   ]
  },
  {
   "cell_type": "markdown",
   "id": "1529ea1d-0715-4a56-8226-c0dd001c6789",
   "metadata": {},
   "source": [
    "## GUIDA UFFICIALE"
   ]
  },
  {
   "cell_type": "markdown",
   "id": "9c8b0b1c-0f38-4ef9-a4e1-b564f86531bb",
   "metadata": {},
   "source": [
    "https://pandas.pydata.org/docs/user_guide/index.html#user-guide"
   ]
  },
  {
   "cell_type": "markdown",
   "id": "7fc6a73e-ca6e-4645-8f16-49e64ca8e144",
   "metadata": {},
   "source": [
    "## ANACONDA INSTALLAZIONE"
   ]
  },
  {
   "cell_type": "markdown",
   "id": "ae6ad92b-1206-44e7-b415-75e194c00af2",
   "metadata": {},
   "source": [
    "https://www.anaconda.com/"
   ]
  },
  {
   "cell_type": "markdown",
   "id": "67cf9e60-5f94-4ca3-9597-9cafa83d6c19",
   "metadata": {},
   "source": [
    "## KAGGLE"
   ]
  },
  {
   "cell_type": "markdown",
   "id": "16158229-0907-4dca-9c0f-89de02e3378c",
   "metadata": {},
   "source": [
    "Kaggle è una piattaforma online che offre strumenti e risorse per data science e machine learning. È  nota per le sue competizioni di data science, dove individui e team competono per risolvere problemi di analisi dei dati e modellazione predittiva. \n",
    "Inoltre Kaggle fornisce un'ampia varietà di dataset, che coprono molteplici ambiti come il business, la finanza, la salute, le scienze sociali e altro ancora. I dati sono disponibili per chiunque voglia praticare l'analisi dei dati e il machine learning."
   ]
  },
  {
   "cell_type": "markdown",
   "id": "19538f07-9b66-4a2a-9508-9ca55263730f",
   "metadata": {},
   "source": [
    "## Caratteristiche principali di Pandas includono:\n",
    "- Strutture dati potenti: Pandas offre due principali strutture dati: Series e DataFrame.\n",
    "\n",
    "    - Una Series è un array unidimensionale con etichette sugli assi (axis labels) chiamate \"indice\".\n",
    "    - Un DataFrame è una struttura dati bidimensionale simile a un foglio di calcolo con righe e colonne, dove ogni colonna può essere di un tipo diverso (come numeri, stringhe, date, ecc.)..\n",
    " \n",
    "      \n",
    "\n",
    "- Facilità di caricamento e salvataggio dei dati: Pandas supporta il caricamento e il salvataggio di dati da e verso diversi formati di file, come CSV, Excel, SQL database, JSON, HDF5, e molti altri.\n",
    "\n",
    "- Operazioni di manipolazione dei dati: Pandas offre una vasta gamma di funzionalità per la manipolazione dei dati, come la selezione, l'indicizzazione, la modifica, la trasformazione e la pulizia dei dati.\n",
    "\n",
    "- Gestione delle serie temporali: Supporta la manipolazione delle serie temporali, inclusi strumenti per la generazione di date, il cambiamento di frequenza e la gestione dei fusi orari.\n",
    "\n",
    "- Raggruppamento e aggregazione: Pandas permette di raggruppare dati in base a determinate condizioni e di calcolare statistiche aggregate (come la media, la somma, ecc.) su questi gruppi.\n",
    "\n",
    "- Join e merge dei dati: Fornisce funzionalità per combinare dati da diverse fonti in base a una o più chiavi di join.\n",
    "\n",
    "- Gestione dei dati mancanti: Pandas offre metodi per gestire i dati mancanti (NaN) in modo efficace, inclusi riempimenti, eliminazioni o interpolazioni.\n",
    "\n",
    "- Analisi dei dati: Include funzioni per la statistica descrittiva, la visualizzazione dei dati (integrata con librerie come Matplotlib e Seaborn) e la creazione di grafici per esplorare e comunicare i risultati."
   ]
  },
  {
   "cell_type": "code",
   "execution_count": 26,
   "id": "f66b80f7-d553-49d3-8968-670235860cb8",
   "metadata": {},
   "outputs": [
    {
     "data": {
      "text/html": [
       "<div>\n",
       "<style scoped>\n",
       "    .dataframe tbody tr th:only-of-type {\n",
       "        vertical-align: middle;\n",
       "    }\n",
       "\n",
       "    .dataframe tbody tr th {\n",
       "        vertical-align: top;\n",
       "    }\n",
       "\n",
       "    .dataframe thead th {\n",
       "        text-align: right;\n",
       "    }\n",
       "</style>\n",
       "<table border=\"1\" class=\"dataframe\">\n",
       "  <thead>\n",
       "    <tr style=\"text-align: right;\">\n",
       "      <th></th>\n",
       "      <th>Name</th>\n",
       "      <th>Age</th>\n",
       "      <th>City</th>\n",
       "      <th>Species</th>\n",
       "      <th>Role</th>\n",
       "    </tr>\n",
       "  </thead>\n",
       "  <tbody>\n",
       "    <tr>\n",
       "      <th>0</th>\n",
       "      <td>Mickey Mouse</td>\n",
       "      <td>92.0</td>\n",
       "      <td>Disneyland</td>\n",
       "      <td>Mouse</td>\n",
       "      <td>Main Character</td>\n",
       "    </tr>\n",
       "    <tr>\n",
       "      <th>1</th>\n",
       "      <td>Minnie Mouse</td>\n",
       "      <td>90.0</td>\n",
       "      <td>Disneyland</td>\n",
       "      <td>Mouse</td>\n",
       "      <td>Main Character</td>\n",
       "    </tr>\n",
       "    <tr>\n",
       "      <th>2</th>\n",
       "      <td>Donald Duck</td>\n",
       "      <td>86.0</td>\n",
       "      <td>Duckburg</td>\n",
       "      <td>Duck</td>\n",
       "      <td>Main Character</td>\n",
       "    </tr>\n",
       "    <tr>\n",
       "      <th>3</th>\n",
       "      <td>Goofy</td>\n",
       "      <td>85.0</td>\n",
       "      <td>None</td>\n",
       "      <td>Dog</td>\n",
       "      <td>Supporting Character</td>\n",
       "    </tr>\n",
       "    <tr>\n",
       "      <th>4</th>\n",
       "      <td>Pluto</td>\n",
       "      <td>91.0</td>\n",
       "      <td>Mickeytown</td>\n",
       "      <td>Dog</td>\n",
       "      <td>Supporting Character</td>\n",
       "    </tr>\n",
       "    <tr>\n",
       "      <th>5</th>\n",
       "      <td>Cinderella</td>\n",
       "      <td>NaN</td>\n",
       "      <td>Castle</td>\n",
       "      <td>Human</td>\n",
       "      <td>Main Character</td>\n",
       "    </tr>\n",
       "    <tr>\n",
       "      <th>6</th>\n",
       "      <td>Simba</td>\n",
       "      <td>25.0</td>\n",
       "      <td>Pride Rock</td>\n",
       "      <td>Lion</td>\n",
       "      <td>Main Character</td>\n",
       "    </tr>\n",
       "    <tr>\n",
       "      <th>7</th>\n",
       "      <td>Ariel</td>\n",
       "      <td>30.0</td>\n",
       "      <td>Atlantica</td>\n",
       "      <td>Mermaid</td>\n",
       "      <td>Main Character</td>\n",
       "    </tr>\n",
       "  </tbody>\n",
       "</table>\n",
       "</div>"
      ],
      "text/plain": [
       "           Name   Age        City  Species                  Role\n",
       "0  Mickey Mouse  92.0  Disneyland    Mouse        Main Character\n",
       "1  Minnie Mouse  90.0  Disneyland    Mouse        Main Character\n",
       "2   Donald Duck  86.0    Duckburg     Duck        Main Character\n",
       "3         Goofy  85.0        None      Dog  Supporting Character\n",
       "4         Pluto  91.0  Mickeytown      Dog  Supporting Character\n",
       "5    Cinderella   NaN      Castle    Human        Main Character\n",
       "6         Simba  25.0  Pride Rock     Lion        Main Character\n",
       "7         Ariel  30.0   Atlantica  Mermaid        Main Character"
      ]
     },
     "execution_count": 26,
     "metadata": {},
     "output_type": "execute_result"
    }
   ],
   "source": [
    "#creare un DataFrame da dizionario\n",
    "import pandas as pd\n",
    "\n",
    "# Dati dei personaggi Disney\n",
    "data = {\n",
    "    'Name': ['Mickey Mouse', 'Minnie Mouse', 'Donald Duck', 'Goofy', 'Pluto', 'Cinderella', 'Simba', 'Ariel'],\n",
    "    'Age': [92, 90, 86, 85, 91, None, 25, 30],\n",
    "    'City': ['Disneyland', 'Disneyland', 'Duckburg', None, 'Mickeytown', 'Castle', 'Pride Rock', 'Atlantica'],\n",
    "    'Species': ['Mouse', 'Mouse', 'Duck', 'Dog', 'Dog', 'Human', 'Lion', 'Mermaid'],\n",
    "    'Role': ['Main Character', 'Main Character', 'Main Character', 'Supporting Character', 'Supporting Character', 'Main Character', 'Main Character', 'Main Character']\n",
    "}\n",
    "\n",
    "df_disney = pd.DataFrame(data)\n",
    "df_disney\n",
    "\n"
   ]
  },
  {
   "cell_type": "markdown",
   "id": "a19b55fd-0aea-4ab7-9668-a388c937bfba",
   "metadata": {},
   "source": [
    "## VISUALIZZAZIONE DATI e metodi principali\n"
   ]
  },
  {
   "cell_type": "code",
   "execution_count": 16,
   "id": "3f47985c-0659-4c42-932e-28d8dcb311c9",
   "metadata": {},
   "outputs": [
    {
     "data": {
      "text/html": [
       "<div>\n",
       "<style scoped>\n",
       "    .dataframe tbody tr th:only-of-type {\n",
       "        vertical-align: middle;\n",
       "    }\n",
       "\n",
       "    .dataframe tbody tr th {\n",
       "        vertical-align: top;\n",
       "    }\n",
       "\n",
       "    .dataframe thead th {\n",
       "        text-align: right;\n",
       "    }\n",
       "</style>\n",
       "<table border=\"1\" class=\"dataframe\">\n",
       "  <thead>\n",
       "    <tr style=\"text-align: right;\">\n",
       "      <th></th>\n",
       "      <th>Name</th>\n",
       "      <th>Age</th>\n",
       "      <th>City</th>\n",
       "      <th>Species</th>\n",
       "      <th>Role</th>\n",
       "    </tr>\n",
       "  </thead>\n",
       "  <tbody>\n",
       "    <tr>\n",
       "      <th>0</th>\n",
       "      <td>Mickey Mouse</td>\n",
       "      <td>92.0</td>\n",
       "      <td>Disneyland</td>\n",
       "      <td>Mouse</td>\n",
       "      <td>Main Character</td>\n",
       "    </tr>\n",
       "    <tr>\n",
       "      <th>1</th>\n",
       "      <td>Minnie Mouse</td>\n",
       "      <td>90.0</td>\n",
       "      <td>Disneyland</td>\n",
       "      <td>Mouse</td>\n",
       "      <td>Main Character</td>\n",
       "    </tr>\n",
       "    <tr>\n",
       "      <th>2</th>\n",
       "      <td>Donald Duck</td>\n",
       "      <td>86.0</td>\n",
       "      <td>Duckburg</td>\n",
       "      <td>Duck</td>\n",
       "      <td>Main Character</td>\n",
       "    </tr>\n",
       "    <tr>\n",
       "      <th>3</th>\n",
       "      <td>Goofy</td>\n",
       "      <td>85.0</td>\n",
       "      <td>None</td>\n",
       "      <td>Dog</td>\n",
       "      <td>Supporting Character</td>\n",
       "    </tr>\n",
       "    <tr>\n",
       "      <th>4</th>\n",
       "      <td>Pluto</td>\n",
       "      <td>91.0</td>\n",
       "      <td>Mickeytown</td>\n",
       "      <td>Dog</td>\n",
       "      <td>Supporting Character</td>\n",
       "    </tr>\n",
       "  </tbody>\n",
       "</table>\n",
       "</div>"
      ],
      "text/plain": [
       "           Name   Age        City Species                  Role\n",
       "0  Mickey Mouse  92.0  Disneyland   Mouse        Main Character\n",
       "1  Minnie Mouse  90.0  Disneyland   Mouse        Main Character\n",
       "2   Donald Duck  86.0    Duckburg    Duck        Main Character\n",
       "3         Goofy  85.0        None     Dog  Supporting Character\n",
       "4         Pluto  91.0  Mickeytown     Dog  Supporting Character"
      ]
     },
     "execution_count": 16,
     "metadata": {},
     "output_type": "execute_result"
    }
   ],
   "source": [
    "# Visualizzazione delle prime 5 righe\n",
    "df_disney.head()"
   ]
  },
  {
   "cell_type": "code",
   "execution_count": 17,
   "id": "7cdb1319-f1dc-44e5-8483-09d8330d6580",
   "metadata": {},
   "outputs": [
    {
     "data": {
      "text/html": [
       "<div>\n",
       "<style scoped>\n",
       "    .dataframe tbody tr th:only-of-type {\n",
       "        vertical-align: middle;\n",
       "    }\n",
       "\n",
       "    .dataframe tbody tr th {\n",
       "        vertical-align: top;\n",
       "    }\n",
       "\n",
       "    .dataframe thead th {\n",
       "        text-align: right;\n",
       "    }\n",
       "</style>\n",
       "<table border=\"1\" class=\"dataframe\">\n",
       "  <thead>\n",
       "    <tr style=\"text-align: right;\">\n",
       "      <th></th>\n",
       "      <th>Name</th>\n",
       "      <th>Age</th>\n",
       "      <th>City</th>\n",
       "      <th>Species</th>\n",
       "      <th>Role</th>\n",
       "    </tr>\n",
       "  </thead>\n",
       "  <tbody>\n",
       "    <tr>\n",
       "      <th>3</th>\n",
       "      <td>Goofy</td>\n",
       "      <td>85.0</td>\n",
       "      <td>None</td>\n",
       "      <td>Dog</td>\n",
       "      <td>Supporting Character</td>\n",
       "    </tr>\n",
       "    <tr>\n",
       "      <th>4</th>\n",
       "      <td>Pluto</td>\n",
       "      <td>91.0</td>\n",
       "      <td>Mickeytown</td>\n",
       "      <td>Dog</td>\n",
       "      <td>Supporting Character</td>\n",
       "    </tr>\n",
       "    <tr>\n",
       "      <th>5</th>\n",
       "      <td>Cinderella</td>\n",
       "      <td>NaN</td>\n",
       "      <td>Castle</td>\n",
       "      <td>Human</td>\n",
       "      <td>Main Character</td>\n",
       "    </tr>\n",
       "    <tr>\n",
       "      <th>6</th>\n",
       "      <td>Simba</td>\n",
       "      <td>25.0</td>\n",
       "      <td>Pride Rock</td>\n",
       "      <td>Lion</td>\n",
       "      <td>Main Character</td>\n",
       "    </tr>\n",
       "    <tr>\n",
       "      <th>7</th>\n",
       "      <td>Ariel</td>\n",
       "      <td>30.0</td>\n",
       "      <td>Atlantica</td>\n",
       "      <td>Mermaid</td>\n",
       "      <td>Main Character</td>\n",
       "    </tr>\n",
       "  </tbody>\n",
       "</table>\n",
       "</div>"
      ],
      "text/plain": [
       "         Name   Age        City  Species                  Role\n",
       "3       Goofy  85.0        None      Dog  Supporting Character\n",
       "4       Pluto  91.0  Mickeytown      Dog  Supporting Character\n",
       "5  Cinderella   NaN      Castle    Human        Main Character\n",
       "6       Simba  25.0  Pride Rock     Lion        Main Character\n",
       "7       Ariel  30.0   Atlantica  Mermaid        Main Character"
      ]
     },
     "execution_count": 17,
     "metadata": {},
     "output_type": "execute_result"
    }
   ],
   "source": [
    "# Visualizzazione le ultime 5 righe\n",
    "df_disney.tail()"
   ]
  },
  {
   "cell_type": "code",
   "execution_count": 18,
   "id": "63451512-e1f0-4cf5-903b-a11c9e678279",
   "metadata": {},
   "outputs": [
    {
     "data": {
      "text/plain": [
       "(8, 5)"
      ]
     },
     "execution_count": 18,
     "metadata": {},
     "output_type": "execute_result"
    }
   ],
   "source": [
    "df_disney.shape#forma del dataframe"
   ]
  },
  {
   "cell_type": "code",
   "execution_count": 5,
   "id": "1ad57e8a-789e-4829-931f-6fc88483a42a",
   "metadata": {},
   "outputs": [
    {
     "data": {
      "text/plain": [
       "40"
      ]
     },
     "execution_count": 5,
     "metadata": {},
     "output_type": "execute_result"
    }
   ],
   "source": [
    "df_disney.size"
   ]
  },
  {
   "cell_type": "code",
   "execution_count": 6,
   "id": "f27ceb12-4ac5-4c09-9845-64664abf0163",
   "metadata": {},
   "outputs": [
    {
     "data": {
      "text/plain": [
       "8"
      ]
     },
     "execution_count": 6,
     "metadata": {},
     "output_type": "execute_result"
    }
   ],
   "source": [
    "len(df_disney)"
   ]
  },
  {
   "cell_type": "code",
   "execution_count": 7,
   "id": "b26d11c6-470e-4ca7-9f34-845f8da432a1",
   "metadata": {},
   "outputs": [
    {
     "data": {
      "text/plain": [
       "5"
      ]
     },
     "execution_count": 7,
     "metadata": {},
     "output_type": "execute_result"
    }
   ],
   "source": [
    "len(df_disney.columns)"
   ]
  },
  {
   "cell_type": "code",
   "execution_count": 19,
   "id": "e1ce1748-323d-4985-b362-15b3b98e6dcd",
   "metadata": {},
   "outputs": [
    {
     "data": {
      "text/plain": [
       "RangeIndex(start=0, stop=8, step=1)"
      ]
     },
     "execution_count": 19,
     "metadata": {},
     "output_type": "execute_result"
    }
   ],
   "source": [
    "# Impostare un indice delle righe diverso, ad esmepio utilizzando la colonna 'Name'\n",
    "df_disney.index\n"
   ]
  },
  {
   "cell_type": "code",
   "execution_count": 31,
   "id": "5dd9b15f-095f-4e56-bd9c-41f01f3d7a07",
   "metadata": {},
   "outputs": [
    {
     "name": "stdout",
     "output_type": "stream",
     "text": [
      "\n",
      "DataFrame con l'indice rinominato:\n"
     ]
    },
    {
     "data": {
      "text/html": [
       "<div>\n",
       "<style scoped>\n",
       "    .dataframe tbody tr th:only-of-type {\n",
       "        vertical-align: middle;\n",
       "    }\n",
       "\n",
       "    .dataframe tbody tr th {\n",
       "        vertical-align: top;\n",
       "    }\n",
       "\n",
       "    .dataframe thead th {\n",
       "        text-align: right;\n",
       "    }\n",
       "</style>\n",
       "<table border=\"1\" class=\"dataframe\">\n",
       "  <thead>\n",
       "    <tr style=\"text-align: right;\">\n",
       "      <th></th>\n",
       "      <th>Age</th>\n",
       "      <th>City</th>\n",
       "      <th>Species</th>\n",
       "      <th>Role</th>\n",
       "    </tr>\n",
       "    <tr>\n",
       "      <th>Name</th>\n",
       "      <th></th>\n",
       "      <th></th>\n",
       "      <th></th>\n",
       "      <th></th>\n",
       "    </tr>\n",
       "  </thead>\n",
       "  <tbody>\n",
       "    <tr>\n",
       "      <th>Mickey Mouse</th>\n",
       "      <td>92.0</td>\n",
       "      <td>Disneyland</td>\n",
       "      <td>Mouse</td>\n",
       "      <td>Main Character</td>\n",
       "    </tr>\n",
       "    <tr>\n",
       "      <th>Minnie Mouse</th>\n",
       "      <td>90.0</td>\n",
       "      <td>Disneyland</td>\n",
       "      <td>Mouse</td>\n",
       "      <td>Main Character</td>\n",
       "    </tr>\n",
       "    <tr>\n",
       "      <th>Donald Duck</th>\n",
       "      <td>86.0</td>\n",
       "      <td>Duckburg</td>\n",
       "      <td>Duck</td>\n",
       "      <td>Main Character</td>\n",
       "    </tr>\n",
       "    <tr>\n",
       "      <th>Goofy</th>\n",
       "      <td>85.0</td>\n",
       "      <td>None</td>\n",
       "      <td>Dog</td>\n",
       "      <td>Supporting Character</td>\n",
       "    </tr>\n",
       "    <tr>\n",
       "      <th>Pluto</th>\n",
       "      <td>91.0</td>\n",
       "      <td>Mickeytown</td>\n",
       "      <td>Dog</td>\n",
       "      <td>Supporting Character</td>\n",
       "    </tr>\n",
       "    <tr>\n",
       "      <th>Cinderella</th>\n",
       "      <td>NaN</td>\n",
       "      <td>Castle</td>\n",
       "      <td>Human</td>\n",
       "      <td>Main Character</td>\n",
       "    </tr>\n",
       "    <tr>\n",
       "      <th>Simba</th>\n",
       "      <td>25.0</td>\n",
       "      <td>Pride Rock</td>\n",
       "      <td>Lion</td>\n",
       "      <td>Main Character</td>\n",
       "    </tr>\n",
       "    <tr>\n",
       "      <th>Ariel</th>\n",
       "      <td>30.0</td>\n",
       "      <td>Atlantica</td>\n",
       "      <td>Mermaid</td>\n",
       "      <td>Main Character</td>\n",
       "    </tr>\n",
       "  </tbody>\n",
       "</table>\n",
       "</div>"
      ],
      "text/plain": [
       "               Age        City  Species                  Role\n",
       "Name                                                         \n",
       "Mickey Mouse  92.0  Disneyland    Mouse        Main Character\n",
       "Minnie Mouse  90.0  Disneyland    Mouse        Main Character\n",
       "Donald Duck   86.0    Duckburg     Duck        Main Character\n",
       "Goofy         85.0        None      Dog  Supporting Character\n",
       "Pluto         91.0  Mickeytown      Dog  Supporting Character\n",
       "Cinderella     NaN      Castle    Human        Main Character\n",
       "Simba         25.0  Pride Rock     Lion        Main Character\n",
       "Ariel         30.0   Atlantica  Mermaid        Main Character"
      ]
     },
     "execution_count": 31,
     "metadata": {},
     "output_type": "execute_result"
    }
   ],
   "source": [
    "# Impostare un indice delle righe diverso, ad esmepio utilizzando la colonna 'Name'\n",
    "df_disney = df_disney.set_index('Name')\n",
    "print(\"\\nDataFrame con l'indice rinominato:\")\n",
    "df_disney"
   ]
  },
  {
   "cell_type": "code",
   "execution_count": 28,
   "id": "f51651f3-97db-4d86-8550-3685b00d7c5c",
   "metadata": {},
   "outputs": [
    {
     "data": {
      "text/html": [
       "<div>\n",
       "<style scoped>\n",
       "    .dataframe tbody tr th:only-of-type {\n",
       "        vertical-align: middle;\n",
       "    }\n",
       "\n",
       "    .dataframe tbody tr th {\n",
       "        vertical-align: top;\n",
       "    }\n",
       "\n",
       "    .dataframe thead th {\n",
       "        text-align: right;\n",
       "    }\n",
       "</style>\n",
       "<table border=\"1\" class=\"dataframe\">\n",
       "  <thead>\n",
       "    <tr style=\"text-align: right;\">\n",
       "      <th></th>\n",
       "      <th></th>\n",
       "      <th>Name</th>\n",
       "      <th>Age</th>\n",
       "      <th>Role</th>\n",
       "    </tr>\n",
       "    <tr>\n",
       "      <th>City</th>\n",
       "      <th>Species</th>\n",
       "      <th></th>\n",
       "      <th></th>\n",
       "      <th></th>\n",
       "    </tr>\n",
       "  </thead>\n",
       "  <tbody>\n",
       "    <tr>\n",
       "      <th rowspan=\"2\" valign=\"top\">Disneyland</th>\n",
       "      <th>Mouse</th>\n",
       "      <td>Mickey Mouse</td>\n",
       "      <td>92.0</td>\n",
       "      <td>Main Character</td>\n",
       "    </tr>\n",
       "    <tr>\n",
       "      <th>Mouse</th>\n",
       "      <td>Minnie Mouse</td>\n",
       "      <td>90.0</td>\n",
       "      <td>Main Character</td>\n",
       "    </tr>\n",
       "    <tr>\n",
       "      <th>Duckburg</th>\n",
       "      <th>Duck</th>\n",
       "      <td>Donald Duck</td>\n",
       "      <td>86.0</td>\n",
       "      <td>Main Character</td>\n",
       "    </tr>\n",
       "    <tr>\n",
       "      <th>NaN</th>\n",
       "      <th>Dog</th>\n",
       "      <td>Goofy</td>\n",
       "      <td>85.0</td>\n",
       "      <td>Supporting Character</td>\n",
       "    </tr>\n",
       "    <tr>\n",
       "      <th>Mickeytown</th>\n",
       "      <th>Dog</th>\n",
       "      <td>Pluto</td>\n",
       "      <td>91.0</td>\n",
       "      <td>Supporting Character</td>\n",
       "    </tr>\n",
       "    <tr>\n",
       "      <th>Castle</th>\n",
       "      <th>Human</th>\n",
       "      <td>Cinderella</td>\n",
       "      <td>NaN</td>\n",
       "      <td>Main Character</td>\n",
       "    </tr>\n",
       "    <tr>\n",
       "      <th>Pride Rock</th>\n",
       "      <th>Lion</th>\n",
       "      <td>Simba</td>\n",
       "      <td>25.0</td>\n",
       "      <td>Main Character</td>\n",
       "    </tr>\n",
       "    <tr>\n",
       "      <th>Atlantica</th>\n",
       "      <th>Mermaid</th>\n",
       "      <td>Ariel</td>\n",
       "      <td>30.0</td>\n",
       "      <td>Main Character</td>\n",
       "    </tr>\n",
       "  </tbody>\n",
       "</table>\n",
       "</div>"
      ],
      "text/plain": [
       "                            Name   Age                  Role\n",
       "City       Species                                          \n",
       "Disneyland Mouse    Mickey Mouse  92.0        Main Character\n",
       "           Mouse    Minnie Mouse  90.0        Main Character\n",
       "Duckburg   Duck      Donald Duck  86.0        Main Character\n",
       "NaN        Dog             Goofy  85.0  Supporting Character\n",
       "Mickeytown Dog             Pluto  91.0  Supporting Character\n",
       "Castle     Human      Cinderella   NaN        Main Character\n",
       "Pride Rock Lion            Simba  25.0        Main Character\n",
       "Atlantica  Mermaid         Ariel  30.0        Main Character"
      ]
     },
     "execution_count": 28,
     "metadata": {},
     "output_type": "execute_result"
    }
   ],
   "source": [
    "df_disney.set_index(['City', 'Species']) #Impostare più colonne come indice"
   ]
  },
  {
   "cell_type": "code",
   "execution_count": 34,
   "id": "d9a32972-82bb-4b1b-9830-c33995616c42",
   "metadata": {},
   "outputs": [
    {
     "data": {
      "text/html": [
       "<div>\n",
       "<style scoped>\n",
       "    .dataframe tbody tr th:only-of-type {\n",
       "        vertical-align: middle;\n",
       "    }\n",
       "\n",
       "    .dataframe tbody tr th {\n",
       "        vertical-align: top;\n",
       "    }\n",
       "\n",
       "    .dataframe thead th {\n",
       "        text-align: right;\n",
       "    }\n",
       "</style>\n",
       "<table border=\"1\" class=\"dataframe\">\n",
       "  <thead>\n",
       "    <tr style=\"text-align: right;\">\n",
       "      <th></th>\n",
       "      <th>Name</th>\n",
       "      <th>Age</th>\n",
       "      <th>City</th>\n",
       "      <th>Species</th>\n",
       "      <th>Role</th>\n",
       "    </tr>\n",
       "  </thead>\n",
       "  <tbody>\n",
       "    <tr>\n",
       "      <th>0</th>\n",
       "      <td>Mickey Mouse</td>\n",
       "      <td>92.0</td>\n",
       "      <td>Disneyland</td>\n",
       "      <td>Mouse</td>\n",
       "      <td>Main Character</td>\n",
       "    </tr>\n",
       "    <tr>\n",
       "      <th>1</th>\n",
       "      <td>Minnie Mouse</td>\n",
       "      <td>90.0</td>\n",
       "      <td>Disneyland</td>\n",
       "      <td>Mouse</td>\n",
       "      <td>Main Character</td>\n",
       "    </tr>\n",
       "    <tr>\n",
       "      <th>2</th>\n",
       "      <td>Donald Duck</td>\n",
       "      <td>86.0</td>\n",
       "      <td>Duckburg</td>\n",
       "      <td>Duck</td>\n",
       "      <td>Main Character</td>\n",
       "    </tr>\n",
       "    <tr>\n",
       "      <th>3</th>\n",
       "      <td>Goofy</td>\n",
       "      <td>85.0</td>\n",
       "      <td>None</td>\n",
       "      <td>Dog</td>\n",
       "      <td>Supporting Character</td>\n",
       "    </tr>\n",
       "    <tr>\n",
       "      <th>4</th>\n",
       "      <td>Pluto</td>\n",
       "      <td>91.0</td>\n",
       "      <td>Mickeytown</td>\n",
       "      <td>Dog</td>\n",
       "      <td>Supporting Character</td>\n",
       "    </tr>\n",
       "    <tr>\n",
       "      <th>5</th>\n",
       "      <td>Cinderella</td>\n",
       "      <td>NaN</td>\n",
       "      <td>Castle</td>\n",
       "      <td>Human</td>\n",
       "      <td>Main Character</td>\n",
       "    </tr>\n",
       "    <tr>\n",
       "      <th>6</th>\n",
       "      <td>Simba</td>\n",
       "      <td>25.0</td>\n",
       "      <td>Pride Rock</td>\n",
       "      <td>Lion</td>\n",
       "      <td>Main Character</td>\n",
       "    </tr>\n",
       "    <tr>\n",
       "      <th>7</th>\n",
       "      <td>Ariel</td>\n",
       "      <td>30.0</td>\n",
       "      <td>Atlantica</td>\n",
       "      <td>Mermaid</td>\n",
       "      <td>Main Character</td>\n",
       "    </tr>\n",
       "  </tbody>\n",
       "</table>\n",
       "</div>"
      ],
      "text/plain": [
       "           Name   Age        City  Species                  Role\n",
       "0  Mickey Mouse  92.0  Disneyland    Mouse        Main Character\n",
       "1  Minnie Mouse  90.0  Disneyland    Mouse        Main Character\n",
       "2   Donald Duck  86.0    Duckburg     Duck        Main Character\n",
       "3         Goofy  85.0        None      Dog  Supporting Character\n",
       "4         Pluto  91.0  Mickeytown      Dog  Supporting Character\n",
       "5    Cinderella   NaN      Castle    Human        Main Character\n",
       "6         Simba  25.0  Pride Rock     Lion        Main Character\n",
       "7         Ariel  30.0   Atlantica  Mermaid        Main Character"
      ]
     },
     "execution_count": 34,
     "metadata": {},
     "output_type": "execute_result"
    }
   ],
   "source": [
    "#Ripristinare l'Indice Originale\n",
    "df_disney.reset_index()"
   ]
  },
  {
   "cell_type": "code",
   "execution_count": 33,
   "id": "ec1c838a-bca2-4dec-b0fb-5e6860358157",
   "metadata": {},
   "outputs": [
    {
     "data": {
      "text/html": [
       "<div>\n",
       "<style scoped>\n",
       "    .dataframe tbody tr th:only-of-type {\n",
       "        vertical-align: middle;\n",
       "    }\n",
       "\n",
       "    .dataframe tbody tr th {\n",
       "        vertical-align: top;\n",
       "    }\n",
       "\n",
       "    .dataframe thead th {\n",
       "        text-align: right;\n",
       "    }\n",
       "</style>\n",
       "<table border=\"1\" class=\"dataframe\">\n",
       "  <thead>\n",
       "    <tr style=\"text-align: right;\">\n",
       "      <th></th>\n",
       "      <th>Name</th>\n",
       "      <th>Age</th>\n",
       "      <th>City</th>\n",
       "      <th>Species</th>\n",
       "      <th>Role</th>\n",
       "    </tr>\n",
       "  </thead>\n",
       "  <tbody>\n",
       "    <tr>\n",
       "      <th>Person_1</th>\n",
       "      <td>Mickey Mouse</td>\n",
       "      <td>92.0</td>\n",
       "      <td>Disneyland</td>\n",
       "      <td>Mouse</td>\n",
       "      <td>Main Character</td>\n",
       "    </tr>\n",
       "    <tr>\n",
       "      <th>Person_2</th>\n",
       "      <td>Minnie Mouse</td>\n",
       "      <td>90.0</td>\n",
       "      <td>Disneyland</td>\n",
       "      <td>Mouse</td>\n",
       "      <td>Main Character</td>\n",
       "    </tr>\n",
       "    <tr>\n",
       "      <th>Person_3</th>\n",
       "      <td>Donald Duck</td>\n",
       "      <td>86.0</td>\n",
       "      <td>Duckburg</td>\n",
       "      <td>Duck</td>\n",
       "      <td>Main Character</td>\n",
       "    </tr>\n",
       "    <tr>\n",
       "      <th>Person_4</th>\n",
       "      <td>Goofy</td>\n",
       "      <td>85.0</td>\n",
       "      <td>None</td>\n",
       "      <td>Dog</td>\n",
       "      <td>Supporting Character</td>\n",
       "    </tr>\n",
       "    <tr>\n",
       "      <th>Person_5</th>\n",
       "      <td>Pluto</td>\n",
       "      <td>91.0</td>\n",
       "      <td>Mickeytown</td>\n",
       "      <td>Dog</td>\n",
       "      <td>Supporting Character</td>\n",
       "    </tr>\n",
       "    <tr>\n",
       "      <th>Person_6</th>\n",
       "      <td>Cinderella</td>\n",
       "      <td>NaN</td>\n",
       "      <td>Castle</td>\n",
       "      <td>Human</td>\n",
       "      <td>Main Character</td>\n",
       "    </tr>\n",
       "    <tr>\n",
       "      <th>Person_7</th>\n",
       "      <td>Simba</td>\n",
       "      <td>25.0</td>\n",
       "      <td>Pride Rock</td>\n",
       "      <td>Lion</td>\n",
       "      <td>Main Character</td>\n",
       "    </tr>\n",
       "    <tr>\n",
       "      <th>Person_8</th>\n",
       "      <td>Ariel</td>\n",
       "      <td>30.0</td>\n",
       "      <td>Atlantica</td>\n",
       "      <td>Mermaid</td>\n",
       "      <td>Main Character</td>\n",
       "    </tr>\n",
       "  </tbody>\n",
       "</table>\n",
       "</div>"
      ],
      "text/plain": [
       "                  Name   Age        City  Species                  Role\n",
       "Person_1  Mickey Mouse  92.0  Disneyland    Mouse        Main Character\n",
       "Person_2  Minnie Mouse  90.0  Disneyland    Mouse        Main Character\n",
       "Person_3   Donald Duck  86.0    Duckburg     Duck        Main Character\n",
       "Person_4         Goofy  85.0        None      Dog  Supporting Character\n",
       "Person_5         Pluto  91.0  Mickeytown      Dog  Supporting Character\n",
       "Person_6    Cinderella   NaN      Castle    Human        Main Character\n",
       "Person_7         Simba  25.0  Pride Rock     Lion        Main Character\n",
       "Person_8         Ariel  30.0   Atlantica  Mermaid        Main Character"
      ]
     },
     "execution_count": 33,
     "metadata": {},
     "output_type": "execute_result"
    }
   ],
   "source": [
    "#creare indici personalizzati\n",
    "# Creazione del DataFrame con indice personalizzato\n",
    "# index = ['Person_1', 'Person_2', 'Person 3', 'Person 4'] - non molto conveninte per tanti dati dunque iteriamo\n",
    "# Lunghezza del DataFrame\n",
    "n_rows = len(data['Name'])\n",
    "\n",
    "# Creazione del DataFrame con indice personalizzato utilizzando un ciclo\n",
    "index_base = 'Person_'\n",
    "index = [index_base + str(i+1) for i in range(n_rows)] #['Person_1', 'Person_2', 'Person_3', 'Person_4', ...]\n",
    "df_disney_indice = pd.DataFrame(data, index=index)\n",
    "df_disney_indice"
   ]
  },
  {
   "cell_type": "code",
   "execution_count": 35,
   "id": "07cc769c-330f-4989-9d75-48774abd63d4",
   "metadata": {},
   "outputs": [
    {
     "data": {
      "text/html": [
       "<div>\n",
       "<style scoped>\n",
       "    .dataframe tbody tr th:only-of-type {\n",
       "        vertical-align: middle;\n",
       "    }\n",
       "\n",
       "    .dataframe tbody tr th {\n",
       "        vertical-align: top;\n",
       "    }\n",
       "\n",
       "    .dataframe thead th {\n",
       "        text-align: right;\n",
       "    }\n",
       "</style>\n",
       "<table border=\"1\" class=\"dataframe\">\n",
       "  <thead>\n",
       "    <tr style=\"text-align: right;\">\n",
       "      <th></th>\n",
       "      <th>Name</th>\n",
       "      <th>Age</th>\n",
       "      <th>City</th>\n",
       "      <th>Species</th>\n",
       "      <th>Role</th>\n",
       "    </tr>\n",
       "  </thead>\n",
       "  <tbody>\n",
       "    <tr>\n",
       "      <th>0</th>\n",
       "      <td>Mickey Mouse</td>\n",
       "      <td>92.0</td>\n",
       "      <td>Disneyland</td>\n",
       "      <td>Mouse</td>\n",
       "      <td>Main Character</td>\n",
       "    </tr>\n",
       "    <tr>\n",
       "      <th>1</th>\n",
       "      <td>Minnie Mouse</td>\n",
       "      <td>90.0</td>\n",
       "      <td>Disneyland</td>\n",
       "      <td>Mouse</td>\n",
       "      <td>Main Character</td>\n",
       "    </tr>\n",
       "    <tr>\n",
       "      <th>2</th>\n",
       "      <td>Donald Duck</td>\n",
       "      <td>86.0</td>\n",
       "      <td>Duckburg</td>\n",
       "      <td>Duck</td>\n",
       "      <td>Main Character</td>\n",
       "    </tr>\n",
       "    <tr>\n",
       "      <th>3</th>\n",
       "      <td>Goofy</td>\n",
       "      <td>85.0</td>\n",
       "      <td>None</td>\n",
       "      <td>Dog</td>\n",
       "      <td>Supporting Character</td>\n",
       "    </tr>\n",
       "    <tr>\n",
       "      <th>4</th>\n",
       "      <td>Pluto</td>\n",
       "      <td>91.0</td>\n",
       "      <td>Mickeytown</td>\n",
       "      <td>Dog</td>\n",
       "      <td>Supporting Character</td>\n",
       "    </tr>\n",
       "    <tr>\n",
       "      <th>5</th>\n",
       "      <td>Cinderella</td>\n",
       "      <td>NaN</td>\n",
       "      <td>Castle</td>\n",
       "      <td>Human</td>\n",
       "      <td>Main Character</td>\n",
       "    </tr>\n",
       "    <tr>\n",
       "      <th>6</th>\n",
       "      <td>Simba</td>\n",
       "      <td>25.0</td>\n",
       "      <td>Pride Rock</td>\n",
       "      <td>Lion</td>\n",
       "      <td>Main Character</td>\n",
       "    </tr>\n",
       "    <tr>\n",
       "      <th>7</th>\n",
       "      <td>Ariel</td>\n",
       "      <td>30.0</td>\n",
       "      <td>Atlantica</td>\n",
       "      <td>Mermaid</td>\n",
       "      <td>Main Character</td>\n",
       "    </tr>\n",
       "  </tbody>\n",
       "</table>\n",
       "</div>"
      ],
      "text/plain": [
       "           Name   Age        City  Species                  Role\n",
       "0  Mickey Mouse  92.0  Disneyland    Mouse        Main Character\n",
       "1  Minnie Mouse  90.0  Disneyland    Mouse        Main Character\n",
       "2   Donald Duck  86.0    Duckburg     Duck        Main Character\n",
       "3         Goofy  85.0        None      Dog  Supporting Character\n",
       "4         Pluto  91.0  Mickeytown      Dog  Supporting Character\n",
       "5    Cinderella   NaN      Castle    Human        Main Character\n",
       "6         Simba  25.0  Pride Rock     Lion        Main Character\n",
       "7         Ariel  30.0   Atlantica  Mermaid        Main Character"
      ]
     },
     "execution_count": 35,
     "metadata": {},
     "output_type": "execute_result"
    }
   ],
   "source": [
    "df_disney.reset_index()"
   ]
  },
  {
   "cell_type": "code",
   "execution_count": 40,
   "id": "7828a70a-922f-4154-8c6d-fb7e96141a80",
   "metadata": {},
   "outputs": [
    {
     "data": {
      "text/html": [
       "<div>\n",
       "<style scoped>\n",
       "    .dataframe tbody tr th:only-of-type {\n",
       "        vertical-align: middle;\n",
       "    }\n",
       "\n",
       "    .dataframe tbody tr th {\n",
       "        vertical-align: top;\n",
       "    }\n",
       "\n",
       "    .dataframe thead th {\n",
       "        text-align: right;\n",
       "    }\n",
       "</style>\n",
       "<table border=\"1\" class=\"dataframe\">\n",
       "  <thead>\n",
       "    <tr style=\"text-align: right;\">\n",
       "      <th></th>\n",
       "      <th>Name</th>\n",
       "      <th>Age</th>\n",
       "      <th>City</th>\n",
       "      <th>Species</th>\n",
       "      <th>Role</th>\n",
       "    </tr>\n",
       "  </thead>\n",
       "  <tbody>\n",
       "    <tr>\n",
       "      <th>0</th>\n",
       "      <td>Mickey Mouse</td>\n",
       "      <td>92.0</td>\n",
       "      <td>Disneyland</td>\n",
       "      <td>Mouse</td>\n",
       "      <td>Main Character</td>\n",
       "    </tr>\n",
       "    <tr>\n",
       "      <th>1</th>\n",
       "      <td>Minnie Mouse</td>\n",
       "      <td>90.0</td>\n",
       "      <td>Disneyland</td>\n",
       "      <td>Mouse</td>\n",
       "      <td>Main Character</td>\n",
       "    </tr>\n",
       "    <tr>\n",
       "      <th>2</th>\n",
       "      <td>Donald Duck</td>\n",
       "      <td>86.0</td>\n",
       "      <td>Duckburg</td>\n",
       "      <td>Duck</td>\n",
       "      <td>Main Character</td>\n",
       "    </tr>\n",
       "    <tr>\n",
       "      <th>3</th>\n",
       "      <td>Goofy</td>\n",
       "      <td>85.0</td>\n",
       "      <td>None</td>\n",
       "      <td>Dog</td>\n",
       "      <td>Supporting Character</td>\n",
       "    </tr>\n",
       "    <tr>\n",
       "      <th>4</th>\n",
       "      <td>Pluto</td>\n",
       "      <td>91.0</td>\n",
       "      <td>Mickeytown</td>\n",
       "      <td>Dog</td>\n",
       "      <td>Supporting Character</td>\n",
       "    </tr>\n",
       "    <tr>\n",
       "      <th>5</th>\n",
       "      <td>Cinderella</td>\n",
       "      <td>NaN</td>\n",
       "      <td>Castle</td>\n",
       "      <td>Human</td>\n",
       "      <td>Main Character</td>\n",
       "    </tr>\n",
       "    <tr>\n",
       "      <th>6</th>\n",
       "      <td>Simba</td>\n",
       "      <td>25.0</td>\n",
       "      <td>Pride Rock</td>\n",
       "      <td>Lion</td>\n",
       "      <td>Main Character</td>\n",
       "    </tr>\n",
       "    <tr>\n",
       "      <th>7</th>\n",
       "      <td>Ariel</td>\n",
       "      <td>30.0</td>\n",
       "      <td>Atlantica</td>\n",
       "      <td>Mermaid</td>\n",
       "      <td>Main Character</td>\n",
       "    </tr>\n",
       "  </tbody>\n",
       "</table>\n",
       "</div>"
      ],
      "text/plain": [
       "           Name   Age        City  Species                  Role\n",
       "0  Mickey Mouse  92.0  Disneyland    Mouse        Main Character\n",
       "1  Minnie Mouse  90.0  Disneyland    Mouse        Main Character\n",
       "2   Donald Duck  86.0    Duckburg     Duck        Main Character\n",
       "3         Goofy  85.0        None      Dog  Supporting Character\n",
       "4         Pluto  91.0  Mickeytown      Dog  Supporting Character\n",
       "5    Cinderella   NaN      Castle    Human        Main Character\n",
       "6         Simba  25.0  Pride Rock     Lion        Main Character\n",
       "7         Ariel  30.0   Atlantica  Mermaid        Main Character"
      ]
     },
     "execution_count": 40,
     "metadata": {},
     "output_type": "execute_result"
    }
   ],
   "source": [
    "#rigeriamo il DataFrame\n",
    "df_disney = pd.DataFrame(data)\n",
    "df_disney"
   ]
  },
  {
   "cell_type": "code",
   "execution_count": 42,
   "id": "29b5fce8-2daf-4e3f-a037-532dac9690a6",
   "metadata": {},
   "outputs": [
    {
     "data": {
      "text/plain": [
       "Name        object\n",
       "Age        float64\n",
       "City        object\n",
       "Species     object\n",
       "Role        object\n",
       "dtype: object"
      ]
     },
     "execution_count": 42,
     "metadata": {},
     "output_type": "execute_result"
    }
   ],
   "source": [
    "df_disney.dtypes #attribute dtypes: Return the dtypes in the DataFrame. \n",
    "#In generale, quando le colonne sono di tipo object, possono contenere una varietà di dati come stringhe, numeri, datetime, o anche valori non definiti."
   ]
  },
  {
   "cell_type": "code",
   "execution_count": 41,
   "id": "d5062822-153b-48f0-839d-0be851303c19",
   "metadata": {},
   "outputs": [
    {
     "data": {
      "text/plain": [
       "0    Mickey Mouse\n",
       "1    Minnie Mouse\n",
       "2     Donald Duck\n",
       "3           Goofy\n",
       "4           Pluto\n",
       "5      Cinderella\n",
       "6           Simba\n",
       "7           Ariel\n",
       "Name: Name, dtype: object"
      ]
     },
     "execution_count": 41,
     "metadata": {},
     "output_type": "execute_result"
    }
   ],
   "source": [
    "#df['colonna']: Seleziona una singola colonna come Serie.\n",
    "#df[['colonna1', 'colonna2']]: Seleziona più colonne come DataFrame\n",
    "df_disney['Name'] #Selezionare una singola colonna da un DataFrame."
   ]
  },
  {
   "cell_type": "code",
   "execution_count": 45,
   "id": "38c2afd5-725f-4778-8a73-592cb54064e8",
   "metadata": {},
   "outputs": [
    {
     "data": {
      "text/plain": [
       "0    92.0\n",
       "1    90.0\n",
       "2    86.0\n",
       "3    85.0\n",
       "4    91.0\n",
       "5     NaN\n",
       "6    25.0\n",
       "7    30.0\n",
       "Name: Age, dtype: float64"
      ]
     },
     "execution_count": 45,
     "metadata": {},
     "output_type": "execute_result"
    }
   ],
   "source": [
    "df_disney['Age']"
   ]
  },
  {
   "cell_type": "code",
   "execution_count": 46,
   "id": "68e6af52-827d-4dac-a5c8-a3570aaf63e2",
   "metadata": {},
   "outputs": [
    {
     "data": {
      "text/html": [
       "<div>\n",
       "<style scoped>\n",
       "    .dataframe tbody tr th:only-of-type {\n",
       "        vertical-align: middle;\n",
       "    }\n",
       "\n",
       "    .dataframe tbody tr th {\n",
       "        vertical-align: top;\n",
       "    }\n",
       "\n",
       "    .dataframe thead th {\n",
       "        text-align: right;\n",
       "    }\n",
       "</style>\n",
       "<table border=\"1\" class=\"dataframe\">\n",
       "  <thead>\n",
       "    <tr style=\"text-align: right;\">\n",
       "      <th></th>\n",
       "      <th>Name</th>\n",
       "      <th>Age</th>\n",
       "    </tr>\n",
       "  </thead>\n",
       "  <tbody>\n",
       "    <tr>\n",
       "      <th>0</th>\n",
       "      <td>Mickey Mouse</td>\n",
       "      <td>92.0</td>\n",
       "    </tr>\n",
       "    <tr>\n",
       "      <th>1</th>\n",
       "      <td>Minnie Mouse</td>\n",
       "      <td>90.0</td>\n",
       "    </tr>\n",
       "    <tr>\n",
       "      <th>2</th>\n",
       "      <td>Donald Duck</td>\n",
       "      <td>86.0</td>\n",
       "    </tr>\n",
       "    <tr>\n",
       "      <th>3</th>\n",
       "      <td>Goofy</td>\n",
       "      <td>85.0</td>\n",
       "    </tr>\n",
       "    <tr>\n",
       "      <th>4</th>\n",
       "      <td>Pluto</td>\n",
       "      <td>91.0</td>\n",
       "    </tr>\n",
       "    <tr>\n",
       "      <th>5</th>\n",
       "      <td>Cinderella</td>\n",
       "      <td>NaN</td>\n",
       "    </tr>\n",
       "    <tr>\n",
       "      <th>6</th>\n",
       "      <td>Simba</td>\n",
       "      <td>25.0</td>\n",
       "    </tr>\n",
       "    <tr>\n",
       "      <th>7</th>\n",
       "      <td>Ariel</td>\n",
       "      <td>30.0</td>\n",
       "    </tr>\n",
       "  </tbody>\n",
       "</table>\n",
       "</div>"
      ],
      "text/plain": [
       "           Name   Age\n",
       "0  Mickey Mouse  92.0\n",
       "1  Minnie Mouse  90.0\n",
       "2   Donald Duck  86.0\n",
       "3         Goofy  85.0\n",
       "4         Pluto  91.0\n",
       "5    Cinderella   NaN\n",
       "6         Simba  25.0\n",
       "7         Ariel  30.0"
      ]
     },
     "execution_count": 46,
     "metadata": {},
     "output_type": "execute_result"
    }
   ],
   "source": [
    "df_disney[['Name', 'Age']]"
   ]
  },
  {
   "cell_type": "code",
   "execution_count": 47,
   "id": "8664c753-f483-48a0-9e8a-040934f468e7",
   "metadata": {},
   "outputs": [
    {
     "data": {
      "text/html": [
       "<div>\n",
       "<style scoped>\n",
       "    .dataframe tbody tr th:only-of-type {\n",
       "        vertical-align: middle;\n",
       "    }\n",
       "\n",
       "    .dataframe tbody tr th {\n",
       "        vertical-align: top;\n",
       "    }\n",
       "\n",
       "    .dataframe thead th {\n",
       "        text-align: right;\n",
       "    }\n",
       "</style>\n",
       "<table border=\"1\" class=\"dataframe\">\n",
       "  <thead>\n",
       "    <tr style=\"text-align: right;\">\n",
       "      <th></th>\n",
       "      <th>Name</th>\n",
       "      <th>Age</th>\n",
       "      <th>City</th>\n",
       "      <th>Species</th>\n",
       "      <th>Role</th>\n",
       "    </tr>\n",
       "  </thead>\n",
       "  <tbody>\n",
       "    <tr>\n",
       "      <th>0</th>\n",
       "      <td>Mickey Mouse</td>\n",
       "      <td>92.0</td>\n",
       "      <td>Disneyland</td>\n",
       "      <td>Mouse</td>\n",
       "      <td>Main Character</td>\n",
       "    </tr>\n",
       "    <tr>\n",
       "      <th>2</th>\n",
       "      <td>Donald Duck</td>\n",
       "      <td>86.0</td>\n",
       "      <td>Duckburg</td>\n",
       "      <td>Duck</td>\n",
       "      <td>Main Character</td>\n",
       "    </tr>\n",
       "    <tr>\n",
       "      <th>4</th>\n",
       "      <td>Pluto</td>\n",
       "      <td>91.0</td>\n",
       "      <td>Mickeytown</td>\n",
       "      <td>Dog</td>\n",
       "      <td>Supporting Character</td>\n",
       "    </tr>\n",
       "    <tr>\n",
       "      <th>6</th>\n",
       "      <td>Simba</td>\n",
       "      <td>25.0</td>\n",
       "      <td>Pride Rock</td>\n",
       "      <td>Lion</td>\n",
       "      <td>Main Character</td>\n",
       "    </tr>\n",
       "  </tbody>\n",
       "</table>\n",
       "</div>"
      ],
      "text/plain": [
       "           Name   Age        City Species                  Role\n",
       "0  Mickey Mouse  92.0  Disneyland   Mouse        Main Character\n",
       "2   Donald Duck  86.0    Duckburg    Duck        Main Character\n",
       "4         Pluto  91.0  Mickeytown     Dog  Supporting Character\n",
       "6         Simba  25.0  Pride Rock    Lion        Main Character"
      ]
     },
     "execution_count": 47,
     "metadata": {},
     "output_type": "execute_result"
    }
   ],
   "source": [
    "rows_even = df_disney[df_disney.index % 2 == 0] #solo righe pari - ma c'è un altro modo che vedremo sotto! \n",
    "rows_even "
   ]
  },
  {
   "cell_type": "code",
   "execution_count": 48,
   "id": "84f0b330-90ee-46b5-b428-ae12e17d49de",
   "metadata": {},
   "outputs": [
    {
     "data": {
      "text/html": [
       "<div>\n",
       "<style scoped>\n",
       "    .dataframe tbody tr th:only-of-type {\n",
       "        vertical-align: middle;\n",
       "    }\n",
       "\n",
       "    .dataframe tbody tr th {\n",
       "        vertical-align: top;\n",
       "    }\n",
       "\n",
       "    .dataframe thead th {\n",
       "        text-align: right;\n",
       "    }\n",
       "</style>\n",
       "<table border=\"1\" class=\"dataframe\">\n",
       "  <thead>\n",
       "    <tr style=\"text-align: right;\">\n",
       "      <th></th>\n",
       "      <th>Age</th>\n",
       "      <th>Species</th>\n",
       "    </tr>\n",
       "  </thead>\n",
       "  <tbody>\n",
       "    <tr>\n",
       "      <th>0</th>\n",
       "      <td>92.0</td>\n",
       "      <td>Mouse</td>\n",
       "    </tr>\n",
       "    <tr>\n",
       "      <th>1</th>\n",
       "      <td>90.0</td>\n",
       "      <td>Mouse</td>\n",
       "    </tr>\n",
       "    <tr>\n",
       "      <th>2</th>\n",
       "      <td>86.0</td>\n",
       "      <td>Duck</td>\n",
       "    </tr>\n",
       "    <tr>\n",
       "      <th>3</th>\n",
       "      <td>85.0</td>\n",
       "      <td>Dog</td>\n",
       "    </tr>\n",
       "    <tr>\n",
       "      <th>4</th>\n",
       "      <td>91.0</td>\n",
       "      <td>Dog</td>\n",
       "    </tr>\n",
       "    <tr>\n",
       "      <th>5</th>\n",
       "      <td>NaN</td>\n",
       "      <td>Human</td>\n",
       "    </tr>\n",
       "    <tr>\n",
       "      <th>6</th>\n",
       "      <td>25.0</td>\n",
       "      <td>Lion</td>\n",
       "    </tr>\n",
       "    <tr>\n",
       "      <th>7</th>\n",
       "      <td>30.0</td>\n",
       "      <td>Mermaid</td>\n",
       "    </tr>\n",
       "  </tbody>\n",
       "</table>\n",
       "</div>"
      ],
      "text/plain": [
       "    Age  Species\n",
       "0  92.0    Mouse\n",
       "1  90.0    Mouse\n",
       "2  86.0     Duck\n",
       "3  85.0      Dog\n",
       "4  91.0      Dog\n",
       "5   NaN    Human\n",
       "6  25.0     Lion\n",
       "7  30.0  Mermaid"
      ]
     },
     "execution_count": 48,
     "metadata": {},
     "output_type": "execute_result"
    }
   ],
   "source": [
    "odd_columns = df_disney[df_disney.columns[1::2]] #solo colonne dispari - esiste columns ma non esiste rows\n",
    "odd_columns"
   ]
  },
  {
   "cell_type": "code",
   "execution_count": 49,
   "id": "1de8e92d-2875-42dc-8e23-3191b63bf80c",
   "metadata": {},
   "outputs": [
    {
     "data": {
      "text/html": [
       "<div>\n",
       "<style scoped>\n",
       "    .dataframe tbody tr th:only-of-type {\n",
       "        vertical-align: middle;\n",
       "    }\n",
       "\n",
       "    .dataframe tbody tr th {\n",
       "        vertical-align: top;\n",
       "    }\n",
       "\n",
       "    .dataframe thead th {\n",
       "        text-align: right;\n",
       "    }\n",
       "</style>\n",
       "<table border=\"1\" class=\"dataframe\">\n",
       "  <thead>\n",
       "    <tr style=\"text-align: right;\">\n",
       "      <th></th>\n",
       "      <th>Name</th>\n",
       "      <th>Age</th>\n",
       "      <th>City</th>\n",
       "      <th>Species</th>\n",
       "      <th>Role</th>\n",
       "    </tr>\n",
       "  </thead>\n",
       "  <tbody>\n",
       "    <tr>\n",
       "      <th>3</th>\n",
       "      <td>Goofy</td>\n",
       "      <td>85.0</td>\n",
       "      <td>None</td>\n",
       "      <td>Dog</td>\n",
       "      <td>Supporting Character</td>\n",
       "    </tr>\n",
       "  </tbody>\n",
       "</table>\n",
       "</div>"
      ],
      "text/plain": [
       "    Name   Age  City Species                  Role\n",
       "3  Goofy  85.0  None     Dog  Supporting Character"
      ]
     },
     "execution_count": 49,
     "metadata": {},
     "output_type": "execute_result"
    }
   ],
   "source": [
    "only_element = df_disney[df_disney.index == 3] #solo un elemento - dopo vedremo un altro metodo\n",
    "only_element "
   ]
  },
  {
   "cell_type": "code",
   "execution_count": 51,
   "id": "c1037670-86ae-4a50-9bc3-33aacf79759e",
   "metadata": {},
   "outputs": [
    {
     "data": {
      "text/html": [
       "<div>\n",
       "<style scoped>\n",
       "    .dataframe tbody tr th:only-of-type {\n",
       "        vertical-align: middle;\n",
       "    }\n",
       "\n",
       "    .dataframe tbody tr th {\n",
       "        vertical-align: top;\n",
       "    }\n",
       "\n",
       "    .dataframe thead th {\n",
       "        text-align: right;\n",
       "    }\n",
       "</style>\n",
       "<table border=\"1\" class=\"dataframe\">\n",
       "  <thead>\n",
       "    <tr style=\"text-align: right;\">\n",
       "      <th></th>\n",
       "      <th>Name</th>\n",
       "      <th>Age</th>\n",
       "      <th>City</th>\n",
       "      <th>Species</th>\n",
       "      <th>Role</th>\n",
       "    </tr>\n",
       "  </thead>\n",
       "  <tbody>\n",
       "    <tr>\n",
       "      <th>0</th>\n",
       "      <td>Mickey Mouse</td>\n",
       "      <td>92.0</td>\n",
       "      <td>Disneyland</td>\n",
       "      <td>Mouse</td>\n",
       "      <td>Main Character</td>\n",
       "    </tr>\n",
       "    <tr>\n",
       "      <th>1</th>\n",
       "      <td>Minnie Mouse</td>\n",
       "      <td>90.0</td>\n",
       "      <td>Disneyland</td>\n",
       "      <td>Mouse</td>\n",
       "      <td>Main Character</td>\n",
       "    </tr>\n",
       "    <tr>\n",
       "      <th>2</th>\n",
       "      <td>Donald Duck</td>\n",
       "      <td>86.0</td>\n",
       "      <td>Duckburg</td>\n",
       "      <td>Duck</td>\n",
       "      <td>Main Character</td>\n",
       "    </tr>\n",
       "    <tr>\n",
       "      <th>3</th>\n",
       "      <td>Goofy</td>\n",
       "      <td>85.0</td>\n",
       "      <td>None</td>\n",
       "      <td>Dog</td>\n",
       "      <td>Supporting Character</td>\n",
       "    </tr>\n",
       "    <tr>\n",
       "      <th>4</th>\n",
       "      <td>Pluto</td>\n",
       "      <td>91.0</td>\n",
       "      <td>Mickeytown</td>\n",
       "      <td>Dog</td>\n",
       "      <td>Supporting Character</td>\n",
       "    </tr>\n",
       "    <tr>\n",
       "      <th>5</th>\n",
       "      <td>Cinderella</td>\n",
       "      <td>NaN</td>\n",
       "      <td>Castle</td>\n",
       "      <td>Human</td>\n",
       "      <td>Main Character</td>\n",
       "    </tr>\n",
       "    <tr>\n",
       "      <th>6</th>\n",
       "      <td>Simba</td>\n",
       "      <td>25.0</td>\n",
       "      <td>Pride Rock</td>\n",
       "      <td>Lion</td>\n",
       "      <td>Main Character</td>\n",
       "    </tr>\n",
       "    <tr>\n",
       "      <th>7</th>\n",
       "      <td>Ariel</td>\n",
       "      <td>30.0</td>\n",
       "      <td>Atlantica</td>\n",
       "      <td>Mermaid</td>\n",
       "      <td>Main Character</td>\n",
       "    </tr>\n",
       "  </tbody>\n",
       "</table>\n",
       "</div>"
      ],
      "text/plain": [
       "           Name   Age        City  Species                  Role\n",
       "0  Mickey Mouse  92.0  Disneyland    Mouse        Main Character\n",
       "1  Minnie Mouse  90.0  Disneyland    Mouse        Main Character\n",
       "2   Donald Duck  86.0    Duckburg     Duck        Main Character\n",
       "3         Goofy  85.0        None      Dog  Supporting Character\n",
       "4         Pluto  91.0  Mickeytown      Dog  Supporting Character\n",
       "5    Cinderella   NaN      Castle    Human        Main Character\n",
       "6         Simba  25.0  Pride Rock     Lion        Main Character\n",
       "7         Ariel  30.0   Atlantica  Mermaid        Main Character"
      ]
     },
     "execution_count": 51,
     "metadata": {},
     "output_type": "execute_result"
    }
   ],
   "source": [
    "df_disney"
   ]
  },
  {
   "cell_type": "code",
   "execution_count": 50,
   "id": "245a5bc6-8cc3-467f-9f42-b44446dd27de",
   "metadata": {},
   "outputs": [
    {
     "data": {
      "text/plain": [
       "'Goofy'"
      ]
     },
     "execution_count": 50,
     "metadata": {},
     "output_type": "execute_result"
    }
   ],
   "source": [
    "# Accesso diretto a un singolo elemento\n",
    "only_name = df_disney['Name'][3]\n",
    "only_name"
   ]
  },
  {
   "cell_type": "code",
   "execution_count": 52,
   "id": "b8e2704e-9c5b-41ac-93c8-0d6191e991a8",
   "metadata": {},
   "outputs": [
    {
     "data": {
      "text/plain": [
       "3         Goofy\n",
       "4         Pluto\n",
       "5    Cinderella\n",
       "6         Simba\n",
       "7         Ariel\n",
       "Name: Name, dtype: object"
      ]
     },
     "execution_count": 52,
     "metadata": {},
     "output_type": "execute_result"
    }
   ],
   "source": [
    "# Accesso diretto ad intervallo di elementi\n",
    "only_name = df_disney['Name'][3:] #dal terzo in poi\n",
    "only_name"
   ]
  },
  {
   "cell_type": "code",
   "execution_count": 53,
   "id": "d28706a0-80ad-41eb-afb8-806fa8d5c3dd",
   "metadata": {},
   "outputs": [
    {
     "data": {
      "text/plain": [
       "Name       8\n",
       "Age        7\n",
       "City       6\n",
       "Species    6\n",
       "Role       2\n",
       "dtype: int64"
      ]
     },
     "execution_count": 53,
     "metadata": {},
     "output_type": "execute_result"
    }
   ],
   "source": [
    "df_disney.nunique() #restituisce il numero di valori unici presenti nella Serie o nella colonna del DataFrame. "
   ]
  },
  {
   "cell_type": "code",
   "execution_count": 54,
   "id": "ad4eb5c3-343b-4e9f-8e2e-ce926b7caf61",
   "metadata": {},
   "outputs": [
    {
     "data": {
      "text/plain": [
       "array([92., 90., 86., 85., 91., nan, 25., 30.])"
      ]
     },
     "execution_count": 54,
     "metadata": {},
     "output_type": "execute_result"
    }
   ],
   "source": [
    "df_disney['Age'].unique() #array di valori unici in una colonna"
   ]
  },
  {
   "cell_type": "code",
   "execution_count": 103,
   "id": "63b322f9-e688-412d-b2e1-e1823e46a0c5",
   "metadata": {},
   "outputs": [
    {
     "data": {
      "text/html": [
       "<div>\n",
       "<style scoped>\n",
       "    .dataframe tbody tr th:only-of-type {\n",
       "        vertical-align: middle;\n",
       "    }\n",
       "\n",
       "    .dataframe tbody tr th {\n",
       "        vertical-align: top;\n",
       "    }\n",
       "\n",
       "    .dataframe thead th {\n",
       "        text-align: right;\n",
       "    }\n",
       "</style>\n",
       "<table border=\"1\" class=\"dataframe\">\n",
       "  <thead>\n",
       "    <tr style=\"text-align: right;\">\n",
       "      <th></th>\n",
       "      <th>Name</th>\n",
       "      <th>Age</th>\n",
       "      <th>City</th>\n",
       "      <th>Species</th>\n",
       "      <th>Role</th>\n",
       "    </tr>\n",
       "  </thead>\n",
       "  <tbody>\n",
       "    <tr>\n",
       "      <th>3</th>\n",
       "      <td>Goofy</td>\n",
       "      <td>85.0</td>\n",
       "      <td>None</td>\n",
       "      <td>Dog</td>\n",
       "      <td>Supporting Character</td>\n",
       "    </tr>\n",
       "    <tr>\n",
       "      <th>5</th>\n",
       "      <td>Cinderella</td>\n",
       "      <td>NaN</td>\n",
       "      <td>Castle</td>\n",
       "      <td>Human</td>\n",
       "      <td>Main Character</td>\n",
       "    </tr>\n",
       "  </tbody>\n",
       "</table>\n",
       "</div>"
      ],
      "text/plain": [
       "         Name   Age    City Species                  Role\n",
       "3       Goofy  85.0    None     Dog  Supporting Character\n",
       "5  Cinderella   NaN  Castle   Human        Main Character"
      ]
     },
     "execution_count": 103,
     "metadata": {},
     "output_type": "execute_result"
    }
   ],
   "source": [
    "# Selezionare solo le righe con valori nulli\n",
    "# Usiamo il metodo .any() per determinare se almeno uno degli elementi in una struttura dati \n",
    "# (come una serie o un DataFrame) soddisfa una condizione specifica.\n",
    "# Quando applicato a un DataFrame o a una Serie booleana, come nel caso di df_disney.isnull(), restituisce una Serie booleana in cui ogni elemento indica \n",
    "# se il corrispondente elemento nel DataFrame originale è nullo (True) o non nullo (False)\n",
    "df_nulls_only = df_disney[df_disney.isnull().any(axis=1)]\n",
    "\n",
    "# Stampare il DataFrame risultante\n",
    "df_nulls_only\n"
   ]
  },
  {
   "cell_type": "markdown",
   "id": "bc5c4aa6-ccb9-4d6d-83fb-4744933a23ac",
   "metadata": {},
   "source": [
    "## SERIE"
   ]
  },
  {
   "cell_type": "code",
   "execution_count": 55,
   "id": "021b6517-cae0-4f1a-aabb-74008d237a17",
   "metadata": {},
   "outputs": [
    {
     "data": {
      "text/plain": [
       "0    Mickey Mouse\n",
       "1    Minnie Mouse\n",
       "2     Donald Duck\n",
       "3           Goofy\n",
       "4           Pluto\n",
       "5      Cinderella\n",
       "6           Simba\n",
       "7           Ariel\n",
       "Name: Name, dtype: object"
      ]
     },
     "execution_count": 55,
     "metadata": {},
     "output_type": "execute_result"
    }
   ],
   "source": [
    "df_disney['Name'] #Serie #NB: è case sensitive!"
   ]
  },
  {
   "cell_type": "code",
   "execution_count": 56,
   "id": "862a731d-993e-4581-af4b-c291b6d84517",
   "metadata": {},
   "outputs": [
    {
     "data": {
      "text/html": [
       "<div>\n",
       "<style scoped>\n",
       "    .dataframe tbody tr th:only-of-type {\n",
       "        vertical-align: middle;\n",
       "    }\n",
       "\n",
       "    .dataframe tbody tr th {\n",
       "        vertical-align: top;\n",
       "    }\n",
       "\n",
       "    .dataframe thead th {\n",
       "        text-align: right;\n",
       "    }\n",
       "</style>\n",
       "<table border=\"1\" class=\"dataframe\">\n",
       "  <thead>\n",
       "    <tr style=\"text-align: right;\">\n",
       "      <th></th>\n",
       "      <th>Name</th>\n",
       "    </tr>\n",
       "  </thead>\n",
       "  <tbody>\n",
       "    <tr>\n",
       "      <th>0</th>\n",
       "      <td>Mickey Mouse</td>\n",
       "    </tr>\n",
       "    <tr>\n",
       "      <th>1</th>\n",
       "      <td>Minnie Mouse</td>\n",
       "    </tr>\n",
       "    <tr>\n",
       "      <th>2</th>\n",
       "      <td>Donald Duck</td>\n",
       "    </tr>\n",
       "    <tr>\n",
       "      <th>3</th>\n",
       "      <td>Goofy</td>\n",
       "    </tr>\n",
       "    <tr>\n",
       "      <th>4</th>\n",
       "      <td>Pluto</td>\n",
       "    </tr>\n",
       "    <tr>\n",
       "      <th>5</th>\n",
       "      <td>Cinderella</td>\n",
       "    </tr>\n",
       "    <tr>\n",
       "      <th>6</th>\n",
       "      <td>Simba</td>\n",
       "    </tr>\n",
       "    <tr>\n",
       "      <th>7</th>\n",
       "      <td>Ariel</td>\n",
       "    </tr>\n",
       "  </tbody>\n",
       "</table>\n",
       "</div>"
      ],
      "text/plain": [
       "           Name\n",
       "0  Mickey Mouse\n",
       "1  Minnie Mouse\n",
       "2   Donald Duck\n",
       "3         Goofy\n",
       "4         Pluto\n",
       "5    Cinderella\n",
       "6         Simba\n",
       "7         Ariel"
      ]
     },
     "execution_count": 56,
     "metadata": {},
     "output_type": "execute_result"
    }
   ],
   "source": [
    "#convertire la serie in un dataframe\n",
    "name_disney = df_disney['Name'] #Serie #NB: è case sensitive!\n",
    "name_disney.to_frame()"
   ]
  },
  {
   "cell_type": "markdown",
   "id": "3981786c-25ef-4bdf-ad46-b86955cd75e7",
   "metadata": {},
   "source": [
    "## DATAFRAME"
   ]
  },
  {
   "cell_type": "code",
   "execution_count": 57,
   "id": "820d037b-16f7-41b6-8c14-8dfaa174047f",
   "metadata": {},
   "outputs": [
    {
     "data": {
      "text/html": [
       "<div>\n",
       "<style scoped>\n",
       "    .dataframe tbody tr th:only-of-type {\n",
       "        vertical-align: middle;\n",
       "    }\n",
       "\n",
       "    .dataframe tbody tr th {\n",
       "        vertical-align: top;\n",
       "    }\n",
       "\n",
       "    .dataframe thead th {\n",
       "        text-align: right;\n",
       "    }\n",
       "</style>\n",
       "<table border=\"1\" class=\"dataframe\">\n",
       "  <thead>\n",
       "    <tr style=\"text-align: right;\">\n",
       "      <th></th>\n",
       "      <th>Name</th>\n",
       "      <th>Age</th>\n",
       "    </tr>\n",
       "  </thead>\n",
       "  <tbody>\n",
       "    <tr>\n",
       "      <th>0</th>\n",
       "      <td>Mickey Mouse</td>\n",
       "      <td>92.0</td>\n",
       "    </tr>\n",
       "    <tr>\n",
       "      <th>1</th>\n",
       "      <td>Minnie Mouse</td>\n",
       "      <td>90.0</td>\n",
       "    </tr>\n",
       "    <tr>\n",
       "      <th>2</th>\n",
       "      <td>Donald Duck</td>\n",
       "      <td>86.0</td>\n",
       "    </tr>\n",
       "    <tr>\n",
       "      <th>3</th>\n",
       "      <td>Goofy</td>\n",
       "      <td>85.0</td>\n",
       "    </tr>\n",
       "    <tr>\n",
       "      <th>4</th>\n",
       "      <td>Pluto</td>\n",
       "      <td>91.0</td>\n",
       "    </tr>\n",
       "    <tr>\n",
       "      <th>5</th>\n",
       "      <td>Cinderella</td>\n",
       "      <td>NaN</td>\n",
       "    </tr>\n",
       "    <tr>\n",
       "      <th>6</th>\n",
       "      <td>Simba</td>\n",
       "      <td>25.0</td>\n",
       "    </tr>\n",
       "    <tr>\n",
       "      <th>7</th>\n",
       "      <td>Ariel</td>\n",
       "      <td>30.0</td>\n",
       "    </tr>\n",
       "  </tbody>\n",
       "</table>\n",
       "</div>"
      ],
      "text/plain": [
       "           Name   Age\n",
       "0  Mickey Mouse  92.0\n",
       "1  Minnie Mouse  90.0\n",
       "2   Donald Duck  86.0\n",
       "3         Goofy  85.0\n",
       "4         Pluto  91.0\n",
       "5    Cinderella   NaN\n",
       "6         Simba  25.0\n",
       "7         Ariel  30.0"
      ]
     },
     "execution_count": 57,
     "metadata": {},
     "output_type": "execute_result"
    }
   ],
   "source": [
    "df_disney[['Name','Age']]"
   ]
  },
  {
   "cell_type": "markdown",
   "id": "876cdf00-0373-4745-ac35-4698c33bed18",
   "metadata": {},
   "source": [
    "## LOC E ILOC"
   ]
  },
  {
   "cell_type": "markdown",
   "id": "2c8cbb69-d00b-4ed6-9c92-c24aacdf15b7",
   "metadata": {},
   "source": [
    "## LOC\n",
    " attributo di indicizzazione che consente di selezionare righe e colonne di un DataFrame in base alle loro etichette.\n",
    "## ILOC\n",
    "è un attributo di indicizzazione che consente di selezionare righe e colonne di un DataFrame in base alle loro posizioni intere (indice intero)"
   ]
  },
  {
   "cell_type": "code",
   "execution_count": 58,
   "id": "db16906a-7cb2-42a6-bd57-edf4f9ce91e9",
   "metadata": {},
   "outputs": [
    {
     "data": {
      "text/html": [
       "<div>\n",
       "<style scoped>\n",
       "    .dataframe tbody tr th:only-of-type {\n",
       "        vertical-align: middle;\n",
       "    }\n",
       "\n",
       "    .dataframe tbody tr th {\n",
       "        vertical-align: top;\n",
       "    }\n",
       "\n",
       "    .dataframe thead th {\n",
       "        text-align: right;\n",
       "    }\n",
       "</style>\n",
       "<table border=\"1\" class=\"dataframe\">\n",
       "  <thead>\n",
       "    <tr style=\"text-align: right;\">\n",
       "      <th></th>\n",
       "      <th>Name</th>\n",
       "      <th>Age</th>\n",
       "      <th>City</th>\n",
       "      <th>Species</th>\n",
       "      <th>Role</th>\n",
       "    </tr>\n",
       "  </thead>\n",
       "  <tbody>\n",
       "    <tr>\n",
       "      <th>0</th>\n",
       "      <td>Mickey Mouse</td>\n",
       "      <td>92.0</td>\n",
       "      <td>Disneyland</td>\n",
       "      <td>Mouse</td>\n",
       "      <td>Main Character</td>\n",
       "    </tr>\n",
       "    <tr>\n",
       "      <th>1</th>\n",
       "      <td>Minnie Mouse</td>\n",
       "      <td>90.0</td>\n",
       "      <td>Disneyland</td>\n",
       "      <td>Mouse</td>\n",
       "      <td>Main Character</td>\n",
       "    </tr>\n",
       "    <tr>\n",
       "      <th>2</th>\n",
       "      <td>Donald Duck</td>\n",
       "      <td>86.0</td>\n",
       "      <td>Duckburg</td>\n",
       "      <td>Duck</td>\n",
       "      <td>Main Character</td>\n",
       "    </tr>\n",
       "    <tr>\n",
       "      <th>3</th>\n",
       "      <td>Goofy</td>\n",
       "      <td>85.0</td>\n",
       "      <td>None</td>\n",
       "      <td>Dog</td>\n",
       "      <td>Supporting Character</td>\n",
       "    </tr>\n",
       "    <tr>\n",
       "      <th>4</th>\n",
       "      <td>Pluto</td>\n",
       "      <td>91.0</td>\n",
       "      <td>Mickeytown</td>\n",
       "      <td>Dog</td>\n",
       "      <td>Supporting Character</td>\n",
       "    </tr>\n",
       "  </tbody>\n",
       "</table>\n",
       "</div>"
      ],
      "text/plain": [
       "           Name   Age        City Species                  Role\n",
       "0  Mickey Mouse  92.0  Disneyland   Mouse        Main Character\n",
       "1  Minnie Mouse  90.0  Disneyland   Mouse        Main Character\n",
       "2   Donald Duck  86.0    Duckburg    Duck        Main Character\n",
       "3         Goofy  85.0        None     Dog  Supporting Character\n",
       "4         Pluto  91.0  Mickeytown     Dog  Supporting Character"
      ]
     },
     "execution_count": 58,
     "metadata": {},
     "output_type": "execute_result"
    }
   ],
   "source": [
    "df_disney.head()"
   ]
  },
  {
   "cell_type": "code",
   "execution_count": 59,
   "id": "954fe495-68bb-4c56-9a1d-487efd269d9c",
   "metadata": {},
   "outputs": [
    {
     "data": {
      "text/plain": [
       "Name         Mickey Mouse\n",
       "Age                  92.0\n",
       "City           Disneyland\n",
       "Species             Mouse\n",
       "Role       Main Character\n",
       "Name: 0, dtype: object"
      ]
     },
     "execution_count": 59,
     "metadata": {},
     "output_type": "execute_result"
    }
   ],
   "source": [
    "df_disney.iloc[0, :] #seleziona la prima riga e tutte le colonne [0,:] \":\" è implicito"
   ]
  },
  {
   "cell_type": "code",
   "execution_count": 60,
   "id": "8b8b55ca-3436-4e95-af93-bd07a82188b0",
   "metadata": {},
   "outputs": [
    {
     "data": {
      "text/html": [
       "<div>\n",
       "<style scoped>\n",
       "    .dataframe tbody tr th:only-of-type {\n",
       "        vertical-align: middle;\n",
       "    }\n",
       "\n",
       "    .dataframe tbody tr th {\n",
       "        vertical-align: top;\n",
       "    }\n",
       "\n",
       "    .dataframe thead th {\n",
       "        text-align: right;\n",
       "    }\n",
       "</style>\n",
       "<table border=\"1\" class=\"dataframe\">\n",
       "  <thead>\n",
       "    <tr style=\"text-align: right;\">\n",
       "      <th></th>\n",
       "      <th>Name</th>\n",
       "      <th>Age</th>\n",
       "      <th>City</th>\n",
       "      <th>Species</th>\n",
       "      <th>Role</th>\n",
       "    </tr>\n",
       "  </thead>\n",
       "  <tbody>\n",
       "    <tr>\n",
       "      <th>0</th>\n",
       "      <td>Mickey Mouse</td>\n",
       "      <td>92.0</td>\n",
       "      <td>Disneyland</td>\n",
       "      <td>Mouse</td>\n",
       "      <td>Main Character</td>\n",
       "    </tr>\n",
       "    <tr>\n",
       "      <th>1</th>\n",
       "      <td>Minnie Mouse</td>\n",
       "      <td>90.0</td>\n",
       "      <td>Disneyland</td>\n",
       "      <td>Mouse</td>\n",
       "      <td>Main Character</td>\n",
       "    </tr>\n",
       "  </tbody>\n",
       "</table>\n",
       "</div>"
      ],
      "text/plain": [
       "           Name   Age        City Species            Role\n",
       "0  Mickey Mouse  92.0  Disneyland   Mouse  Main Character\n",
       "1  Minnie Mouse  90.0  Disneyland   Mouse  Main Character"
      ]
     },
     "execution_count": 60,
     "metadata": {},
     "output_type": "execute_result"
    }
   ],
   "source": [
    "df_disney.iloc[0:2] #seleziona le prime due righe del DataFrame df utilizzando l'indice di posizione (iloc)"
   ]
  },
  {
   "cell_type": "code",
   "execution_count": 61,
   "id": "5f665f03-8f0e-4061-b777-77257925b4b0",
   "metadata": {},
   "outputs": [
    {
     "data": {
      "text/html": [
       "<div>\n",
       "<style scoped>\n",
       "    .dataframe tbody tr th:only-of-type {\n",
       "        vertical-align: middle;\n",
       "    }\n",
       "\n",
       "    .dataframe tbody tr th {\n",
       "        vertical-align: top;\n",
       "    }\n",
       "\n",
       "    .dataframe thead th {\n",
       "        text-align: right;\n",
       "    }\n",
       "</style>\n",
       "<table border=\"1\" class=\"dataframe\">\n",
       "  <thead>\n",
       "    <tr style=\"text-align: right;\">\n",
       "      <th></th>\n",
       "      <th>Name</th>\n",
       "      <th>Age</th>\n",
       "      <th>City</th>\n",
       "      <th>Species</th>\n",
       "      <th>Role</th>\n",
       "    </tr>\n",
       "  </thead>\n",
       "  <tbody>\n",
       "    <tr>\n",
       "      <th>0</th>\n",
       "      <td>Mickey Mouse</td>\n",
       "      <td>92.0</td>\n",
       "      <td>Disneyland</td>\n",
       "      <td>Mouse</td>\n",
       "      <td>Main Character</td>\n",
       "    </tr>\n",
       "    <tr>\n",
       "      <th>2</th>\n",
       "      <td>Donald Duck</td>\n",
       "      <td>86.0</td>\n",
       "      <td>Duckburg</td>\n",
       "      <td>Duck</td>\n",
       "      <td>Main Character</td>\n",
       "    </tr>\n",
       "    <tr>\n",
       "      <th>4</th>\n",
       "      <td>Pluto</td>\n",
       "      <td>91.0</td>\n",
       "      <td>Mickeytown</td>\n",
       "      <td>Dog</td>\n",
       "      <td>Supporting Character</td>\n",
       "    </tr>\n",
       "    <tr>\n",
       "      <th>6</th>\n",
       "      <td>Simba</td>\n",
       "      <td>25.0</td>\n",
       "      <td>Pride Rock</td>\n",
       "      <td>Lion</td>\n",
       "      <td>Main Character</td>\n",
       "    </tr>\n",
       "  </tbody>\n",
       "</table>\n",
       "</div>"
      ],
      "text/plain": [
       "           Name   Age        City Species                  Role\n",
       "0  Mickey Mouse  92.0  Disneyland   Mouse        Main Character\n",
       "2   Donald Duck  86.0    Duckburg    Duck        Main Character\n",
       "4         Pluto  91.0  Mickeytown     Dog  Supporting Character\n",
       "6         Simba  25.0  Pride Rock    Lion        Main Character"
      ]
     },
     "execution_count": 61,
     "metadata": {},
     "output_type": "execute_result"
    }
   ],
   "source": [
    "df_disney.iloc[::2] #SOLO RIGHE PARI"
   ]
  },
  {
   "cell_type": "code",
   "execution_count": 62,
   "id": "0f91b833-d6df-465c-8dcb-6b66dbce5755",
   "metadata": {},
   "outputs": [
    {
     "data": {
      "text/html": [
       "<div>\n",
       "<style scoped>\n",
       "    .dataframe tbody tr th:only-of-type {\n",
       "        vertical-align: middle;\n",
       "    }\n",
       "\n",
       "    .dataframe tbody tr th {\n",
       "        vertical-align: top;\n",
       "    }\n",
       "\n",
       "    .dataframe thead th {\n",
       "        text-align: right;\n",
       "    }\n",
       "</style>\n",
       "<table border=\"1\" class=\"dataframe\">\n",
       "  <thead>\n",
       "    <tr style=\"text-align: right;\">\n",
       "      <th></th>\n",
       "      <th>Name</th>\n",
       "      <th>Age</th>\n",
       "      <th>City</th>\n",
       "      <th>Species</th>\n",
       "      <th>Role</th>\n",
       "    </tr>\n",
       "  </thead>\n",
       "  <tbody>\n",
       "    <tr>\n",
       "      <th>1</th>\n",
       "      <td>Minnie Mouse</td>\n",
       "      <td>90.0</td>\n",
       "      <td>Disneyland</td>\n",
       "      <td>Mouse</td>\n",
       "      <td>Main Character</td>\n",
       "    </tr>\n",
       "    <tr>\n",
       "      <th>3</th>\n",
       "      <td>Goofy</td>\n",
       "      <td>85.0</td>\n",
       "      <td>None</td>\n",
       "      <td>Dog</td>\n",
       "      <td>Supporting Character</td>\n",
       "    </tr>\n",
       "    <tr>\n",
       "      <th>5</th>\n",
       "      <td>Cinderella</td>\n",
       "      <td>NaN</td>\n",
       "      <td>Castle</td>\n",
       "      <td>Human</td>\n",
       "      <td>Main Character</td>\n",
       "    </tr>\n",
       "    <tr>\n",
       "      <th>7</th>\n",
       "      <td>Ariel</td>\n",
       "      <td>30.0</td>\n",
       "      <td>Atlantica</td>\n",
       "      <td>Mermaid</td>\n",
       "      <td>Main Character</td>\n",
       "    </tr>\n",
       "  </tbody>\n",
       "</table>\n",
       "</div>"
      ],
      "text/plain": [
       "           Name   Age        City  Species                  Role\n",
       "1  Minnie Mouse  90.0  Disneyland    Mouse        Main Character\n",
       "3         Goofy  85.0        None      Dog  Supporting Character\n",
       "5    Cinderella   NaN      Castle    Human        Main Character\n",
       "7         Ariel  30.0   Atlantica  Mermaid        Main Character"
      ]
     },
     "execution_count": 62,
     "metadata": {},
     "output_type": "execute_result"
    }
   ],
   "source": [
    "df_disney.iloc[1::2] #SOLO RIGHE DISPARI"
   ]
  },
  {
   "cell_type": "code",
   "execution_count": 63,
   "id": "88f4e676-55cf-42eb-8911-0a532e63e97c",
   "metadata": {},
   "outputs": [
    {
     "data": {
      "text/plain": [
       "0      Mouse\n",
       "1      Mouse\n",
       "2       Duck\n",
       "3        Dog\n",
       "4        Dog\n",
       "5      Human\n",
       "6       Lion\n",
       "7    Mermaid\n",
       "Name: Species, dtype: object"
      ]
     },
     "execution_count": 63,
     "metadata": {},
     "output_type": "execute_result"
    }
   ],
   "source": [
    "df_disney.iloc[:, 3] #[row, col] -> tutte le righe e la colonna con indice 4\n",
    "#da notare che non da le intestazioni perchè è una serie!"
   ]
  },
  {
   "cell_type": "code",
   "execution_count": 64,
   "id": "63241547-140b-498e-a53c-3bdf2ccbfbb6",
   "metadata": {},
   "outputs": [
    {
     "data": {
      "text/plain": [
       "'Mickey Mouse'"
      ]
     },
     "execution_count": 64,
     "metadata": {},
     "output_type": "execute_result"
    }
   ],
   "source": [
    "df_disney.loc[0, 'Name'] #Solo la prima riga, COLUMN= 'name'  #occhio è case sensitive!!!"
   ]
  },
  {
   "cell_type": "code",
   "execution_count": 65,
   "id": "5e05d26a-6ba2-40a4-9731-a912759654c5",
   "metadata": {},
   "outputs": [
    {
     "data": {
      "text/html": [
       "<div>\n",
       "<style scoped>\n",
       "    .dataframe tbody tr th:only-of-type {\n",
       "        vertical-align: middle;\n",
       "    }\n",
       "\n",
       "    .dataframe tbody tr th {\n",
       "        vertical-align: top;\n",
       "    }\n",
       "\n",
       "    .dataframe thead th {\n",
       "        text-align: right;\n",
       "    }\n",
       "</style>\n",
       "<table border=\"1\" class=\"dataframe\">\n",
       "  <thead>\n",
       "    <tr style=\"text-align: right;\">\n",
       "      <th></th>\n",
       "      <th>Name</th>\n",
       "      <th>Age</th>\n",
       "    </tr>\n",
       "  </thead>\n",
       "  <tbody>\n",
       "    <tr>\n",
       "      <th>1</th>\n",
       "      <td>Minnie Mouse</td>\n",
       "      <td>90.0</td>\n",
       "    </tr>\n",
       "    <tr>\n",
       "      <th>2</th>\n",
       "      <td>Donald Duck</td>\n",
       "      <td>86.0</td>\n",
       "    </tr>\n",
       "    <tr>\n",
       "      <th>3</th>\n",
       "      <td>Goofy</td>\n",
       "      <td>85.0</td>\n",
       "    </tr>\n",
       "  </tbody>\n",
       "</table>\n",
       "</div>"
      ],
      "text/plain": [
       "           Name   Age\n",
       "1  Minnie Mouse  90.0\n",
       "2   Donald Duck  86.0\n",
       "3         Goofy  85.0"
      ]
     },
     "execution_count": 65,
     "metadata": {},
     "output_type": "execute_result"
    }
   ],
   "source": [
    "df_disney.loc[1:3, ['Name', 'Age']] #selezionare più righe e più colonne"
   ]
  },
  {
   "cell_type": "code",
   "execution_count": 66,
   "id": "a453a5a6-e035-4a20-aa1d-798cf39b2cff",
   "metadata": {},
   "outputs": [
    {
     "data": {
      "text/plain": [
       "0    Mickey Mouse\n",
       "1    Minnie Mouse\n",
       "2     Donald Duck\n",
       "3           Goofy\n",
       "4           Pluto\n",
       "5      Cinderella\n",
       "6           Simba\n",
       "7           Ariel\n",
       "Name: Name, dtype: object"
      ]
     },
     "execution_count": 66,
     "metadata": {},
     "output_type": "execute_result"
    }
   ],
   "source": [
    "df_disney.loc[:,'Name'] #ALL ROWS, COLUMN= 'name'"
   ]
  },
  {
   "cell_type": "markdown",
   "id": "70a22976-42b1-48d7-98a4-fbd33b3d1e70",
   "metadata": {},
   "source": [
    "## DATI STATISTICI"
   ]
  },
  {
   "cell_type": "code",
   "execution_count": 67,
   "id": "58982048-62fd-4bad-b823-d2e7ddf26f7f",
   "metadata": {},
   "outputs": [
    {
     "data": {
      "text/html": [
       "<div>\n",
       "<style scoped>\n",
       "    .dataframe tbody tr th:only-of-type {\n",
       "        vertical-align: middle;\n",
       "    }\n",
       "\n",
       "    .dataframe tbody tr th {\n",
       "        vertical-align: top;\n",
       "    }\n",
       "\n",
       "    .dataframe thead th {\n",
       "        text-align: right;\n",
       "    }\n",
       "</style>\n",
       "<table border=\"1\" class=\"dataframe\">\n",
       "  <thead>\n",
       "    <tr style=\"text-align: right;\">\n",
       "      <th></th>\n",
       "      <th>Age</th>\n",
       "    </tr>\n",
       "  </thead>\n",
       "  <tbody>\n",
       "    <tr>\n",
       "      <th>count</th>\n",
       "      <td>7.000000</td>\n",
       "    </tr>\n",
       "    <tr>\n",
       "      <th>mean</th>\n",
       "      <td>71.285714</td>\n",
       "    </tr>\n",
       "    <tr>\n",
       "      <th>std</th>\n",
       "      <td>30.053920</td>\n",
       "    </tr>\n",
       "    <tr>\n",
       "      <th>min</th>\n",
       "      <td>25.000000</td>\n",
       "    </tr>\n",
       "    <tr>\n",
       "      <th>25%</th>\n",
       "      <td>57.500000</td>\n",
       "    </tr>\n",
       "    <tr>\n",
       "      <th>50%</th>\n",
       "      <td>86.000000</td>\n",
       "    </tr>\n",
       "    <tr>\n",
       "      <th>75%</th>\n",
       "      <td>90.500000</td>\n",
       "    </tr>\n",
       "    <tr>\n",
       "      <th>max</th>\n",
       "      <td>92.000000</td>\n",
       "    </tr>\n",
       "  </tbody>\n",
       "</table>\n",
       "</div>"
      ],
      "text/plain": [
       "             Age\n",
       "count   7.000000\n",
       "mean   71.285714\n",
       "std    30.053920\n",
       "min    25.000000\n",
       "25%    57.500000\n",
       "50%    86.000000\n",
       "75%    90.500000\n",
       "max    92.000000"
      ]
     },
     "execution_count": 67,
     "metadata": {},
     "output_type": "execute_result"
    }
   ],
   "source": [
    "# Riassunto statistico\n",
    "df_disney.describe()"
   ]
  },
  {
   "cell_type": "code",
   "execution_count": 68,
   "id": "5370ec29-fe27-4d7f-8027-4e28b2a5670a",
   "metadata": {},
   "outputs": [
    {
     "data": {
      "text/plain": [
       "count     7.000000\n",
       "mean     71.285714\n",
       "std      30.053920\n",
       "min      25.000000\n",
       "25%      57.500000\n",
       "50%      86.000000\n",
       "75%      90.500000\n",
       "max      92.000000\n",
       "Name: Age, dtype: float64"
      ]
     },
     "execution_count": 68,
     "metadata": {},
     "output_type": "execute_result"
    }
   ],
   "source": [
    "# Eseguire la descrizione statistica solo sulla colonna 'Age'\n",
    "describe_age = df_disney['Age'].describe()\n",
    "describe_age"
   ]
  },
  {
   "cell_type": "code",
   "execution_count": 70,
   "id": "1040a208-b85d-4fc4-ab4c-a83374fa0614",
   "metadata": {},
   "outputs": [
    {
     "data": {
      "text/plain": [
       "Name       8\n",
       "Age        7\n",
       "City       7\n",
       "Species    8\n",
       "Role       8\n",
       "dtype: int64"
      ]
     },
     "execution_count": 70,
     "metadata": {},
     "output_type": "execute_result"
    }
   ],
   "source": [
    "df_disney.count() # restituisce il numero di valori non nulli per ciascuna colonna del DataFrame"
   ]
  },
  {
   "cell_type": "code",
   "execution_count": 69,
   "id": "223374e9-40bc-46a4-8c81-90b1af6cbc68",
   "metadata": {},
   "outputs": [
    {
     "data": {
      "text/html": [
       "<div>\n",
       "<style scoped>\n",
       "    .dataframe tbody tr th:only-of-type {\n",
       "        vertical-align: middle;\n",
       "    }\n",
       "\n",
       "    .dataframe tbody tr th {\n",
       "        vertical-align: top;\n",
       "    }\n",
       "\n",
       "    .dataframe thead th {\n",
       "        text-align: right;\n",
       "    }\n",
       "</style>\n",
       "<table border=\"1\" class=\"dataframe\">\n",
       "  <thead>\n",
       "    <tr style=\"text-align: right;\">\n",
       "      <th></th>\n",
       "      <th>Name</th>\n",
       "      <th>Age</th>\n",
       "      <th>City</th>\n",
       "      <th>Species</th>\n",
       "      <th>Role</th>\n",
       "    </tr>\n",
       "  </thead>\n",
       "  <tbody>\n",
       "    <tr>\n",
       "      <th>0</th>\n",
       "      <td>Mickey Mouse</td>\n",
       "      <td>92.0</td>\n",
       "      <td>Disneyland</td>\n",
       "      <td>Mouse</td>\n",
       "      <td>Main Character</td>\n",
       "    </tr>\n",
       "    <tr>\n",
       "      <th>1</th>\n",
       "      <td>Minnie Mouse</td>\n",
       "      <td>90.0</td>\n",
       "      <td>Disneyland</td>\n",
       "      <td>Mouse</td>\n",
       "      <td>Main Character</td>\n",
       "    </tr>\n",
       "    <tr>\n",
       "      <th>2</th>\n",
       "      <td>Donald Duck</td>\n",
       "      <td>86.0</td>\n",
       "      <td>Duckburg</td>\n",
       "      <td>Duck</td>\n",
       "      <td>Main Character</td>\n",
       "    </tr>\n",
       "    <tr>\n",
       "      <th>3</th>\n",
       "      <td>Goofy</td>\n",
       "      <td>85.0</td>\n",
       "      <td>None</td>\n",
       "      <td>Dog</td>\n",
       "      <td>Supporting Character</td>\n",
       "    </tr>\n",
       "    <tr>\n",
       "      <th>4</th>\n",
       "      <td>Pluto</td>\n",
       "      <td>91.0</td>\n",
       "      <td>Mickeytown</td>\n",
       "      <td>Dog</td>\n",
       "      <td>Supporting Character</td>\n",
       "    </tr>\n",
       "  </tbody>\n",
       "</table>\n",
       "</div>"
      ],
      "text/plain": [
       "           Name   Age        City Species                  Role\n",
       "0  Mickey Mouse  92.0  Disneyland   Mouse        Main Character\n",
       "1  Minnie Mouse  90.0  Disneyland   Mouse        Main Character\n",
       "2   Donald Duck  86.0    Duckburg    Duck        Main Character\n",
       "3         Goofy  85.0        None     Dog  Supporting Character\n",
       "4         Pluto  91.0  Mickeytown     Dog  Supporting Character"
      ]
     },
     "execution_count": 69,
     "metadata": {},
     "output_type": "execute_result"
    }
   ],
   "source": [
    "df_disney.head()"
   ]
  },
  {
   "cell_type": "code",
   "execution_count": 71,
   "id": "443ea97e-7cc9-417f-a8ae-4d6276b11c8e",
   "metadata": {},
   "outputs": [
    {
     "data": {
      "text/plain": [
       "25.0"
      ]
     },
     "execution_count": 71,
     "metadata": {},
     "output_type": "execute_result"
    }
   ],
   "source": [
    "# Calcolare il valore minimo, massimo e la media di tutte le età\n",
    "min_age = df_disney['Age'].min()\n",
    "min_age"
   ]
  },
  {
   "cell_type": "code",
   "execution_count": 72,
   "id": "324c8d46-f44f-486a-9b3c-34d08ae9cda4",
   "metadata": {},
   "outputs": [
    {
     "data": {
      "text/plain": [
       "92.0"
      ]
     },
     "execution_count": 72,
     "metadata": {},
     "output_type": "execute_result"
    }
   ],
   "source": [
    "max_age = df_disney['Age'].max()\n",
    "max_age\n"
   ]
  },
  {
   "cell_type": "code",
   "execution_count": 73,
   "id": "edb5b099-ec1e-4258-bfb7-cc2a97a32825",
   "metadata": {},
   "outputs": [
    {
     "data": {
      "text/plain": [
       "71.28571428571429"
      ]
     },
     "execution_count": 73,
     "metadata": {},
     "output_type": "execute_result"
    }
   ],
   "source": [
    "mean_age = df_disney['Age'].mean() #calcola la media dei valori non nulli \n",
    "mean_age"
   ]
  },
  {
   "cell_type": "code",
   "execution_count": 74,
   "id": "8291982b-890d-45bf-9a33-aa95cb4b05e4",
   "metadata": {},
   "outputs": [
    {
     "data": {
      "text/plain": [
       "nan"
      ]
     },
     "execution_count": 74,
     "metadata": {},
     "output_type": "execute_result"
    }
   ],
   "source": [
    "# skipna=False - consente di calcolare anche i valori nulli\n",
    "mean_age2 = df_disney['Age'].mean(skipna=False) #calcola la media dei valori non nulli \n",
    "mean_age2"
   ]
  },
  {
   "cell_type": "code",
   "execution_count": 75,
   "id": "1e6dbe5d-c658-411f-9103-badd15cc4da3",
   "metadata": {},
   "outputs": [
    {
     "data": {
      "text/plain": [
       "0    92.0\n",
       "1    90.0\n",
       "2    86.0\n",
       "3    85.0\n",
       "4    91.0\n",
       "5     0.0\n",
       "6    25.0\n",
       "7    30.0\n",
       "Name: Age, dtype: float64"
      ]
     },
     "execution_count": 75,
     "metadata": {},
     "output_type": "execute_result"
    }
   ],
   "source": [
    "# Sostituisce tutti i valori NaN con zeri\n",
    "# df_filled = df_disney.fillna(0)\n",
    "# Sostituisci i valori dell'età NaN con zeri\n",
    "df_filled = df_disney['Age'].fillna(0) #se non voglio cambiare il dataset\n",
    "df_filled\n",
    "#df_disney['Age'] = df_disney['Age'].fillna(0) #se voglio cambiare il dataset"
   ]
  },
  {
   "cell_type": "code",
   "execution_count": 80,
   "id": "bf29df25-d7ac-4567-895f-cbeb21755be8",
   "metadata": {},
   "outputs": [
    {
     "data": {
      "text/html": [
       "<div>\n",
       "<style scoped>\n",
       "    .dataframe tbody tr th:only-of-type {\n",
       "        vertical-align: middle;\n",
       "    }\n",
       "\n",
       "    .dataframe tbody tr th {\n",
       "        vertical-align: top;\n",
       "    }\n",
       "\n",
       "    .dataframe thead th {\n",
       "        text-align: right;\n",
       "    }\n",
       "</style>\n",
       "<table border=\"1\" class=\"dataframe\">\n",
       "  <thead>\n",
       "    <tr style=\"text-align: right;\">\n",
       "      <th></th>\n",
       "      <th>Name</th>\n",
       "      <th>Age</th>\n",
       "      <th>City</th>\n",
       "      <th>Species</th>\n",
       "      <th>Role</th>\n",
       "    </tr>\n",
       "  </thead>\n",
       "  <tbody>\n",
       "    <tr>\n",
       "      <th>0</th>\n",
       "      <td>Mickey Mouse</td>\n",
       "      <td>92.0</td>\n",
       "      <td>Disneyland</td>\n",
       "      <td>Mouse</td>\n",
       "      <td>Main Character</td>\n",
       "    </tr>\n",
       "    <tr>\n",
       "      <th>1</th>\n",
       "      <td>Minnie Mouse</td>\n",
       "      <td>90.0</td>\n",
       "      <td>Disneyland</td>\n",
       "      <td>Mouse</td>\n",
       "      <td>Main Character</td>\n",
       "    </tr>\n",
       "    <tr>\n",
       "      <th>2</th>\n",
       "      <td>Donald Duck</td>\n",
       "      <td>86.0</td>\n",
       "      <td>Duckburg</td>\n",
       "      <td>Duck</td>\n",
       "      <td>Main Character</td>\n",
       "    </tr>\n",
       "    <tr>\n",
       "      <th>3</th>\n",
       "      <td>Goofy</td>\n",
       "      <td>85.0</td>\n",
       "      <td>None</td>\n",
       "      <td>Dog</td>\n",
       "      <td>Supporting Character</td>\n",
       "    </tr>\n",
       "    <tr>\n",
       "      <th>4</th>\n",
       "      <td>Pluto</td>\n",
       "      <td>91.0</td>\n",
       "      <td>Mickeytown</td>\n",
       "      <td>Dog</td>\n",
       "      <td>Supporting Character</td>\n",
       "    </tr>\n",
       "    <tr>\n",
       "      <th>5</th>\n",
       "      <td>Cinderella</td>\n",
       "      <td>NaN</td>\n",
       "      <td>Castle</td>\n",
       "      <td>Human</td>\n",
       "      <td>Main Character</td>\n",
       "    </tr>\n",
       "    <tr>\n",
       "      <th>6</th>\n",
       "      <td>Simba</td>\n",
       "      <td>25.0</td>\n",
       "      <td>Pride Rock</td>\n",
       "      <td>Lion</td>\n",
       "      <td>Main Character</td>\n",
       "    </tr>\n",
       "    <tr>\n",
       "      <th>7</th>\n",
       "      <td>Ariel</td>\n",
       "      <td>30.0</td>\n",
       "      <td>Atlantica</td>\n",
       "      <td>Mermaid</td>\n",
       "      <td>Main Character</td>\n",
       "    </tr>\n",
       "  </tbody>\n",
       "</table>\n",
       "</div>"
      ],
      "text/plain": [
       "           Name   Age        City  Species                  Role\n",
       "0  Mickey Mouse  92.0  Disneyland    Mouse        Main Character\n",
       "1  Minnie Mouse  90.0  Disneyland    Mouse        Main Character\n",
       "2   Donald Duck  86.0    Duckburg     Duck        Main Character\n",
       "3         Goofy  85.0        None      Dog  Supporting Character\n",
       "4         Pluto  91.0  Mickeytown      Dog  Supporting Character\n",
       "5    Cinderella   NaN      Castle    Human        Main Character\n",
       "6         Simba  25.0  Pride Rock     Lion        Main Character\n",
       "7         Ariel  30.0   Atlantica  Mermaid        Main Character"
      ]
     },
     "execution_count": 80,
     "metadata": {},
     "output_type": "execute_result"
    }
   ],
   "source": [
    "df_disney"
   ]
  },
  {
   "cell_type": "code",
   "execution_count": 77,
   "id": "ebfbd77d-31a9-4f9f-80fd-6026506fe788",
   "metadata": {},
   "outputs": [
    {
     "data": {
      "text/plain": [
       "62.375"
      ]
     },
     "execution_count": 77,
     "metadata": {},
     "output_type": "execute_result"
    }
   ],
   "source": [
    "mean_age = df_filled.mean() #calcola la media considerando anche i valori  nulli \n",
    "mean_age"
   ]
  },
  {
   "cell_type": "code",
   "execution_count": 78,
   "id": "ca906bf5-b16a-45d9-b864-b59a69cbd013",
   "metadata": {},
   "outputs": [
    {
     "name": "stdout",
     "output_type": "stream",
     "text": [
      "<class 'pandas.core.frame.DataFrame'>\n",
      "RangeIndex: 8 entries, 0 to 7\n",
      "Data columns (total 5 columns):\n",
      " #   Column   Non-Null Count  Dtype  \n",
      "---  ------   --------------  -----  \n",
      " 0   Name     8 non-null      object \n",
      " 1   Age      7 non-null      float64\n",
      " 2   City     7 non-null      object \n",
      " 3   Species  8 non-null      object \n",
      " 4   Role     8 non-null      object \n",
      "dtypes: float64(1), object(4)\n",
      "memory usage: 452.0+ bytes\n"
     ]
    }
   ],
   "source": [
    "df_disney.info()"
   ]
  },
  {
   "cell_type": "markdown",
   "id": "5c948895-6782-4dfb-b6c3-a818611bc90c",
   "metadata": {},
   "source": [
    "## Filtrare\n"
   ]
  },
  {
   "cell_type": "code",
   "execution_count": 79,
   "id": "62ba071a-aff4-43b4-bca8-99375e391689",
   "metadata": {},
   "outputs": [
    {
     "data": {
      "text/html": [
       "<div>\n",
       "<style scoped>\n",
       "    .dataframe tbody tr th:only-of-type {\n",
       "        vertical-align: middle;\n",
       "    }\n",
       "\n",
       "    .dataframe tbody tr th {\n",
       "        vertical-align: top;\n",
       "    }\n",
       "\n",
       "    .dataframe thead th {\n",
       "        text-align: right;\n",
       "    }\n",
       "</style>\n",
       "<table border=\"1\" class=\"dataframe\">\n",
       "  <thead>\n",
       "    <tr style=\"text-align: right;\">\n",
       "      <th></th>\n",
       "      <th>Name</th>\n",
       "      <th>Age</th>\n",
       "      <th>City</th>\n",
       "      <th>Species</th>\n",
       "      <th>Role</th>\n",
       "    </tr>\n",
       "  </thead>\n",
       "  <tbody>\n",
       "    <tr>\n",
       "      <th>0</th>\n",
       "      <td>Mickey Mouse</td>\n",
       "      <td>92.0</td>\n",
       "      <td>Disneyland</td>\n",
       "      <td>Mouse</td>\n",
       "      <td>Main Character</td>\n",
       "    </tr>\n",
       "    <tr>\n",
       "      <th>1</th>\n",
       "      <td>Minnie Mouse</td>\n",
       "      <td>90.0</td>\n",
       "      <td>Disneyland</td>\n",
       "      <td>Mouse</td>\n",
       "      <td>Main Character</td>\n",
       "    </tr>\n",
       "    <tr>\n",
       "      <th>2</th>\n",
       "      <td>Donald Duck</td>\n",
       "      <td>86.0</td>\n",
       "      <td>Duckburg</td>\n",
       "      <td>Duck</td>\n",
       "      <td>Main Character</td>\n",
       "    </tr>\n",
       "    <tr>\n",
       "      <th>3</th>\n",
       "      <td>Goofy</td>\n",
       "      <td>85.0</td>\n",
       "      <td>None</td>\n",
       "      <td>Dog</td>\n",
       "      <td>Supporting Character</td>\n",
       "    </tr>\n",
       "    <tr>\n",
       "      <th>4</th>\n",
       "      <td>Pluto</td>\n",
       "      <td>91.0</td>\n",
       "      <td>Mickeytown</td>\n",
       "      <td>Dog</td>\n",
       "      <td>Supporting Character</td>\n",
       "    </tr>\n",
       "  </tbody>\n",
       "</table>\n",
       "</div>"
      ],
      "text/plain": [
       "           Name   Age        City Species                  Role\n",
       "0  Mickey Mouse  92.0  Disneyland   Mouse        Main Character\n",
       "1  Minnie Mouse  90.0  Disneyland   Mouse        Main Character\n",
       "2   Donald Duck  86.0    Duckburg    Duck        Main Character\n",
       "3         Goofy  85.0        None     Dog  Supporting Character\n",
       "4         Pluto  91.0  Mickeytown     Dog  Supporting Character"
      ]
     },
     "execution_count": 79,
     "metadata": {},
     "output_type": "execute_result"
    }
   ],
   "source": [
    "df_disney[df_disney['Age'] > 30] #filtrare in base all'età"
   ]
  },
  {
   "cell_type": "code",
   "execution_count": 81,
   "id": "2e0fed79-ba4c-4dcb-9fe8-5cf1efeee686",
   "metadata": {},
   "outputs": [
    {
     "data": {
      "text/html": [
       "<div>\n",
       "<style scoped>\n",
       "    .dataframe tbody tr th:only-of-type {\n",
       "        vertical-align: middle;\n",
       "    }\n",
       "\n",
       "    .dataframe tbody tr th {\n",
       "        vertical-align: top;\n",
       "    }\n",
       "\n",
       "    .dataframe thead th {\n",
       "        text-align: right;\n",
       "    }\n",
       "</style>\n",
       "<table border=\"1\" class=\"dataframe\">\n",
       "  <thead>\n",
       "    <tr style=\"text-align: right;\">\n",
       "      <th></th>\n",
       "      <th>Name</th>\n",
       "      <th>Age</th>\n",
       "      <th>City</th>\n",
       "      <th>Species</th>\n",
       "      <th>Role</th>\n",
       "    </tr>\n",
       "  </thead>\n",
       "  <tbody>\n",
       "    <tr>\n",
       "      <th>0</th>\n",
       "      <td>Mickey Mouse</td>\n",
       "      <td>92.0</td>\n",
       "      <td>Disneyland</td>\n",
       "      <td>Mouse</td>\n",
       "      <td>Main Character</td>\n",
       "    </tr>\n",
       "    <tr>\n",
       "      <th>1</th>\n",
       "      <td>Minnie Mouse</td>\n",
       "      <td>90.0</td>\n",
       "      <td>Disneyland</td>\n",
       "      <td>Mouse</td>\n",
       "      <td>Main Character</td>\n",
       "    </tr>\n",
       "  </tbody>\n",
       "</table>\n",
       "</div>"
      ],
      "text/plain": [
       "           Name   Age        City Species            Role\n",
       "0  Mickey Mouse  92.0  Disneyland   Mouse  Main Character\n",
       "1  Minnie Mouse  90.0  Disneyland   Mouse  Main Character"
      ]
     },
     "execution_count": 81,
     "metadata": {},
     "output_type": "execute_result"
    }
   ],
   "source": [
    "df_disney[df_disney['Species'] == 'Mouse'] #filtrare in base alla specie"
   ]
  },
  {
   "cell_type": "code",
   "execution_count": 82,
   "id": "cd75f38b-8b97-48ce-a456-a9f286b34619",
   "metadata": {},
   "outputs": [
    {
     "data": {
      "text/html": [
       "<div>\n",
       "<style scoped>\n",
       "    .dataframe tbody tr th:only-of-type {\n",
       "        vertical-align: middle;\n",
       "    }\n",
       "\n",
       "    .dataframe tbody tr th {\n",
       "        vertical-align: top;\n",
       "    }\n",
       "\n",
       "    .dataframe thead th {\n",
       "        text-align: right;\n",
       "    }\n",
       "</style>\n",
       "<table border=\"1\" class=\"dataframe\">\n",
       "  <thead>\n",
       "    <tr style=\"text-align: right;\">\n",
       "      <th></th>\n",
       "      <th>Name</th>\n",
       "      <th>Age</th>\n",
       "      <th>City</th>\n",
       "      <th>Species</th>\n",
       "      <th>Role</th>\n",
       "    </tr>\n",
       "  </thead>\n",
       "  <tbody>\n",
       "    <tr>\n",
       "      <th>1</th>\n",
       "      <td>Minnie Mouse</td>\n",
       "      <td>90.0</td>\n",
       "      <td>Disneyland</td>\n",
       "      <td>Mouse</td>\n",
       "      <td>Main Character</td>\n",
       "    </tr>\n",
       "  </tbody>\n",
       "</table>\n",
       "</div>"
      ],
      "text/plain": [
       "           Name   Age        City Species            Role\n",
       "1  Minnie Mouse  90.0  Disneyland   Mouse  Main Character"
      ]
     },
     "execution_count": 82,
     "metadata": {},
     "output_type": "execute_result"
    }
   ],
   "source": [
    "df_disney[(df_disney['Species'] == 'Mouse') & (df_disney['Age'] == 90 )] #filtrare in base alla specie"
   ]
  },
  {
   "cell_type": "code",
   "execution_count": 83,
   "id": "fb5f1bd9-00c0-425f-bcf4-15b1203dcc4c",
   "metadata": {},
   "outputs": [
    {
     "data": {
      "text/html": [
       "<div>\n",
       "<style scoped>\n",
       "    .dataframe tbody tr th:only-of-type {\n",
       "        vertical-align: middle;\n",
       "    }\n",
       "\n",
       "    .dataframe tbody tr th {\n",
       "        vertical-align: top;\n",
       "    }\n",
       "\n",
       "    .dataframe thead th {\n",
       "        text-align: right;\n",
       "    }\n",
       "</style>\n",
       "<table border=\"1\" class=\"dataframe\">\n",
       "  <thead>\n",
       "    <tr style=\"text-align: right;\">\n",
       "      <th></th>\n",
       "      <th>Name</th>\n",
       "      <th>Age</th>\n",
       "      <th>City</th>\n",
       "      <th>Species</th>\n",
       "      <th>Role</th>\n",
       "    </tr>\n",
       "  </thead>\n",
       "  <tbody>\n",
       "    <tr>\n",
       "      <th>0</th>\n",
       "      <td>Mickey Mouse</td>\n",
       "      <td>92.0</td>\n",
       "      <td>Disneyland</td>\n",
       "      <td>Mouse</td>\n",
       "      <td>Main Character</td>\n",
       "    </tr>\n",
       "    <tr>\n",
       "      <th>1</th>\n",
       "      <td>Minnie Mouse</td>\n",
       "      <td>90.0</td>\n",
       "      <td>Disneyland</td>\n",
       "      <td>Mouse</td>\n",
       "      <td>Main Character</td>\n",
       "    </tr>\n",
       "    <tr>\n",
       "      <th>2</th>\n",
       "      <td>Donald Duck</td>\n",
       "      <td>86.0</td>\n",
       "      <td>Duckburg</td>\n",
       "      <td>Duck</td>\n",
       "      <td>Main Character</td>\n",
       "    </tr>\n",
       "    <tr>\n",
       "      <th>3</th>\n",
       "      <td>Goofy</td>\n",
       "      <td>85.0</td>\n",
       "      <td>None</td>\n",
       "      <td>Dog</td>\n",
       "      <td>Supporting Character</td>\n",
       "    </tr>\n",
       "    <tr>\n",
       "      <th>4</th>\n",
       "      <td>Pluto</td>\n",
       "      <td>91.0</td>\n",
       "      <td>Mickeytown</td>\n",
       "      <td>Dog</td>\n",
       "      <td>Supporting Character</td>\n",
       "    </tr>\n",
       "    <tr>\n",
       "      <th>5</th>\n",
       "      <td>Cinderella</td>\n",
       "      <td>NaN</td>\n",
       "      <td>Castle</td>\n",
       "      <td>Human</td>\n",
       "      <td>Main Character</td>\n",
       "    </tr>\n",
       "    <tr>\n",
       "      <th>6</th>\n",
       "      <td>Simba</td>\n",
       "      <td>25.0</td>\n",
       "      <td>Pride Rock</td>\n",
       "      <td>Lion</td>\n",
       "      <td>Main Character</td>\n",
       "    </tr>\n",
       "    <tr>\n",
       "      <th>7</th>\n",
       "      <td>Ariel</td>\n",
       "      <td>30.0</td>\n",
       "      <td>Atlantica</td>\n",
       "      <td>Mermaid</td>\n",
       "      <td>Main Character</td>\n",
       "    </tr>\n",
       "  </tbody>\n",
       "</table>\n",
       "</div>"
      ],
      "text/plain": [
       "           Name   Age        City  Species                  Role\n",
       "0  Mickey Mouse  92.0  Disneyland    Mouse        Main Character\n",
       "1  Minnie Mouse  90.0  Disneyland    Mouse        Main Character\n",
       "2   Donald Duck  86.0    Duckburg     Duck        Main Character\n",
       "3         Goofy  85.0        None      Dog  Supporting Character\n",
       "4         Pluto  91.0  Mickeytown      Dog  Supporting Character\n",
       "5    Cinderella   NaN      Castle    Human        Main Character\n",
       "6         Simba  25.0  Pride Rock     Lion        Main Character\n",
       "7         Ariel  30.0   Atlantica  Mermaid        Main Character"
      ]
     },
     "execution_count": 83,
     "metadata": {},
     "output_type": "execute_result"
    }
   ],
   "source": [
    "df_disney"
   ]
  },
  {
   "cell_type": "code",
   "execution_count": 84,
   "id": "d218f743-d9cc-45ff-839a-73cd76f83650",
   "metadata": {},
   "outputs": [
    {
     "data": {
      "text/html": [
       "<div>\n",
       "<style scoped>\n",
       "    .dataframe tbody tr th:only-of-type {\n",
       "        vertical-align: middle;\n",
       "    }\n",
       "\n",
       "    .dataframe tbody tr th {\n",
       "        vertical-align: top;\n",
       "    }\n",
       "\n",
       "    .dataframe thead th {\n",
       "        text-align: right;\n",
       "    }\n",
       "</style>\n",
       "<table border=\"1\" class=\"dataframe\">\n",
       "  <thead>\n",
       "    <tr style=\"text-align: right;\">\n",
       "      <th></th>\n",
       "      <th>Name</th>\n",
       "      <th>Age</th>\n",
       "      <th>City</th>\n",
       "      <th>Species</th>\n",
       "      <th>Role</th>\n",
       "    </tr>\n",
       "  </thead>\n",
       "  <tbody>\n",
       "    <tr>\n",
       "      <th>1</th>\n",
       "      <td>Minnie Mouse</td>\n",
       "      <td>90.0</td>\n",
       "      <td>Disneyland</td>\n",
       "      <td>Mouse</td>\n",
       "      <td>Main Character</td>\n",
       "    </tr>\n",
       "    <tr>\n",
       "      <th>3</th>\n",
       "      <td>Goofy</td>\n",
       "      <td>85.0</td>\n",
       "      <td>None</td>\n",
       "      <td>Dog</td>\n",
       "      <td>Supporting Character</td>\n",
       "    </tr>\n",
       "  </tbody>\n",
       "</table>\n",
       "</div>"
      ],
      "text/plain": [
       "           Name   Age        City Species                  Role\n",
       "1  Minnie Mouse  90.0  Disneyland   Mouse        Main Character\n",
       "3         Goofy  85.0        None     Dog  Supporting Character"
      ]
     },
     "execution_count": 84,
     "metadata": {},
     "output_type": "execute_result"
    }
   ],
   "source": [
    "df_disney[df_disney['Age'].isin([85, 90])]  # Seleziona le righe dove 'Column' è in ['Value1', 'Value2']\n"
   ]
  },
  {
   "cell_type": "code",
   "execution_count": 85,
   "id": "cc273abd-39f8-4c4e-9aaf-82f454bf6f26",
   "metadata": {},
   "outputs": [
    {
     "data": {
      "text/html": [
       "<div>\n",
       "<style scoped>\n",
       "    .dataframe tbody tr th:only-of-type {\n",
       "        vertical-align: middle;\n",
       "    }\n",
       "\n",
       "    .dataframe tbody tr th {\n",
       "        vertical-align: top;\n",
       "    }\n",
       "\n",
       "    .dataframe thead th {\n",
       "        text-align: right;\n",
       "    }\n",
       "</style>\n",
       "<table border=\"1\" class=\"dataframe\">\n",
       "  <thead>\n",
       "    <tr style=\"text-align: right;\">\n",
       "      <th></th>\n",
       "      <th>Name</th>\n",
       "      <th>Age</th>\n",
       "      <th>City</th>\n",
       "      <th>Species</th>\n",
       "      <th>Role</th>\n",
       "    </tr>\n",
       "  </thead>\n",
       "  <tbody>\n",
       "    <tr>\n",
       "      <th>1</th>\n",
       "      <td>Minnie Mouse</td>\n",
       "      <td>90.0</td>\n",
       "      <td>Disneyland</td>\n",
       "      <td>Mouse</td>\n",
       "      <td>Main Character</td>\n",
       "    </tr>\n",
       "    <tr>\n",
       "      <th>2</th>\n",
       "      <td>Donald Duck</td>\n",
       "      <td>86.0</td>\n",
       "      <td>Duckburg</td>\n",
       "      <td>Duck</td>\n",
       "      <td>Main Character</td>\n",
       "    </tr>\n",
       "    <tr>\n",
       "      <th>3</th>\n",
       "      <td>Goofy</td>\n",
       "      <td>85.0</td>\n",
       "      <td>None</td>\n",
       "      <td>Dog</td>\n",
       "      <td>Supporting Character</td>\n",
       "    </tr>\n",
       "  </tbody>\n",
       "</table>\n",
       "</div>"
      ],
      "text/plain": [
       "           Name   Age        City Species                  Role\n",
       "1  Minnie Mouse  90.0  Disneyland   Mouse        Main Character\n",
       "2   Donald Duck  86.0    Duckburg    Duck        Main Character\n",
       "3         Goofy  85.0        None     Dog  Supporting Character"
      ]
     },
     "execution_count": 85,
     "metadata": {},
     "output_type": "execute_result"
    }
   ],
   "source": [
    "df_disney[df_disney['Age'].between(85, 90)]  # Seleziona le righe dove 'Column' è in ['Value1', 'Value2']"
   ]
  },
  {
   "cell_type": "markdown",
   "id": "2b0de46a-07a9-4454-8a59-afab12aa49d2",
   "metadata": {},
   "source": [
    "## Raggruppare"
   ]
  },
  {
   "cell_type": "markdown",
   "id": "a80c1e2b-82db-4c0a-875f-749ba8e12970",
   "metadata": {},
   "source": [
    "In Pandas, il metodo ***groupby()*** è fondamentale per raggruppare i dati in base a una o più colonne di un DataFrame. Questo metodo consente di suddividere il DataFrame in gruppi basati su valori comuni nelle colonne specificate e di applicare operazioni aggregate, trasformazioni o analisi a ciascun gruppo separatamente.\n",
    "### Funzionamento di groupby()\n",
    "Il metodo groupby() in Pandas funziona nel seguente modo:\n",
    "\n",
    "- Specificare all'interno delle parentesi tonde una o più colonne del DataFrame su cui desidera basare il raggruppamento.\n",
    "\n",
    "- Il metodo groupby() crea un oggetto DataFrameGroupBy che non esegue effettivamente alcuna computazione fino a quando non si applica una funzione aggregata o un'altra operazione a questo oggetto.\n",
    "\n",
    "- Dopo aver creato l'oggetto DataFrameGroupBy, si possono applicare funzioni aggregate come sum(), mean(), count(), size(), min(), max() e altre per calcolare statistiche o eseguire altre operazioni sui dati raggruppati.\n",
    "  "
   ]
  },
  {
   "cell_type": "code",
   "execution_count": 87,
   "id": "3bff8c75-4c1e-4be8-b136-25311adc3bc0",
   "metadata": {},
   "outputs": [
    {
     "data": {
      "text/plain": [
       "Species\n",
       "Dog        176.0\n",
       "Duck        86.0\n",
       "Human        0.0\n",
       "Lion        25.0\n",
       "Mermaid     30.0\n",
       "Mouse      182.0\n",
       "Name: Age, dtype: float64"
      ]
     },
     "execution_count": 87,
     "metadata": {},
     "output_type": "execute_result"
    }
   ],
   "source": [
    "somma_eta = df_disney.groupby('Species')['Age'].sum() #raggruppa per specie e poi fa la somma delle età\n",
    "somma_eta"
   ]
  },
  {
   "cell_type": "code",
   "execution_count": 88,
   "id": "088ef979-ec90-46d6-a602-e736dc413c7d",
   "metadata": {},
   "outputs": [
    {
     "data": {
      "text/plain": [
       "Species\n",
       "Dog        88.0\n",
       "Duck       86.0\n",
       "Human       NaN\n",
       "Lion       25.0\n",
       "Mermaid    30.0\n",
       "Mouse      91.0\n",
       "Name: Age, dtype: float64"
      ]
     },
     "execution_count": 88,
     "metadata": {},
     "output_type": "execute_result"
    }
   ],
   "source": [
    "media_eta = df_disney.groupby('Species')['Age'].mean() #raggruppa per specie e poi fa la somma delle età\n",
    "media_eta"
   ]
  },
  {
   "cell_type": "code",
   "execution_count": 89,
   "id": "3d3d4888-b9ec-4d44-9e1a-d036bdc8e58a",
   "metadata": {},
   "outputs": [
    {
     "data": {
      "text/plain": [
       "Species\n",
       "Dog        85.0\n",
       "Duck       86.0\n",
       "Human       NaN\n",
       "Lion       25.0\n",
       "Mermaid    30.0\n",
       "Mouse      90.0\n",
       "Name: Age, dtype: float64"
      ]
     },
     "execution_count": 89,
     "metadata": {},
     "output_type": "execute_result"
    }
   ],
   "source": [
    "eta_minima = df_disney.groupby('Species')['Age'].min() #raggruppa per specie e poi calcola l'età minima per ogni specie\n",
    "eta_minima"
   ]
  },
  {
   "cell_type": "code",
   "execution_count": 90,
   "id": "c8452412-7ba1-4e9b-b9ef-cb05a7a334d3",
   "metadata": {},
   "outputs": [
    {
     "data": {
      "text/plain": [
       "Species\n",
       "Dog        2\n",
       "Duck       1\n",
       "Human      1\n",
       "Lion       1\n",
       "Mermaid    1\n",
       "Mouse      2\n",
       "dtype: int64"
      ]
     },
     "execution_count": 90,
     "metadata": {},
     "output_type": "execute_result"
    }
   ],
   "source": [
    "species_counts = df_disney.groupby('Species').size() #raggruppa i personaggi per ogni specie e li conta\n",
    "species_counts"
   ]
  },
  {
   "cell_type": "code",
   "execution_count": 91,
   "id": "4e92a7ef-7a28-43e5-88b8-3435f4c723e1",
   "metadata": {},
   "outputs": [
    {
     "data": {
      "text/plain": [
       "Species\n",
       "Dog        2\n",
       "Duck       1\n",
       "Human      0\n",
       "Lion       1\n",
       "Mermaid    1\n",
       "Mouse      2\n",
       "Name: Age, dtype: int64"
      ]
     },
     "execution_count": 91,
     "metadata": {},
     "output_type": "execute_result"
    }
   ],
   "source": [
    "# Raggruppare per 'Species' e contare i valori non nulli per ogni specie\n",
    "grouped_species_counts = df_disney.groupby('Species')['Age'].count()\n",
    "grouped_species_counts"
   ]
  },
  {
   "cell_type": "markdown",
   "id": "651e6e9b-b0db-4752-8239-b8fe753ddc38",
   "metadata": {},
   "source": [
    "## ORDINARE"
   ]
  },
  {
   "cell_type": "code",
   "execution_count": 94,
   "id": "8619e44f-b146-40be-aad7-6a2ce682bead",
   "metadata": {},
   "outputs": [
    {
     "data": {
      "text/html": [
       "<div>\n",
       "<style scoped>\n",
       "    .dataframe tbody tr th:only-of-type {\n",
       "        vertical-align: middle;\n",
       "    }\n",
       "\n",
       "    .dataframe tbody tr th {\n",
       "        vertical-align: top;\n",
       "    }\n",
       "\n",
       "    .dataframe thead th {\n",
       "        text-align: right;\n",
       "    }\n",
       "</style>\n",
       "<table border=\"1\" class=\"dataframe\">\n",
       "  <thead>\n",
       "    <tr style=\"text-align: right;\">\n",
       "      <th></th>\n",
       "      <th>Name</th>\n",
       "      <th>Age</th>\n",
       "      <th>City</th>\n",
       "      <th>Species</th>\n",
       "      <th>Role</th>\n",
       "    </tr>\n",
       "  </thead>\n",
       "  <tbody>\n",
       "    <tr>\n",
       "      <th>0</th>\n",
       "      <td>Ariel</td>\n",
       "      <td>30.0</td>\n",
       "      <td>Atlantica</td>\n",
       "      <td>Mermaid</td>\n",
       "      <td>Main Character</td>\n",
       "    </tr>\n",
       "    <tr>\n",
       "      <th>1</th>\n",
       "      <td>Cinderella</td>\n",
       "      <td>NaN</td>\n",
       "      <td>Castle</td>\n",
       "      <td>Human</td>\n",
       "      <td>Main Character</td>\n",
       "    </tr>\n",
       "    <tr>\n",
       "      <th>2</th>\n",
       "      <td>Donald Duck</td>\n",
       "      <td>86.0</td>\n",
       "      <td>Duckburg</td>\n",
       "      <td>Duck</td>\n",
       "      <td>Main Character</td>\n",
       "    </tr>\n",
       "    <tr>\n",
       "      <th>3</th>\n",
       "      <td>Goofy</td>\n",
       "      <td>85.0</td>\n",
       "      <td>None</td>\n",
       "      <td>Dog</td>\n",
       "      <td>Supporting Character</td>\n",
       "    </tr>\n",
       "    <tr>\n",
       "      <th>4</th>\n",
       "      <td>Mickey Mouse</td>\n",
       "      <td>92.0</td>\n",
       "      <td>Disneyland</td>\n",
       "      <td>Mouse</td>\n",
       "      <td>Main Character</td>\n",
       "    </tr>\n",
       "    <tr>\n",
       "      <th>5</th>\n",
       "      <td>Minnie Mouse</td>\n",
       "      <td>90.0</td>\n",
       "      <td>Disneyland</td>\n",
       "      <td>Mouse</td>\n",
       "      <td>Main Character</td>\n",
       "    </tr>\n",
       "    <tr>\n",
       "      <th>6</th>\n",
       "      <td>Pluto</td>\n",
       "      <td>91.0</td>\n",
       "      <td>Mickeytown</td>\n",
       "      <td>Dog</td>\n",
       "      <td>Supporting Character</td>\n",
       "    </tr>\n",
       "    <tr>\n",
       "      <th>7</th>\n",
       "      <td>Simba</td>\n",
       "      <td>25.0</td>\n",
       "      <td>Pride Rock</td>\n",
       "      <td>Lion</td>\n",
       "      <td>Main Character</td>\n",
       "    </tr>\n",
       "  </tbody>\n",
       "</table>\n",
       "</div>"
      ],
      "text/plain": [
       "           Name   Age        City  Species                  Role\n",
       "0         Ariel  30.0   Atlantica  Mermaid        Main Character\n",
       "1    Cinderella   NaN      Castle    Human        Main Character\n",
       "2   Donald Duck  86.0    Duckburg     Duck        Main Character\n",
       "3         Goofy  85.0        None      Dog  Supporting Character\n",
       "4  Mickey Mouse  92.0  Disneyland    Mouse        Main Character\n",
       "5  Minnie Mouse  90.0  Disneyland    Mouse        Main Character\n",
       "6         Pluto  91.0  Mickeytown      Dog  Supporting Character\n",
       "7         Simba  25.0  Pride Rock     Lion        Main Character"
      ]
     },
     "execution_count": 94,
     "metadata": {},
     "output_type": "execute_result"
    }
   ],
   "source": [
    "df_disney.sort_values(by='Name',ignore_index=True)  # Ordina per una colonna specifica"
   ]
  },
  {
   "cell_type": "code",
   "execution_count": 95,
   "id": "923e48be-d453-4436-90dd-023651670568",
   "metadata": {},
   "outputs": [
    {
     "data": {
      "text/html": [
       "<div>\n",
       "<style scoped>\n",
       "    .dataframe tbody tr th:only-of-type {\n",
       "        vertical-align: middle;\n",
       "    }\n",
       "\n",
       "    .dataframe tbody tr th {\n",
       "        vertical-align: top;\n",
       "    }\n",
       "\n",
       "    .dataframe thead th {\n",
       "        text-align: right;\n",
       "    }\n",
       "</style>\n",
       "<table border=\"1\" class=\"dataframe\">\n",
       "  <thead>\n",
       "    <tr style=\"text-align: right;\">\n",
       "      <th></th>\n",
       "      <th>Name</th>\n",
       "      <th>Age</th>\n",
       "      <th>City</th>\n",
       "      <th>Species</th>\n",
       "      <th>Role</th>\n",
       "    </tr>\n",
       "  </thead>\n",
       "  <tbody>\n",
       "    <tr>\n",
       "      <th>6</th>\n",
       "      <td>Simba</td>\n",
       "      <td>25.0</td>\n",
       "      <td>Pride Rock</td>\n",
       "      <td>Lion</td>\n",
       "      <td>Main Character</td>\n",
       "    </tr>\n",
       "    <tr>\n",
       "      <th>4</th>\n",
       "      <td>Pluto</td>\n",
       "      <td>91.0</td>\n",
       "      <td>Mickeytown</td>\n",
       "      <td>Dog</td>\n",
       "      <td>Supporting Character</td>\n",
       "    </tr>\n",
       "    <tr>\n",
       "      <th>1</th>\n",
       "      <td>Minnie Mouse</td>\n",
       "      <td>90.0</td>\n",
       "      <td>Disneyland</td>\n",
       "      <td>Mouse</td>\n",
       "      <td>Main Character</td>\n",
       "    </tr>\n",
       "    <tr>\n",
       "      <th>0</th>\n",
       "      <td>Mickey Mouse</td>\n",
       "      <td>92.0</td>\n",
       "      <td>Disneyland</td>\n",
       "      <td>Mouse</td>\n",
       "      <td>Main Character</td>\n",
       "    </tr>\n",
       "    <tr>\n",
       "      <th>3</th>\n",
       "      <td>Goofy</td>\n",
       "      <td>85.0</td>\n",
       "      <td>None</td>\n",
       "      <td>Dog</td>\n",
       "      <td>Supporting Character</td>\n",
       "    </tr>\n",
       "    <tr>\n",
       "      <th>2</th>\n",
       "      <td>Donald Duck</td>\n",
       "      <td>86.0</td>\n",
       "      <td>Duckburg</td>\n",
       "      <td>Duck</td>\n",
       "      <td>Main Character</td>\n",
       "    </tr>\n",
       "    <tr>\n",
       "      <th>5</th>\n",
       "      <td>Cinderella</td>\n",
       "      <td>NaN</td>\n",
       "      <td>Castle</td>\n",
       "      <td>Human</td>\n",
       "      <td>Main Character</td>\n",
       "    </tr>\n",
       "    <tr>\n",
       "      <th>7</th>\n",
       "      <td>Ariel</td>\n",
       "      <td>30.0</td>\n",
       "      <td>Atlantica</td>\n",
       "      <td>Mermaid</td>\n",
       "      <td>Main Character</td>\n",
       "    </tr>\n",
       "  </tbody>\n",
       "</table>\n",
       "</div>"
      ],
      "text/plain": [
       "           Name   Age        City  Species                  Role\n",
       "6         Simba  25.0  Pride Rock     Lion        Main Character\n",
       "4         Pluto  91.0  Mickeytown      Dog  Supporting Character\n",
       "1  Minnie Mouse  90.0  Disneyland    Mouse        Main Character\n",
       "0  Mickey Mouse  92.0  Disneyland    Mouse        Main Character\n",
       "3         Goofy  85.0        None      Dog  Supporting Character\n",
       "2   Donald Duck  86.0    Duckburg     Duck        Main Character\n",
       "5    Cinderella   NaN      Castle    Human        Main Character\n",
       "7         Ariel  30.0   Atlantica  Mermaid        Main Character"
      ]
     },
     "execution_count": 95,
     "metadata": {},
     "output_type": "execute_result"
    }
   ],
   "source": [
    "# ascending=False\n",
    "df_disney.sort_values(by='Name', ascending=False)  # Ordina per una colonna specifica"
   ]
  },
  {
   "cell_type": "code",
   "execution_count": 96,
   "id": "5b6d314c-0e0f-4b15-9a7f-a2cc21021728",
   "metadata": {},
   "outputs": [
    {
     "data": {
      "text/html": [
       "<div>\n",
       "<style scoped>\n",
       "    .dataframe tbody tr th:only-of-type {\n",
       "        vertical-align: middle;\n",
       "    }\n",
       "\n",
       "    .dataframe tbody tr th {\n",
       "        vertical-align: top;\n",
       "    }\n",
       "\n",
       "    .dataframe thead th {\n",
       "        text-align: right;\n",
       "    }\n",
       "</style>\n",
       "<table border=\"1\" class=\"dataframe\">\n",
       "  <thead>\n",
       "    <tr style=\"text-align: right;\">\n",
       "      <th></th>\n",
       "      <th>Name</th>\n",
       "      <th>Age</th>\n",
       "      <th>City</th>\n",
       "      <th>Species</th>\n",
       "      <th>Role</th>\n",
       "    </tr>\n",
       "  </thead>\n",
       "  <tbody>\n",
       "    <tr>\n",
       "      <th>3</th>\n",
       "      <td>Goofy</td>\n",
       "      <td>85.0</td>\n",
       "      <td>None</td>\n",
       "      <td>Dog</td>\n",
       "      <td>Supporting Character</td>\n",
       "    </tr>\n",
       "    <tr>\n",
       "      <th>4</th>\n",
       "      <td>Pluto</td>\n",
       "      <td>91.0</td>\n",
       "      <td>Mickeytown</td>\n",
       "      <td>Dog</td>\n",
       "      <td>Supporting Character</td>\n",
       "    </tr>\n",
       "    <tr>\n",
       "      <th>2</th>\n",
       "      <td>Donald Duck</td>\n",
       "      <td>86.0</td>\n",
       "      <td>Duckburg</td>\n",
       "      <td>Duck</td>\n",
       "      <td>Main Character</td>\n",
       "    </tr>\n",
       "    <tr>\n",
       "      <th>5</th>\n",
       "      <td>Cinderella</td>\n",
       "      <td>NaN</td>\n",
       "      <td>Castle</td>\n",
       "      <td>Human</td>\n",
       "      <td>Main Character</td>\n",
       "    </tr>\n",
       "    <tr>\n",
       "      <th>6</th>\n",
       "      <td>Simba</td>\n",
       "      <td>25.0</td>\n",
       "      <td>Pride Rock</td>\n",
       "      <td>Lion</td>\n",
       "      <td>Main Character</td>\n",
       "    </tr>\n",
       "    <tr>\n",
       "      <th>7</th>\n",
       "      <td>Ariel</td>\n",
       "      <td>30.0</td>\n",
       "      <td>Atlantica</td>\n",
       "      <td>Mermaid</td>\n",
       "      <td>Main Character</td>\n",
       "    </tr>\n",
       "    <tr>\n",
       "      <th>0</th>\n",
       "      <td>Mickey Mouse</td>\n",
       "      <td>92.0</td>\n",
       "      <td>Disneyland</td>\n",
       "      <td>Mouse</td>\n",
       "      <td>Main Character</td>\n",
       "    </tr>\n",
       "    <tr>\n",
       "      <th>1</th>\n",
       "      <td>Minnie Mouse</td>\n",
       "      <td>90.0</td>\n",
       "      <td>Disneyland</td>\n",
       "      <td>Mouse</td>\n",
       "      <td>Main Character</td>\n",
       "    </tr>\n",
       "  </tbody>\n",
       "</table>\n",
       "</div>"
      ],
      "text/plain": [
       "           Name   Age        City  Species                  Role\n",
       "3         Goofy  85.0        None      Dog  Supporting Character\n",
       "4         Pluto  91.0  Mickeytown      Dog  Supporting Character\n",
       "2   Donald Duck  86.0    Duckburg     Duck        Main Character\n",
       "5    Cinderella   NaN      Castle    Human        Main Character\n",
       "6         Simba  25.0  Pride Rock     Lion        Main Character\n",
       "7         Ariel  30.0   Atlantica  Mermaid        Main Character\n",
       "0  Mickey Mouse  92.0  Disneyland    Mouse        Main Character\n",
       "1  Minnie Mouse  90.0  Disneyland    Mouse        Main Character"
      ]
     },
     "execution_count": 96,
     "metadata": {},
     "output_type": "execute_result"
    }
   ],
   "source": [
    "df_disney.sort_values(by=['Species', 'Name'])  # Ordina prima per Column1 e poi per Column2"
   ]
  },
  {
   "cell_type": "code",
   "execution_count": 97,
   "id": "a856ed72-3ad1-4d93-b79b-d2e4c2ef0788",
   "metadata": {},
   "outputs": [
    {
     "data": {
      "text/html": [
       "<div>\n",
       "<style scoped>\n",
       "    .dataframe tbody tr th:only-of-type {\n",
       "        vertical-align: middle;\n",
       "    }\n",
       "\n",
       "    .dataframe tbody tr th {\n",
       "        vertical-align: top;\n",
       "    }\n",
       "\n",
       "    .dataframe thead th {\n",
       "        text-align: right;\n",
       "    }\n",
       "</style>\n",
       "<table border=\"1\" class=\"dataframe\">\n",
       "  <thead>\n",
       "    <tr style=\"text-align: right;\">\n",
       "      <th></th>\n",
       "      <th>Name</th>\n",
       "      <th>Age</th>\n",
       "      <th>City</th>\n",
       "      <th>Species</th>\n",
       "      <th>Role</th>\n",
       "    </tr>\n",
       "  </thead>\n",
       "  <tbody>\n",
       "    <tr>\n",
       "      <th>4</th>\n",
       "      <td>Pluto</td>\n",
       "      <td>91.0</td>\n",
       "      <td>Mickeytown</td>\n",
       "      <td>Dog</td>\n",
       "      <td>Supporting Character</td>\n",
       "    </tr>\n",
       "    <tr>\n",
       "      <th>3</th>\n",
       "      <td>Goofy</td>\n",
       "      <td>85.0</td>\n",
       "      <td>None</td>\n",
       "      <td>Dog</td>\n",
       "      <td>Supporting Character</td>\n",
       "    </tr>\n",
       "    <tr>\n",
       "      <th>2</th>\n",
       "      <td>Donald Duck</td>\n",
       "      <td>86.0</td>\n",
       "      <td>Duckburg</td>\n",
       "      <td>Duck</td>\n",
       "      <td>Main Character</td>\n",
       "    </tr>\n",
       "    <tr>\n",
       "      <th>5</th>\n",
       "      <td>Cinderella</td>\n",
       "      <td>NaN</td>\n",
       "      <td>Castle</td>\n",
       "      <td>Human</td>\n",
       "      <td>Main Character</td>\n",
       "    </tr>\n",
       "    <tr>\n",
       "      <th>6</th>\n",
       "      <td>Simba</td>\n",
       "      <td>25.0</td>\n",
       "      <td>Pride Rock</td>\n",
       "      <td>Lion</td>\n",
       "      <td>Main Character</td>\n",
       "    </tr>\n",
       "    <tr>\n",
       "      <th>7</th>\n",
       "      <td>Ariel</td>\n",
       "      <td>30.0</td>\n",
       "      <td>Atlantica</td>\n",
       "      <td>Mermaid</td>\n",
       "      <td>Main Character</td>\n",
       "    </tr>\n",
       "    <tr>\n",
       "      <th>0</th>\n",
       "      <td>Mickey Mouse</td>\n",
       "      <td>92.0</td>\n",
       "      <td>Disneyland</td>\n",
       "      <td>Mouse</td>\n",
       "      <td>Main Character</td>\n",
       "    </tr>\n",
       "    <tr>\n",
       "      <th>1</th>\n",
       "      <td>Minnie Mouse</td>\n",
       "      <td>90.0</td>\n",
       "      <td>Disneyland</td>\n",
       "      <td>Mouse</td>\n",
       "      <td>Main Character</td>\n",
       "    </tr>\n",
       "  </tbody>\n",
       "</table>\n",
       "</div>"
      ],
      "text/plain": [
       "           Name   Age        City  Species                  Role\n",
       "4         Pluto  91.0  Mickeytown      Dog  Supporting Character\n",
       "3         Goofy  85.0        None      Dog  Supporting Character\n",
       "2   Donald Duck  86.0    Duckburg     Duck        Main Character\n",
       "5    Cinderella   NaN      Castle    Human        Main Character\n",
       "6         Simba  25.0  Pride Rock     Lion        Main Character\n",
       "7         Ariel  30.0   Atlantica  Mermaid        Main Character\n",
       "0  Mickey Mouse  92.0  Disneyland    Mouse        Main Character\n",
       "1  Minnie Mouse  90.0  Disneyland    Mouse        Main Character"
      ]
     },
     "execution_count": 97,
     "metadata": {},
     "output_type": "execute_result"
    }
   ],
   "source": [
    "df_disney.sort_values(by=['Species', 'Age'], ascending=[True, False])\n"
   ]
  },
  {
   "cell_type": "code",
   "execution_count": 98,
   "id": "53ab8bcc-a5b6-4bae-bd28-163470f267d2",
   "metadata": {},
   "outputs": [
    {
     "data": {
      "text/html": [
       "<div>\n",
       "<style scoped>\n",
       "    .dataframe tbody tr th:only-of-type {\n",
       "        vertical-align: middle;\n",
       "    }\n",
       "\n",
       "    .dataframe tbody tr th {\n",
       "        vertical-align: top;\n",
       "    }\n",
       "\n",
       "    .dataframe thead th {\n",
       "        text-align: right;\n",
       "    }\n",
       "</style>\n",
       "<table border=\"1\" class=\"dataframe\">\n",
       "  <thead>\n",
       "    <tr style=\"text-align: right;\">\n",
       "      <th></th>\n",
       "      <th>Name</th>\n",
       "      <th>Age</th>\n",
       "      <th>City</th>\n",
       "      <th>Species</th>\n",
       "      <th>Role</th>\n",
       "    </tr>\n",
       "  </thead>\n",
       "  <tbody>\n",
       "    <tr>\n",
       "      <th>0</th>\n",
       "      <td>Mickey Mouse</td>\n",
       "      <td>92.0</td>\n",
       "      <td>Disneyland</td>\n",
       "      <td>Mouse</td>\n",
       "      <td>Main Character</td>\n",
       "    </tr>\n",
       "    <tr>\n",
       "      <th>1</th>\n",
       "      <td>Pluto</td>\n",
       "      <td>91.0</td>\n",
       "      <td>Mickeytown</td>\n",
       "      <td>Dog</td>\n",
       "      <td>Supporting Character</td>\n",
       "    </tr>\n",
       "    <tr>\n",
       "      <th>2</th>\n",
       "      <td>Minnie Mouse</td>\n",
       "      <td>90.0</td>\n",
       "      <td>Disneyland</td>\n",
       "      <td>Mouse</td>\n",
       "      <td>Main Character</td>\n",
       "    </tr>\n",
       "    <tr>\n",
       "      <th>3</th>\n",
       "      <td>Donald Duck</td>\n",
       "      <td>86.0</td>\n",
       "      <td>Duckburg</td>\n",
       "      <td>Duck</td>\n",
       "      <td>Main Character</td>\n",
       "    </tr>\n",
       "    <tr>\n",
       "      <th>4</th>\n",
       "      <td>Goofy</td>\n",
       "      <td>85.0</td>\n",
       "      <td>None</td>\n",
       "      <td>Dog</td>\n",
       "      <td>Supporting Character</td>\n",
       "    </tr>\n",
       "    <tr>\n",
       "      <th>5</th>\n",
       "      <td>Ariel</td>\n",
       "      <td>30.0</td>\n",
       "      <td>Atlantica</td>\n",
       "      <td>Mermaid</td>\n",
       "      <td>Main Character</td>\n",
       "    </tr>\n",
       "    <tr>\n",
       "      <th>6</th>\n",
       "      <td>Simba</td>\n",
       "      <td>25.0</td>\n",
       "      <td>Pride Rock</td>\n",
       "      <td>Lion</td>\n",
       "      <td>Main Character</td>\n",
       "    </tr>\n",
       "    <tr>\n",
       "      <th>7</th>\n",
       "      <td>Cinderella</td>\n",
       "      <td>NaN</td>\n",
       "      <td>Castle</td>\n",
       "      <td>Human</td>\n",
       "      <td>Main Character</td>\n",
       "    </tr>\n",
       "  </tbody>\n",
       "</table>\n",
       "</div>"
      ],
      "text/plain": [
       "           Name   Age        City  Species                  Role\n",
       "0  Mickey Mouse  92.0  Disneyland    Mouse        Main Character\n",
       "1         Pluto  91.0  Mickeytown      Dog  Supporting Character\n",
       "2  Minnie Mouse  90.0  Disneyland    Mouse        Main Character\n",
       "3   Donald Duck  86.0    Duckburg     Duck        Main Character\n",
       "4         Goofy  85.0        None      Dog  Supporting Character\n",
       "5         Ariel  30.0   Atlantica  Mermaid        Main Character\n",
       "6         Simba  25.0  Pride Rock     Lion        Main Character\n",
       "7    Cinderella   NaN      Castle    Human        Main Character"
      ]
     },
     "execution_count": 98,
     "metadata": {},
     "output_type": "execute_result"
    }
   ],
   "source": [
    "df_disney.sort_values(by='Age', ascending=False, ignore_index=True)\n"
   ]
  },
  {
   "cell_type": "code",
   "execution_count": 99,
   "id": "2979a4c2-66b0-4e32-b243-b1665f4a15de",
   "metadata": {},
   "outputs": [
    {
     "data": {
      "text/html": [
       "<div>\n",
       "<style scoped>\n",
       "    .dataframe tbody tr th:only-of-type {\n",
       "        vertical-align: middle;\n",
       "    }\n",
       "\n",
       "    .dataframe tbody tr th {\n",
       "        vertical-align: top;\n",
       "    }\n",
       "\n",
       "    .dataframe thead th {\n",
       "        text-align: right;\n",
       "    }\n",
       "</style>\n",
       "<table border=\"1\" class=\"dataframe\">\n",
       "  <thead>\n",
       "    <tr style=\"text-align: right;\">\n",
       "      <th></th>\n",
       "      <th>Name</th>\n",
       "      <th>Age</th>\n",
       "    </tr>\n",
       "  </thead>\n",
       "  <tbody>\n",
       "    <tr>\n",
       "      <th>0</th>\n",
       "      <td>Mickey Mouse</td>\n",
       "      <td>92.0</td>\n",
       "    </tr>\n",
       "    <tr>\n",
       "      <th>1</th>\n",
       "      <td>Pluto</td>\n",
       "      <td>91.0</td>\n",
       "    </tr>\n",
       "    <tr>\n",
       "      <th>2</th>\n",
       "      <td>Minnie Mouse</td>\n",
       "      <td>90.0</td>\n",
       "    </tr>\n",
       "    <tr>\n",
       "      <th>3</th>\n",
       "      <td>Donald Duck</td>\n",
       "      <td>86.0</td>\n",
       "    </tr>\n",
       "    <tr>\n",
       "      <th>4</th>\n",
       "      <td>Goofy</td>\n",
       "      <td>85.0</td>\n",
       "    </tr>\n",
       "    <tr>\n",
       "      <th>5</th>\n",
       "      <td>Ariel</td>\n",
       "      <td>30.0</td>\n",
       "    </tr>\n",
       "    <tr>\n",
       "      <th>6</th>\n",
       "      <td>Simba</td>\n",
       "      <td>25.0</td>\n",
       "    </tr>\n",
       "    <tr>\n",
       "      <th>7</th>\n",
       "      <td>Cinderella</td>\n",
       "      <td>NaN</td>\n",
       "    </tr>\n",
       "  </tbody>\n",
       "</table>\n",
       "</div>"
      ],
      "text/plain": [
       "           Name   Age\n",
       "0  Mickey Mouse  92.0\n",
       "1         Pluto  91.0\n",
       "2  Minnie Mouse  90.0\n",
       "3   Donald Duck  86.0\n",
       "4         Goofy  85.0\n",
       "5         Ariel  30.0\n",
       "6         Simba  25.0\n",
       "7    Cinderella   NaN"
      ]
     },
     "execution_count": 99,
     "metadata": {},
     "output_type": "execute_result"
    }
   ],
   "source": [
    "# Ordinamento in base alla colonna 'Age' in ordine decrescente\n",
    "df_sorted = df_disney.sort_values(by='Age', ascending=False, ignore_index=True)\n",
    "\n",
    "# Selezionare solo alcune colonne dopo l'ordinamento\n",
    "colonnes_sceltes = ['Name', 'Age']\n",
    "\n",
    "df_sorted_selected = df_sorted[colonnes_sceltes]\n",
    "df_sorted_selected"
   ]
  },
  {
   "cell_type": "code",
   "execution_count": 100,
   "id": "d40506c4-0312-4e3c-8720-7c0ebe562baa",
   "metadata": {},
   "outputs": [
    {
     "data": {
      "text/html": [
       "<div>\n",
       "<style scoped>\n",
       "    .dataframe tbody tr th:only-of-type {\n",
       "        vertical-align: middle;\n",
       "    }\n",
       "\n",
       "    .dataframe tbody tr th {\n",
       "        vertical-align: top;\n",
       "    }\n",
       "\n",
       "    .dataframe thead th {\n",
       "        text-align: right;\n",
       "    }\n",
       "</style>\n",
       "<table border=\"1\" class=\"dataframe\">\n",
       "  <thead>\n",
       "    <tr style=\"text-align: right;\">\n",
       "      <th></th>\n",
       "      <th>Name</th>\n",
       "      <th>Age</th>\n",
       "      <th>City</th>\n",
       "      <th>Species</th>\n",
       "      <th>Role</th>\n",
       "    </tr>\n",
       "  </thead>\n",
       "  <tbody>\n",
       "    <tr>\n",
       "      <th>0</th>\n",
       "      <td>False</td>\n",
       "      <td>False</td>\n",
       "      <td>False</td>\n",
       "      <td>False</td>\n",
       "      <td>False</td>\n",
       "    </tr>\n",
       "    <tr>\n",
       "      <th>1</th>\n",
       "      <td>False</td>\n",
       "      <td>False</td>\n",
       "      <td>False</td>\n",
       "      <td>False</td>\n",
       "      <td>False</td>\n",
       "    </tr>\n",
       "    <tr>\n",
       "      <th>2</th>\n",
       "      <td>False</td>\n",
       "      <td>False</td>\n",
       "      <td>False</td>\n",
       "      <td>False</td>\n",
       "      <td>False</td>\n",
       "    </tr>\n",
       "    <tr>\n",
       "      <th>3</th>\n",
       "      <td>False</td>\n",
       "      <td>False</td>\n",
       "      <td>True</td>\n",
       "      <td>False</td>\n",
       "      <td>False</td>\n",
       "    </tr>\n",
       "    <tr>\n",
       "      <th>4</th>\n",
       "      <td>False</td>\n",
       "      <td>False</td>\n",
       "      <td>False</td>\n",
       "      <td>False</td>\n",
       "      <td>False</td>\n",
       "    </tr>\n",
       "    <tr>\n",
       "      <th>5</th>\n",
       "      <td>False</td>\n",
       "      <td>True</td>\n",
       "      <td>False</td>\n",
       "      <td>False</td>\n",
       "      <td>False</td>\n",
       "    </tr>\n",
       "    <tr>\n",
       "      <th>6</th>\n",
       "      <td>False</td>\n",
       "      <td>False</td>\n",
       "      <td>False</td>\n",
       "      <td>False</td>\n",
       "      <td>False</td>\n",
       "    </tr>\n",
       "    <tr>\n",
       "      <th>7</th>\n",
       "      <td>False</td>\n",
       "      <td>False</td>\n",
       "      <td>False</td>\n",
       "      <td>False</td>\n",
       "      <td>False</td>\n",
       "    </tr>\n",
       "  </tbody>\n",
       "</table>\n",
       "</div>"
      ],
      "text/plain": [
       "    Name    Age   City  Species   Role\n",
       "0  False  False  False    False  False\n",
       "1  False  False  False    False  False\n",
       "2  False  False  False    False  False\n",
       "3  False  False   True    False  False\n",
       "4  False  False  False    False  False\n",
       "5  False   True  False    False  False\n",
       "6  False  False  False    False  False\n",
       "7  False  False  False    False  False"
      ]
     },
     "execution_count": 100,
     "metadata": {},
     "output_type": "execute_result"
    }
   ],
   "source": [
    "df_disney.isnull()"
   ]
  },
  {
   "cell_type": "code",
   "execution_count": 101,
   "id": "e33dba5f-6888-4ef9-a3c1-d7fd06373b2c",
   "metadata": {},
   "outputs": [
    {
     "data": {
      "text/plain": [
       "Name       0\n",
       "Age        1\n",
       "City       1\n",
       "Species    0\n",
       "Role       0\n",
       "dtype: int64"
      ]
     },
     "execution_count": 101,
     "metadata": {},
     "output_type": "execute_result"
    }
   ],
   "source": [
    "df_disney.isnull().sum() #Sum null values"
   ]
  },
  {
   "cell_type": "code",
   "execution_count": 102,
   "id": "7a4052ed-703e-4269-b7ee-b07a94237106",
   "metadata": {},
   "outputs": [
    {
     "data": {
      "text/html": [
       "<div>\n",
       "<style scoped>\n",
       "    .dataframe tbody tr th:only-of-type {\n",
       "        vertical-align: middle;\n",
       "    }\n",
       "\n",
       "    .dataframe tbody tr th {\n",
       "        vertical-align: top;\n",
       "    }\n",
       "\n",
       "    .dataframe thead th {\n",
       "        text-align: right;\n",
       "    }\n",
       "</style>\n",
       "<table border=\"1\" class=\"dataframe\">\n",
       "  <thead>\n",
       "    <tr style=\"text-align: right;\">\n",
       "      <th></th>\n",
       "      <th>Name</th>\n",
       "      <th>Age</th>\n",
       "      <th>City</th>\n",
       "      <th>Species</th>\n",
       "      <th>Role</th>\n",
       "    </tr>\n",
       "  </thead>\n",
       "  <tbody>\n",
       "    <tr>\n",
       "      <th>0</th>\n",
       "      <td>Mickey Mouse</td>\n",
       "      <td>92.0</td>\n",
       "      <td>Disneyland</td>\n",
       "      <td>Mouse</td>\n",
       "      <td>Main Character</td>\n",
       "    </tr>\n",
       "    <tr>\n",
       "      <th>1</th>\n",
       "      <td>Minnie Mouse</td>\n",
       "      <td>90.0</td>\n",
       "      <td>Disneyland</td>\n",
       "      <td>Mouse</td>\n",
       "      <td>Main Character</td>\n",
       "    </tr>\n",
       "    <tr>\n",
       "      <th>2</th>\n",
       "      <td>Donald Duck</td>\n",
       "      <td>86.0</td>\n",
       "      <td>Duckburg</td>\n",
       "      <td>Duck</td>\n",
       "      <td>Main Character</td>\n",
       "    </tr>\n",
       "    <tr>\n",
       "      <th>4</th>\n",
       "      <td>Pluto</td>\n",
       "      <td>91.0</td>\n",
       "      <td>Mickeytown</td>\n",
       "      <td>Dog</td>\n",
       "      <td>Supporting Character</td>\n",
       "    </tr>\n",
       "    <tr>\n",
       "      <th>6</th>\n",
       "      <td>Simba</td>\n",
       "      <td>25.0</td>\n",
       "      <td>Pride Rock</td>\n",
       "      <td>Lion</td>\n",
       "      <td>Main Character</td>\n",
       "    </tr>\n",
       "    <tr>\n",
       "      <th>7</th>\n",
       "      <td>Ariel</td>\n",
       "      <td>30.0</td>\n",
       "      <td>Atlantica</td>\n",
       "      <td>Mermaid</td>\n",
       "      <td>Main Character</td>\n",
       "    </tr>\n",
       "  </tbody>\n",
       "</table>\n",
       "</div>"
      ],
      "text/plain": [
       "           Name   Age        City  Species                  Role\n",
       "0  Mickey Mouse  92.0  Disneyland    Mouse        Main Character\n",
       "1  Minnie Mouse  90.0  Disneyland    Mouse        Main Character\n",
       "2   Donald Duck  86.0    Duckburg     Duck        Main Character\n",
       "4         Pluto  91.0  Mickeytown      Dog  Supporting Character\n",
       "6         Simba  25.0  Pride Rock     Lion        Main Character\n",
       "7         Ariel  30.0   Atlantica  Mermaid        Main Character"
      ]
     },
     "execution_count": 102,
     "metadata": {},
     "output_type": "execute_result"
    }
   ],
   "source": [
    "# Filtraggio dei dati per escludere le righe con valori nulli\n",
    "df_no_nulls = df_disney.dropna()\n",
    "df_no_nulls"
   ]
  },
  {
   "cell_type": "code",
   "execution_count": null,
   "id": "a5b85c27-b6c1-4507-a552-43112cdc6366",
   "metadata": {},
   "outputs": [],
   "source": []
  }
 ],
 "metadata": {
  "kernelspec": {
   "display_name": "Python 3 (ipykernel)",
   "language": "python",
   "name": "python3"
  },
  "language_info": {
   "codemirror_mode": {
    "name": "ipython",
    "version": 3
   },
   "file_extension": ".py",
   "mimetype": "text/x-python",
   "name": "python",
   "nbconvert_exporter": "python",
   "pygments_lexer": "ipython3",
   "version": "3.11.7"
  }
 },
 "nbformat": 4,
 "nbformat_minor": 5
}
